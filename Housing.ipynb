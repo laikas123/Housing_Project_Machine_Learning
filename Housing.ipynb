{
 "cells": [
  {
   "cell_type": "code",
   "execution_count": 9,
   "metadata": {},
   "outputs": [],
   "source": [
    "import os \n",
    "import tarfile \n",
    "import urllib\n",
    "\n",
    "DOWNLOAD_ROOT = \"https://raw.githubusercontent.com/ageron/handson-ml2/master/\" \n",
    "HOUSING_PATH = os.path.join(\"datasets\", \"housing\") \n",
    "HOUSING_URL = DOWNLOAD_ROOT + \"datasets/housing/housing.tgz\" \n",
    "\n",
    "def fetch_housing_data( housing_url = HOUSING_URL, housing_path = HOUSING_PATH): \n",
    "\tos.makedirs( housing_path, exist_ok = True) \n",
    "\ttgz_path = os.path.join( housing_path, \"housing.tgz\") \n",
    "\turllib.request.urlretrieve( housing_url, tgz_path) \n",
    "\thousing_tgz = tarfile.open( tgz_path) \n",
    "\thousing_tgz.extractall( path = housing_path) \n",
    "\thousing_tgz.close()\n",
    "    \n",
    "\n",
    "fetch_housing_data()\n",
    "\n"
   ]
  },
  {
   "cell_type": "code",
   "execution_count": 10,
   "metadata": {},
   "outputs": [
    {
     "data": {
      "text/html": [
       "<div>\n",
       "<style scoped>\n",
       "    .dataframe tbody tr th:only-of-type {\n",
       "        vertical-align: middle;\n",
       "    }\n",
       "\n",
       "    .dataframe tbody tr th {\n",
       "        vertical-align: top;\n",
       "    }\n",
       "\n",
       "    .dataframe thead th {\n",
       "        text-align: right;\n",
       "    }\n",
       "</style>\n",
       "<table border=\"1\" class=\"dataframe\">\n",
       "  <thead>\n",
       "    <tr style=\"text-align: right;\">\n",
       "      <th></th>\n",
       "      <th>longitude</th>\n",
       "      <th>latitude</th>\n",
       "      <th>housing_median_age</th>\n",
       "      <th>total_rooms</th>\n",
       "      <th>total_bedrooms</th>\n",
       "      <th>population</th>\n",
       "      <th>households</th>\n",
       "      <th>median_income</th>\n",
       "      <th>median_house_value</th>\n",
       "      <th>ocean_proximity</th>\n",
       "    </tr>\n",
       "  </thead>\n",
       "  <tbody>\n",
       "    <tr>\n",
       "      <th>0</th>\n",
       "      <td>-122.23</td>\n",
       "      <td>37.88</td>\n",
       "      <td>41.0</td>\n",
       "      <td>880.0</td>\n",
       "      <td>129.0</td>\n",
       "      <td>322.0</td>\n",
       "      <td>126.0</td>\n",
       "      <td>8.3252</td>\n",
       "      <td>452600.0</td>\n",
       "      <td>NEAR BAY</td>\n",
       "    </tr>\n",
       "    <tr>\n",
       "      <th>1</th>\n",
       "      <td>-122.22</td>\n",
       "      <td>37.86</td>\n",
       "      <td>21.0</td>\n",
       "      <td>7099.0</td>\n",
       "      <td>1106.0</td>\n",
       "      <td>2401.0</td>\n",
       "      <td>1138.0</td>\n",
       "      <td>8.3014</td>\n",
       "      <td>358500.0</td>\n",
       "      <td>NEAR BAY</td>\n",
       "    </tr>\n",
       "    <tr>\n",
       "      <th>2</th>\n",
       "      <td>-122.24</td>\n",
       "      <td>37.85</td>\n",
       "      <td>52.0</td>\n",
       "      <td>1467.0</td>\n",
       "      <td>190.0</td>\n",
       "      <td>496.0</td>\n",
       "      <td>177.0</td>\n",
       "      <td>7.2574</td>\n",
       "      <td>352100.0</td>\n",
       "      <td>NEAR BAY</td>\n",
       "    </tr>\n",
       "    <tr>\n",
       "      <th>3</th>\n",
       "      <td>-122.25</td>\n",
       "      <td>37.85</td>\n",
       "      <td>52.0</td>\n",
       "      <td>1274.0</td>\n",
       "      <td>235.0</td>\n",
       "      <td>558.0</td>\n",
       "      <td>219.0</td>\n",
       "      <td>5.6431</td>\n",
       "      <td>341300.0</td>\n",
       "      <td>NEAR BAY</td>\n",
       "    </tr>\n",
       "    <tr>\n",
       "      <th>4</th>\n",
       "      <td>-122.25</td>\n",
       "      <td>37.85</td>\n",
       "      <td>52.0</td>\n",
       "      <td>1627.0</td>\n",
       "      <td>280.0</td>\n",
       "      <td>565.0</td>\n",
       "      <td>259.0</td>\n",
       "      <td>3.8462</td>\n",
       "      <td>342200.0</td>\n",
       "      <td>NEAR BAY</td>\n",
       "    </tr>\n",
       "    <tr>\n",
       "      <th>...</th>\n",
       "      <td>...</td>\n",
       "      <td>...</td>\n",
       "      <td>...</td>\n",
       "      <td>...</td>\n",
       "      <td>...</td>\n",
       "      <td>...</td>\n",
       "      <td>...</td>\n",
       "      <td>...</td>\n",
       "      <td>...</td>\n",
       "      <td>...</td>\n",
       "    </tr>\n",
       "    <tr>\n",
       "      <th>20635</th>\n",
       "      <td>-121.09</td>\n",
       "      <td>39.48</td>\n",
       "      <td>25.0</td>\n",
       "      <td>1665.0</td>\n",
       "      <td>374.0</td>\n",
       "      <td>845.0</td>\n",
       "      <td>330.0</td>\n",
       "      <td>1.5603</td>\n",
       "      <td>78100.0</td>\n",
       "      <td>INLAND</td>\n",
       "    </tr>\n",
       "    <tr>\n",
       "      <th>20636</th>\n",
       "      <td>-121.21</td>\n",
       "      <td>39.49</td>\n",
       "      <td>18.0</td>\n",
       "      <td>697.0</td>\n",
       "      <td>150.0</td>\n",
       "      <td>356.0</td>\n",
       "      <td>114.0</td>\n",
       "      <td>2.5568</td>\n",
       "      <td>77100.0</td>\n",
       "      <td>INLAND</td>\n",
       "    </tr>\n",
       "    <tr>\n",
       "      <th>20637</th>\n",
       "      <td>-121.22</td>\n",
       "      <td>39.43</td>\n",
       "      <td>17.0</td>\n",
       "      <td>2254.0</td>\n",
       "      <td>485.0</td>\n",
       "      <td>1007.0</td>\n",
       "      <td>433.0</td>\n",
       "      <td>1.7000</td>\n",
       "      <td>92300.0</td>\n",
       "      <td>INLAND</td>\n",
       "    </tr>\n",
       "    <tr>\n",
       "      <th>20638</th>\n",
       "      <td>-121.32</td>\n",
       "      <td>39.43</td>\n",
       "      <td>18.0</td>\n",
       "      <td>1860.0</td>\n",
       "      <td>409.0</td>\n",
       "      <td>741.0</td>\n",
       "      <td>349.0</td>\n",
       "      <td>1.8672</td>\n",
       "      <td>84700.0</td>\n",
       "      <td>INLAND</td>\n",
       "    </tr>\n",
       "    <tr>\n",
       "      <th>20639</th>\n",
       "      <td>-121.24</td>\n",
       "      <td>39.37</td>\n",
       "      <td>16.0</td>\n",
       "      <td>2785.0</td>\n",
       "      <td>616.0</td>\n",
       "      <td>1387.0</td>\n",
       "      <td>530.0</td>\n",
       "      <td>2.3886</td>\n",
       "      <td>89400.0</td>\n",
       "      <td>INLAND</td>\n",
       "    </tr>\n",
       "  </tbody>\n",
       "</table>\n",
       "<p>20640 rows × 10 columns</p>\n",
       "</div>"
      ],
      "text/plain": [
       "       longitude  latitude  housing_median_age  total_rooms  total_bedrooms  \\\n",
       "0        -122.23     37.88                41.0        880.0           129.0   \n",
       "1        -122.22     37.86                21.0       7099.0          1106.0   \n",
       "2        -122.24     37.85                52.0       1467.0           190.0   \n",
       "3        -122.25     37.85                52.0       1274.0           235.0   \n",
       "4        -122.25     37.85                52.0       1627.0           280.0   \n",
       "...          ...       ...                 ...          ...             ...   \n",
       "20635    -121.09     39.48                25.0       1665.0           374.0   \n",
       "20636    -121.21     39.49                18.0        697.0           150.0   \n",
       "20637    -121.22     39.43                17.0       2254.0           485.0   \n",
       "20638    -121.32     39.43                18.0       1860.0           409.0   \n",
       "20639    -121.24     39.37                16.0       2785.0           616.0   \n",
       "\n",
       "       population  households  median_income  median_house_value  \\\n",
       "0           322.0       126.0         8.3252            452600.0   \n",
       "1          2401.0      1138.0         8.3014            358500.0   \n",
       "2           496.0       177.0         7.2574            352100.0   \n",
       "3           558.0       219.0         5.6431            341300.0   \n",
       "4           565.0       259.0         3.8462            342200.0   \n",
       "...           ...         ...            ...                 ...   \n",
       "20635       845.0       330.0         1.5603             78100.0   \n",
       "20636       356.0       114.0         2.5568             77100.0   \n",
       "20637      1007.0       433.0         1.7000             92300.0   \n",
       "20638       741.0       349.0         1.8672             84700.0   \n",
       "20639      1387.0       530.0         2.3886             89400.0   \n",
       "\n",
       "      ocean_proximity  \n",
       "0            NEAR BAY  \n",
       "1            NEAR BAY  \n",
       "2            NEAR BAY  \n",
       "3            NEAR BAY  \n",
       "4            NEAR BAY  \n",
       "...               ...  \n",
       "20635          INLAND  \n",
       "20636          INLAND  \n",
       "20637          INLAND  \n",
       "20638          INLAND  \n",
       "20639          INLAND  \n",
       "\n",
       "[20640 rows x 10 columns]"
      ]
     },
     "execution_count": 10,
     "metadata": {},
     "output_type": "execute_result"
    }
   ],
   "source": [
    "import pandas as pd\n",
    "\n",
    "def load_housing_data(housing_path=HOUSING_PATH):\n",
    "    csv_path = os.path.join(housing_path, \"housing.csv\")\n",
    "    return pd.read_csv(csv_path)\n",
    "\n",
    "load_housing_data()"
   ]
  },
  {
   "cell_type": "code",
   "execution_count": 11,
   "metadata": {},
   "outputs": [
    {
     "data": {
      "text/html": [
       "<div>\n",
       "<style scoped>\n",
       "    .dataframe tbody tr th:only-of-type {\n",
       "        vertical-align: middle;\n",
       "    }\n",
       "\n",
       "    .dataframe tbody tr th {\n",
       "        vertical-align: top;\n",
       "    }\n",
       "\n",
       "    .dataframe thead th {\n",
       "        text-align: right;\n",
       "    }\n",
       "</style>\n",
       "<table border=\"1\" class=\"dataframe\">\n",
       "  <thead>\n",
       "    <tr style=\"text-align: right;\">\n",
       "      <th></th>\n",
       "      <th>longitude</th>\n",
       "      <th>latitude</th>\n",
       "      <th>housing_median_age</th>\n",
       "      <th>total_rooms</th>\n",
       "      <th>total_bedrooms</th>\n",
       "      <th>population</th>\n",
       "      <th>households</th>\n",
       "      <th>median_income</th>\n",
       "      <th>median_house_value</th>\n",
       "      <th>ocean_proximity</th>\n",
       "    </tr>\n",
       "  </thead>\n",
       "  <tbody>\n",
       "    <tr>\n",
       "      <th>0</th>\n",
       "      <td>-122.23</td>\n",
       "      <td>37.88</td>\n",
       "      <td>41.0</td>\n",
       "      <td>880.0</td>\n",
       "      <td>129.0</td>\n",
       "      <td>322.0</td>\n",
       "      <td>126.0</td>\n",
       "      <td>8.3252</td>\n",
       "      <td>452600.0</td>\n",
       "      <td>NEAR BAY</td>\n",
       "    </tr>\n",
       "    <tr>\n",
       "      <th>1</th>\n",
       "      <td>-122.22</td>\n",
       "      <td>37.86</td>\n",
       "      <td>21.0</td>\n",
       "      <td>7099.0</td>\n",
       "      <td>1106.0</td>\n",
       "      <td>2401.0</td>\n",
       "      <td>1138.0</td>\n",
       "      <td>8.3014</td>\n",
       "      <td>358500.0</td>\n",
       "      <td>NEAR BAY</td>\n",
       "    </tr>\n",
       "    <tr>\n",
       "      <th>2</th>\n",
       "      <td>-122.24</td>\n",
       "      <td>37.85</td>\n",
       "      <td>52.0</td>\n",
       "      <td>1467.0</td>\n",
       "      <td>190.0</td>\n",
       "      <td>496.0</td>\n",
       "      <td>177.0</td>\n",
       "      <td>7.2574</td>\n",
       "      <td>352100.0</td>\n",
       "      <td>NEAR BAY</td>\n",
       "    </tr>\n",
       "    <tr>\n",
       "      <th>3</th>\n",
       "      <td>-122.25</td>\n",
       "      <td>37.85</td>\n",
       "      <td>52.0</td>\n",
       "      <td>1274.0</td>\n",
       "      <td>235.0</td>\n",
       "      <td>558.0</td>\n",
       "      <td>219.0</td>\n",
       "      <td>5.6431</td>\n",
       "      <td>341300.0</td>\n",
       "      <td>NEAR BAY</td>\n",
       "    </tr>\n",
       "    <tr>\n",
       "      <th>4</th>\n",
       "      <td>-122.25</td>\n",
       "      <td>37.85</td>\n",
       "      <td>52.0</td>\n",
       "      <td>1627.0</td>\n",
       "      <td>280.0</td>\n",
       "      <td>565.0</td>\n",
       "      <td>259.0</td>\n",
       "      <td>3.8462</td>\n",
       "      <td>342200.0</td>\n",
       "      <td>NEAR BAY</td>\n",
       "    </tr>\n",
       "  </tbody>\n",
       "</table>\n",
       "</div>"
      ],
      "text/plain": [
       "   longitude  latitude  housing_median_age  total_rooms  total_bedrooms  \\\n",
       "0    -122.23     37.88                41.0        880.0           129.0   \n",
       "1    -122.22     37.86                21.0       7099.0          1106.0   \n",
       "2    -122.24     37.85                52.0       1467.0           190.0   \n",
       "3    -122.25     37.85                52.0       1274.0           235.0   \n",
       "4    -122.25     37.85                52.0       1627.0           280.0   \n",
       "\n",
       "   population  households  median_income  median_house_value ocean_proximity  \n",
       "0       322.0       126.0         8.3252            452600.0        NEAR BAY  \n",
       "1      2401.0      1138.0         8.3014            358500.0        NEAR BAY  \n",
       "2       496.0       177.0         7.2574            352100.0        NEAR BAY  \n",
       "3       558.0       219.0         5.6431            341300.0        NEAR BAY  \n",
       "4       565.0       259.0         3.8462            342200.0        NEAR BAY  "
      ]
     },
     "execution_count": 11,
     "metadata": {},
     "output_type": "execute_result"
    }
   ],
   "source": [
    "import pandas as pd\n",
    "\n",
    "def load_housing_data(housing_path=HOUSING_PATH):\n",
    "    csv_path = os.path.join(housing_path, \"housing.csv\")\n",
    "    return pd.read_csv(csv_path)\n",
    "\n",
    "housing = load_housing_data()\n",
    "\n",
    "housing.head()\n"
   ]
  },
  {
   "cell_type": "code",
   "execution_count": 12,
   "metadata": {},
   "outputs": [
    {
     "name": "stdout",
     "output_type": "stream",
     "text": [
      "<class 'pandas.core.frame.DataFrame'>\n",
      "RangeIndex: 20640 entries, 0 to 20639\n",
      "Data columns (total 10 columns):\n",
      " #   Column              Non-Null Count  Dtype  \n",
      "---  ------              --------------  -----  \n",
      " 0   longitude           20640 non-null  float64\n",
      " 1   latitude            20640 non-null  float64\n",
      " 2   housing_median_age  20640 non-null  float64\n",
      " 3   total_rooms         20640 non-null  float64\n",
      " 4   total_bedrooms      20433 non-null  float64\n",
      " 5   population          20640 non-null  float64\n",
      " 6   households          20640 non-null  float64\n",
      " 7   median_income       20640 non-null  float64\n",
      " 8   median_house_value  20640 non-null  float64\n",
      " 9   ocean_proximity     20640 non-null  object \n",
      "dtypes: float64(9), object(1)\n",
      "memory usage: 1.6+ MB\n"
     ]
    }
   ],
   "source": [
    "import pandas as pd\n",
    "\n",
    "def load_housing_data(housing_path=HOUSING_PATH):\n",
    "    csv_path = os.path.join(housing_path, \"housing.csv\")\n",
    "    return pd.read_csv(csv_path)\n",
    "\n",
    "housing = load_housing_data()\n",
    "\n",
    "housing.info()\n"
   ]
  },
  {
   "cell_type": "code",
   "execution_count": 13,
   "metadata": {},
   "outputs": [
    {
     "data": {
      "text/plain": [
       "<1H OCEAN     9136\n",
       "INLAND        6551\n",
       "NEAR OCEAN    2658\n",
       "NEAR BAY      2290\n",
       "ISLAND           5\n",
       "Name: ocean_proximity, dtype: int64"
      ]
     },
     "execution_count": 13,
     "metadata": {},
     "output_type": "execute_result"
    }
   ],
   "source": [
    "import pandas as pd\n",
    "\n",
    "def load_housing_data(housing_path=HOUSING_PATH):\n",
    "    csv_path = os.path.join(housing_path, \"housing.csv\")\n",
    "    return pd.read_csv(csv_path)\n",
    "\n",
    "housing = load_housing_data()\n",
    "\n",
    "housing[\"ocean_proximity\"]. value_counts()"
   ]
  },
  {
   "cell_type": "code",
   "execution_count": 14,
   "metadata": {},
   "outputs": [
    {
     "data": {
      "text/html": [
       "<div>\n",
       "<style scoped>\n",
       "    .dataframe tbody tr th:only-of-type {\n",
       "        vertical-align: middle;\n",
       "    }\n",
       "\n",
       "    .dataframe tbody tr th {\n",
       "        vertical-align: top;\n",
       "    }\n",
       "\n",
       "    .dataframe thead th {\n",
       "        text-align: right;\n",
       "    }\n",
       "</style>\n",
       "<table border=\"1\" class=\"dataframe\">\n",
       "  <thead>\n",
       "    <tr style=\"text-align: right;\">\n",
       "      <th></th>\n",
       "      <th>longitude</th>\n",
       "      <th>latitude</th>\n",
       "      <th>housing_median_age</th>\n",
       "      <th>total_rooms</th>\n",
       "      <th>total_bedrooms</th>\n",
       "      <th>population</th>\n",
       "      <th>households</th>\n",
       "      <th>median_income</th>\n",
       "      <th>median_house_value</th>\n",
       "    </tr>\n",
       "  </thead>\n",
       "  <tbody>\n",
       "    <tr>\n",
       "      <th>count</th>\n",
       "      <td>20640.000000</td>\n",
       "      <td>20640.000000</td>\n",
       "      <td>20640.000000</td>\n",
       "      <td>20640.000000</td>\n",
       "      <td>20433.000000</td>\n",
       "      <td>20640.000000</td>\n",
       "      <td>20640.000000</td>\n",
       "      <td>20640.000000</td>\n",
       "      <td>20640.000000</td>\n",
       "    </tr>\n",
       "    <tr>\n",
       "      <th>mean</th>\n",
       "      <td>-119.569704</td>\n",
       "      <td>35.631861</td>\n",
       "      <td>28.639486</td>\n",
       "      <td>2635.763081</td>\n",
       "      <td>537.870553</td>\n",
       "      <td>1425.476744</td>\n",
       "      <td>499.539680</td>\n",
       "      <td>3.870671</td>\n",
       "      <td>206855.816909</td>\n",
       "    </tr>\n",
       "    <tr>\n",
       "      <th>std</th>\n",
       "      <td>2.003532</td>\n",
       "      <td>2.135952</td>\n",
       "      <td>12.585558</td>\n",
       "      <td>2181.615252</td>\n",
       "      <td>421.385070</td>\n",
       "      <td>1132.462122</td>\n",
       "      <td>382.329753</td>\n",
       "      <td>1.899822</td>\n",
       "      <td>115395.615874</td>\n",
       "    </tr>\n",
       "    <tr>\n",
       "      <th>min</th>\n",
       "      <td>-124.350000</td>\n",
       "      <td>32.540000</td>\n",
       "      <td>1.000000</td>\n",
       "      <td>2.000000</td>\n",
       "      <td>1.000000</td>\n",
       "      <td>3.000000</td>\n",
       "      <td>1.000000</td>\n",
       "      <td>0.499900</td>\n",
       "      <td>14999.000000</td>\n",
       "    </tr>\n",
       "    <tr>\n",
       "      <th>25%</th>\n",
       "      <td>-121.800000</td>\n",
       "      <td>33.930000</td>\n",
       "      <td>18.000000</td>\n",
       "      <td>1447.750000</td>\n",
       "      <td>296.000000</td>\n",
       "      <td>787.000000</td>\n",
       "      <td>280.000000</td>\n",
       "      <td>2.563400</td>\n",
       "      <td>119600.000000</td>\n",
       "    </tr>\n",
       "    <tr>\n",
       "      <th>50%</th>\n",
       "      <td>-118.490000</td>\n",
       "      <td>34.260000</td>\n",
       "      <td>29.000000</td>\n",
       "      <td>2127.000000</td>\n",
       "      <td>435.000000</td>\n",
       "      <td>1166.000000</td>\n",
       "      <td>409.000000</td>\n",
       "      <td>3.534800</td>\n",
       "      <td>179700.000000</td>\n",
       "    </tr>\n",
       "    <tr>\n",
       "      <th>75%</th>\n",
       "      <td>-118.010000</td>\n",
       "      <td>37.710000</td>\n",
       "      <td>37.000000</td>\n",
       "      <td>3148.000000</td>\n",
       "      <td>647.000000</td>\n",
       "      <td>1725.000000</td>\n",
       "      <td>605.000000</td>\n",
       "      <td>4.743250</td>\n",
       "      <td>264725.000000</td>\n",
       "    </tr>\n",
       "    <tr>\n",
       "      <th>max</th>\n",
       "      <td>-114.310000</td>\n",
       "      <td>41.950000</td>\n",
       "      <td>52.000000</td>\n",
       "      <td>39320.000000</td>\n",
       "      <td>6445.000000</td>\n",
       "      <td>35682.000000</td>\n",
       "      <td>6082.000000</td>\n",
       "      <td>15.000100</td>\n",
       "      <td>500001.000000</td>\n",
       "    </tr>\n",
       "  </tbody>\n",
       "</table>\n",
       "</div>"
      ],
      "text/plain": [
       "          longitude      latitude  housing_median_age   total_rooms  \\\n",
       "count  20640.000000  20640.000000        20640.000000  20640.000000   \n",
       "mean    -119.569704     35.631861           28.639486   2635.763081   \n",
       "std        2.003532      2.135952           12.585558   2181.615252   \n",
       "min     -124.350000     32.540000            1.000000      2.000000   \n",
       "25%     -121.800000     33.930000           18.000000   1447.750000   \n",
       "50%     -118.490000     34.260000           29.000000   2127.000000   \n",
       "75%     -118.010000     37.710000           37.000000   3148.000000   \n",
       "max     -114.310000     41.950000           52.000000  39320.000000   \n",
       "\n",
       "       total_bedrooms    population    households  median_income  \\\n",
       "count    20433.000000  20640.000000  20640.000000   20640.000000   \n",
       "mean       537.870553   1425.476744    499.539680       3.870671   \n",
       "std        421.385070   1132.462122    382.329753       1.899822   \n",
       "min          1.000000      3.000000      1.000000       0.499900   \n",
       "25%        296.000000    787.000000    280.000000       2.563400   \n",
       "50%        435.000000   1166.000000    409.000000       3.534800   \n",
       "75%        647.000000   1725.000000    605.000000       4.743250   \n",
       "max       6445.000000  35682.000000   6082.000000      15.000100   \n",
       "\n",
       "       median_house_value  \n",
       "count        20640.000000  \n",
       "mean        206855.816909  \n",
       "std         115395.615874  \n",
       "min          14999.000000  \n",
       "25%         119600.000000  \n",
       "50%         179700.000000  \n",
       "75%         264725.000000  \n",
       "max         500001.000000  "
      ]
     },
     "execution_count": 14,
     "metadata": {},
     "output_type": "execute_result"
    }
   ],
   "source": [
    "import pandas as pd\n",
    "\n",
    "def load_housing_data(housing_path=HOUSING_PATH):\n",
    "    csv_path = os.path.join(housing_path, \"housing.csv\")\n",
    "    return pd.read_csv(csv_path)\n",
    "\n",
    "housing = load_housing_data()\n",
    "\n",
    "housing.describe()"
   ]
  },
  {
   "cell_type": "code",
   "execution_count": 15,
   "metadata": {},
   "outputs": [
    {
     "ename": "NameError",
     "evalue": "name 'save_fig' is not defined",
     "output_type": "error",
     "traceback": [
      "\u001b[1;31m---------------------------------------------------------------------------\u001b[0m",
      "\u001b[1;31mNameError\u001b[0m                                 Traceback (most recent call last)",
      "\u001b[1;32m<ipython-input-15-0bc29ae8247b>\u001b[0m in \u001b[0;36m<module>\u001b[1;34m\u001b[0m\n\u001b[0;32m     10\u001b[0m \u001b[1;32mimport\u001b[0m \u001b[0mmatplotlib\u001b[0m\u001b[1;33m.\u001b[0m\u001b[0mpyplot\u001b[0m \u001b[1;32mas\u001b[0m \u001b[0mplt\u001b[0m\u001b[1;33m\u001b[0m\u001b[1;33m\u001b[0m\u001b[0m\n\u001b[0;32m     11\u001b[0m \u001b[0mhousing\u001b[0m\u001b[1;33m.\u001b[0m\u001b[0mhist\u001b[0m\u001b[1;33m(\u001b[0m\u001b[0mbins\u001b[0m\u001b[1;33m=\u001b[0m\u001b[1;36m50\u001b[0m\u001b[1;33m,\u001b[0m \u001b[0mfigsize\u001b[0m\u001b[1;33m=\u001b[0m\u001b[1;33m(\u001b[0m\u001b[1;36m11\u001b[0m\u001b[1;33m,\u001b[0m\u001b[1;36m8\u001b[0m\u001b[1;33m)\u001b[0m\u001b[1;33m)\u001b[0m\u001b[1;33m\u001b[0m\u001b[1;33m\u001b[0m\u001b[0m\n\u001b[1;32m---> 12\u001b[1;33m \u001b[0msave_fig\u001b[0m\u001b[1;33m(\u001b[0m\u001b[1;34m\"attribute_histogram_plots\"\u001b[0m\u001b[1;33m)\u001b[0m\u001b[1;33m\u001b[0m\u001b[1;33m\u001b[0m\u001b[0m\n\u001b[0m\u001b[0;32m     13\u001b[0m \u001b[0mplt\u001b[0m\u001b[1;33m.\u001b[0m\u001b[0mshow\u001b[0m\u001b[1;33m(\u001b[0m\u001b[1;33m)\u001b[0m\u001b[1;33m\u001b[0m\u001b[1;33m\u001b[0m\u001b[0m\n",
      "\u001b[1;31mNameError\u001b[0m: name 'save_fig' is not defined"
     ]
    },
    {
     "data": {
      "image/png": "[encoded data removed]",
      "text/plain": [
       "<Figure size 792x576 with 9 Axes>"
      ]
     },
     "metadata": {
      "needs_background": "light"
     },
     "output_type": "display_data"
    }
   ],
   "source": [
    "import pandas as pd\n",
    "\n",
    "def load_housing_data(housing_path=HOUSING_PATH):\n",
    "    csv_path = os.path.join(housing_path, \"housing.csv\")\n",
    "    return pd.read_csv(csv_path)\n",
    "\n",
    "housing = load_housing_data()\n",
    "\n",
    "%matplotlib inline \n",
    "import matplotlib.pyplot as plt\n",
    "housing.hist(bins=50, figsize=(11,8))\n",
    "save_fig(\"attribute_histogram_plots\")\n",
    "plt.show()"
   ]
  },
  {
   "cell_type": "code",
   "execution_count": null,
   "metadata": {},
   "outputs": [],
   "source": [
    "import pandas as pd\n",
    "\n",
    "def load_housing_data(housing_path=HOUSING_PATH):\n",
    "    csv_path = os.path.join(housing_path, \"housing.csv\")\n",
    "    return pd.read_csv(csv_path)\n",
    "\n",
    "housing = load_housing_data()\n",
    "\n",
    "%matplotlib inline \n",
    "import matplotlib.pyplot as plt \n",
    "housing.hist( bins = 50, figsize =( 20,15)) \n",
    "plt.show()\n",
    "\n"
   ]
  },
  {
   "cell_type": "code",
   "execution_count": null,
   "metadata": {},
   "outputs": [],
   "source": [
    "import numpy as np\n",
    "import numpy.random as rnd\n",
    "\n",
    "# to make this notebook's output identical at every run\n",
    "# this makes sure the training set and test set are always the same\n",
    "# which in turn makes sure of something more important...\n",
    "# that the learning algorithm doesn't see the test set! \n",
    "rnd.seed(42) \n",
    "\n",
    "def split_train_test(data, test_ratio):\n",
    "    #creates randomly ordered unique indices spanning length of data\n",
    "    shuffled_indices = rnd.permutation(len(data))\n",
    "    #in our case 20% * the total elements\n",
    "    test_set_size = int(len(data) * test_ratio)\n",
    "    #get the train and test sets using random indices and proper sizes\n",
    "    test_indices = shuffled_indices[:test_set_size]\n",
    "    train_indices = shuffled_indices[test_set_size:]\n",
    "    return data.iloc[train_indices], data.iloc[test_indices]\n",
    "\n",
    "train_set, test_set = split_train_test(housing, 0.2)\n",
    "print(len(train_set), len(test_set))"
   ]
  },
  {
   "cell_type": "code",
   "execution_count": null,
   "metadata": {},
   "outputs": [],
   "source": [
    "from zlib import crc32 \n",
    "import numpy as np\n",
    "import numpy.random as rnd\n",
    "\n",
    "#this function returns a boolean\n",
    "#using crc32(np.int64(identifier)) & 0xffffffff\n",
    "#this ensures the same identifier returns the same hash so\n",
    "#that way the test set is always the same since the hash is always the same\n",
    "#as is the boolean returned which is what organizes the set\n",
    "#new incoming data has an 80% chance of hashing itself to training\n",
    "#and 20% of hashing into test\n",
    "#this makes sure the test data is always the same\n",
    "#same with the training data, and that new data will be ensured to land\n",
    "#with correct probability into one of these areas\n",
    "def test_set_check(identifier, test_ratio): \n",
    "    return crc32(np.int64(identifier)) & 0xffffffff < test_ratio * 2** 32 \n",
    "\n",
    "#our test_ratio is 0.2\n",
    "#the id is just the row since data has no unique identifier\n",
    "def split_train_test_by_id(data, test_ratio, id_column): \n",
    "    ids = data[id_column] \n",
    "    #for each id apply the hash that is bitwise and operated on\n",
    "    in_test_set = ids.apply(lambda id_:test_set_check(id_,test_ratio)) \n",
    "    return data.loc[~in_test_set], data.loc[ in_test_set]\n",
    "\n",
    "def split_train_test(data, test_ratio):\n",
    "    #creates randomly ordered unique indices spanning length of data\n",
    "    shuffled_indices = rnd.permutation(len(data))\n",
    "    #in our case 20% * the total elements\n",
    "    test_set_size = int(len(data) * test_ratio)\n",
    "    #get the train and test sets using random indices and proper sizes\n",
    "    test_indices = shuffled_indices[:test_set_size]\n",
    "    train_indices = shuffled_indices[test_set_size:]\n",
    "    return data.iloc[train_indices], data.iloc[test_indices]\n",
    "\n",
    "\n",
    "def load_housing_data(housing_path=HOUSING_PATH):\n",
    "    csv_path = os.path.join(housing_path, \"housing.csv\")\n",
    "    return pd.read_csv(csv_path)\n",
    "\n",
    "housing = load_housing_data()\n",
    "\n",
    "# adds an ` index ` column\n",
    "housing_with_id = housing.reset_index()\n",
    "\n",
    "train_set, test_set = split_train_test_by_id(housing_with_id, 0.2, \"index\")\n",
    "\n",
    "\n",
    "\n",
    "\n"
   ]
  },
  {
   "cell_type": "code",
   "execution_count": null,
   "metadata": {},
   "outputs": [],
   "source": [
    "from zlib import crc32 \n",
    "import numpy as np\n",
    "import numpy.random as rnd\n",
    "\n",
    "#this function returns a boolean\n",
    "#using crc32(np.int64(identifier)) & 0xffffffff\n",
    "#this ensures the same identifier returns the same hash so\n",
    "#that way the test set is always the same since the hash is always the same\n",
    "#as is the boolean returned which is what organizes the set\n",
    "#new incoming data has an 80% chance of hashing itself to training\n",
    "#and 20% of hashing into test\n",
    "#this makes sure the test data is always the same\n",
    "#same with the training data, and that new data will be ensured to land\n",
    "#with correct probability into one of these areas\n",
    "def test_set_check(identifier, test_ratio): \n",
    "    return crc32(np.int64(identifier)) & 0xffffffff < test_ratio * 2** 32 \n",
    "\n",
    "#our test_ratio is 0.2\n",
    "#the id is just the row since data has no unique identifier\n",
    "def split_train_test_by_id(data, test_ratio, id_column): \n",
    "    ids = data[id_column] \n",
    "    #for each id apply the hash that is bitwise and operated on\n",
    "    in_test_set = ids.apply(lambda id_:test_set_check(id_,test_ratio)) \n",
    "    return data.loc[~in_test_set], data.loc[ in_test_set]\n",
    "\n",
    "def split_train_test(data, test_ratio):\n",
    "    #creates randomly ordered unique indices spanning length of data\n",
    "    shuffled_indices = rnd.permutation(len(data))\n",
    "    #in our case 20% * the total elements\n",
    "    test_set_size = int(len(data) * test_ratio)\n",
    "    #get the train and test sets using random indices and proper sizes\n",
    "    test_indices = shuffled_indices[:test_set_size]\n",
    "    train_indices = shuffled_indices[test_set_size:]\n",
    "    return data.iloc[train_indices], data.iloc[test_indices]\n",
    "\n",
    "\n",
    "def load_housing_data(housing_path=HOUSING_PATH):\n",
    "    csv_path = os.path.join(housing_path, \"housing.csv\")\n",
    "    return pd.read_csv(csv_path)\n",
    "\n",
    "housing = load_housing_data()\n",
    "\n",
    "# adds an ` index ` column\n",
    "housing_with_id = housing.reset_index()\n",
    "\n",
    "train_set, test_set = split_train_test_by_id(housing_with_id, 0.2, \"index\")\n",
    "\n"
   ]
  },
  {
   "cell_type": "code",
   "execution_count": null,
   "metadata": {},
   "outputs": [],
   "source": [
    "from zlib import crc32 \n",
    "import numpy as np\n",
    "import numpy.random as rnd\n",
    "\n",
    "#this function returns a boolean\n",
    "#using crc32(np.int64(identifier)) & 0xffffffff\n",
    "#this ensures the same identifier returns the same hash so\n",
    "#that way the test set is always the same since the hash is always the same\n",
    "#as is the boolean returned which is what organizes the set\n",
    "#new incoming data has an 80% chance of hashing itself to training\n",
    "#and 20% of hashing into test\n",
    "#this makes sure the test data is always the same\n",
    "#same with the training data, and that new data will be ensured to land\n",
    "#with correct probability into one of these areas\n",
    "def test_set_check(identifier, test_ratio): \n",
    "    return crc32(np.int64(identifier)) & 0xffffffff < test_ratio * 2** 32 \n",
    "\n",
    "#our test_ratio is 0.2\n",
    "#the id is just the row since data has no unique identifier\n",
    "def split_train_test_by_id(data, test_ratio, id_column): \n",
    "    ids = data[id_column] \n",
    "    #for each id apply the hash that is bitwise and operated on\n",
    "    in_test_set = ids.apply(lambda id_:test_set_check(id_,test_ratio)) \n",
    "    return data.loc[~in_test_set], data.loc[ in_test_set]\n",
    "\n",
    "def split_train_test(data, test_ratio):\n",
    "    #creates randomly ordered unique indices spanning length of data\n",
    "    shuffled_indices = rnd.permutation(len(data))\n",
    "    #in our case 20% * the total elements\n",
    "    test_set_size = int(len(data) * test_ratio)\n",
    "    #get the train and test sets using random indices and proper sizes\n",
    "    test_indices = shuffled_indices[:test_set_size]\n",
    "    train_indices = shuffled_indices[test_set_size:]\n",
    "    return data.iloc[train_indices], data.iloc[test_indices]\n",
    "\n",
    "\n",
    "def load_housing_data(housing_path=HOUSING_PATH):\n",
    "    csv_path = os.path.join(housing_path, \"housing.csv\")\n",
    "    return pd.read_csv(csv_path)\n",
    "\n",
    "housing = load_housing_data()\n",
    "\n",
    "\n",
    "\n",
    "train_set, test_set = split_train_test_by_id(housing_with_id, 0.2, \"index\")\n",
    "\n",
    "print(len(train_set), len(test_set))"
   ]
  },
  {
   "cell_type": "code",
   "execution_count": null,
   "metadata": {},
   "outputs": [],
   "source": [
    "import pandas as pd\n",
    "\n",
    "def load_housing_data(housing_path=HOUSING_PATH):\n",
    "    csv_path = os.path.join(housing_path, \"housing.csv\")\n",
    "    return pd.read_csv(csv_path)\n",
    "\n",
    "load_housing_data()"
   ]
  },
  {
   "cell_type": "code",
   "execution_count": null,
   "metadata": {},
   "outputs": [],
   "source": [
    "from zlib import crc32 \n",
    "import numpy as np\n",
    "import numpy.random as rnd\n",
    "\n",
    "#this function returns a boolean\n",
    "#using crc32(np.int64(identifier)) & 0xffffffff\n",
    "#this ensures the same identifier returns the same hash so\n",
    "#that way the test set is always the same since the hash is always the same\n",
    "#as is the boolean returned which is what organizes the set\n",
    "#new incoming data has an 80% chance of hashing itself to training\n",
    "#and 20% of hashing into test\n",
    "#this makes sure the test data is always the same\n",
    "#same with the training data, and that new data will be ensured to land\n",
    "#with correct probability into one of these areas\n",
    "def test_set_check(identifier, test_ratio): \n",
    "    return crc32(np.int64(identifier)) & 0xffffffff < test_ratio * 2** 32 \n",
    "\n",
    "#our test_ratio is 0.2\n",
    "#the id is just the row since data has no unique identifier\n",
    "def split_train_test_by_id(data, test_ratio, id_column): \n",
    "    ids = data[id_column] \n",
    "    #for each id apply the hash that is bitwise and operated on\n",
    "    in_test_set = ids.apply(lambda id_:test_set_check(id_,test_ratio)) \n",
    "    return data.loc[~in_test_set], data.loc[ in_test_set]\n",
    "\n",
    "def split_train_test(data, test_ratio):\n",
    "    #creates randomly ordered unique indices spanning length of data\n",
    "    shuffled_indices = rnd.permutation(len(data))\n",
    "    #in our case 20% * the total elements\n",
    "    test_set_size = int(len(data) * test_ratio)\n",
    "    #get the train and test sets using random indices and proper sizes\n",
    "    test_indices = shuffled_indices[:test_set_size]\n",
    "    train_indices = shuffled_indices[test_set_size:]\n",
    "    return data.iloc[train_indices], data.iloc[test_indices]\n",
    "\n",
    "\n",
    "def load_housing_data(housing_path=HOUSING_PATH):\n",
    "    csv_path = os.path.join(housing_path, \"housing.csv\")\n",
    "    return pd.read_csv(csv_path)\n",
    "\n",
    "housing = load_housing_data()\n",
    "\n",
    "# adds an ` index ` column\n",
    "housing_with_id = housing.reset_index()\n",
    "\n",
    "housing_with_id.info()"
   ]
  },
  {
   "cell_type": "code",
   "execution_count": null,
   "metadata": {},
   "outputs": [],
   "source": [
    "from zlib import crc32 \n",
    "import numpy as np\n",
    "import numpy.random as rnd\n",
    "\n",
    "#this function returns a boolean\n",
    "#using crc32(np.int64(identifier)) & 0xffffffff\n",
    "#this ensures the same identifier returns the same hash so\n",
    "#that way the test set is always the same since the hash is always the same\n",
    "#as is the boolean returned which is what organizes the set\n",
    "#new incoming data has an 80% chance of hashing itself to training\n",
    "#and 20% of hashing into test\n",
    "#this makes sure the test data is always the same\n",
    "#same with the training data, and that new data will be ensured to land\n",
    "#with correct probability into one of these areas\n",
    "def test_set_check(identifier, test_ratio): \n",
    "    return crc32(np.int64(identifier)) & 0xffffffff < test_ratio * 2** 32 \n",
    "\n",
    "#our test_ratio is 0.2\n",
    "#the id is just the row since data has no unique identifier\n",
    "def split_train_test_by_id(data, test_ratio, id_column): \n",
    "    ids = data[id_column] \n",
    "    #for each id apply the hash that is bitwise and operated on\n",
    "    in_test_set = ids.apply(lambda id_:test_set_check(id_,test_ratio)) \n",
    "    return data.loc[~in_test_set], data.loc[ in_test_set]\n",
    "\n",
    "def split_train_test(data, test_ratio):\n",
    "    #creates randomly ordered unique indices spanning length of data\n",
    "    shuffled_indices = rnd.permutation(len(data))\n",
    "    #in our case 20% * the total elements\n",
    "    test_set_size = int(len(data) * test_ratio)\n",
    "    #get the train and test sets using random indices and proper sizes\n",
    "    test_indices = shuffled_indices[:test_set_size]\n",
    "    train_indices = shuffled_indices[test_set_size:]\n",
    "    return data.iloc[train_indices], data.iloc[test_indices]\n",
    "\n",
    "\n",
    "def load_housing_data(housing_path=HOUSING_PATH):\n",
    "    csv_path = os.path.join(housing_path, \"housing.csv\")\n",
    "    return pd.read_csv(csv_path)\n",
    "\n",
    "housing = load_housing_data()\n",
    "\n",
    "# adds an ` index ` column\n",
    "housing_with_id = housing.reset_index()\n",
    "\n",
    "housing_with_id.info()"
   ]
  },
  {
   "cell_type": "code",
   "execution_count": null,
   "metadata": {},
   "outputs": [],
   "source": [
    "import pandas as pd\n",
    "\n",
    "from sklearn.model_selection import train_test_split \n",
    "\n",
    "def load_housing_data(housing_path=HOUSING_PATH):\n",
    "    csv_path = os.path.join(housing_path, \"housing.csv\")\n",
    "    return pd.read_csv(csv_path)\n",
    "\n",
    "\n",
    "\n",
    "housing = load_housing_data()\n",
    "\n",
    "train_setSci, test_setSci = train_test_split( housing, test_size = 0.2, random_state = 42)\n",
    "\n",
    "print(len(train_setSci), len(test)setSci)\n"
   ]
  },
  {
   "cell_type": "code",
   "execution_count": null,
   "metadata": {},
   "outputs": [],
   "source": [
    "import pandas as pd\n",
    "\n",
    "from sklearn.model_selection import train_test_split \n",
    "\n",
    "def load_housing_data(housing_path=HOUSING_PATH):\n",
    "    csv_path = os.path.join(housing_path, \"housing.csv\")\n",
    "    return pd.read_csv(csv_path)\n",
    "\n",
    "\n",
    "\n",
    "housing = load_housing_data()\n",
    "\n",
    "train_setSci, test_setSci = train_test_split( housing, test_size = 0.2, random_state = 42)\n",
    "\n",
    "print(len(train_setSci), len(test)setSci)\n"
   ]
  },
  {
   "cell_type": "code",
   "execution_count": null,
   "metadata": {},
   "outputs": [],
   "source": [
    "import pandas as pd\n",
    "\n",
    "from sklearn.model_selection import train_test_split \n",
    "\n",
    "def load_housing_data(housing_path=HOUSING_PATH):\n",
    "    csv_path = os.path.join(housing_path, \"housing.csv\")\n",
    "    return pd.read_csv(csv_path)\n",
    "\n",
    "\n",
    "\n",
    "housing = load_housing_data()\n",
    "\n",
    "\n",
    "#so for future reference this is the way to go, way less code to do the same thing\n",
    "#stand on the shoulder of giants\n",
    "train_setSci, test_setSci = train_test_split( housing, test_size = 0.2, random_state = 42)\n",
    "\n",
    "print(len(train_setSci), len(test_setSci))\n"
   ]
  },
  {
   "cell_type": "code",
   "execution_count": null,
   "metadata": {},
   "outputs": [],
   "source": [
    "import pandas as pd\n",
    "\n",
    "def load_housing_data(housing_path=HOUSING_PATH):\n",
    "    csv_path = os.path.join(housing_path, \"housing.csv\")\n",
    "    return pd.read_csv(csv_path)\n",
    "\n",
    "\n",
    "\n",
    "housing = load_housing_data()\n",
    "\n",
    "housing[\"income_cat\"] = pd.cut( housing[\"median_income\"], bins =[ 0., 1.5, 3.0, 4.5, 6., np.inf], labels =[ 1, 2, 3, 4, 5])\n",
    "\n",
    "housing[\"income_cat\"]. hist()\n",
    "\n"
   ]
  },
  {
   "cell_type": "code",
   "execution_count": null,
   "metadata": {},
   "outputs": [],
   "source": [
    "import pandas as pd\n",
    "\n",
    "def load_housing_data(housing_path=HOUSING_PATH):\n",
    "    csv_path = os.path.join(housing_path, \"housing.csv\")\n",
    "    return pd.read_csv(csv_path)\n",
    "\n",
    "\n",
    "\n",
    "housing = load_housing_data()\n",
    "\n",
    "housing[\"income_cat\"] = pd.cut( housing[\"median_income\"], bins =[ 0., 1.5, 3.0, 4.5, 6., np.inf], labels =[ 1, 2, 3, 4, 5])\n",
    "\n",
    "housing[\"income_cat\"]. hist()\n",
    "\n"
   ]
  },
  {
   "cell_type": "code",
   "execution_count": null,
   "metadata": {},
   "outputs": [],
   "source": [
    "from sklearn.model_selection import StratifiedShuffleSplit\n",
    "\n",
    "\n",
    "\n",
    "#here we can see in the ouput the stratified sampling method samples properly \n",
    "#based on the histograms display that category 3 is more prominent than 2\n",
    "#than 4 than 5 than 1\n",
    "split = StratifiedShuffleSplit(n_splits=1, test_size=0.2, random_state=42)\n",
    "for train_index, test_index in split.split(housing, housing[\"income_cat\"]):\n",
    "    strat_train_set = housing.loc[train_index]\n",
    "    strat_test_set = housing.loc[test_index]    \n",
    "    \n",
    "\n",
    "strat_test_set[\"income_cat\"].value_counts()/len(strat_test_set)\n",
    "\n",
    "\n"
   ]
  },
  {
   "cell_type": "code",
   "execution_count": null,
   "metadata": {},
   "outputs": [],
   "source": [
    "def income_cat_proportions(data):\n",
    "    return data[\"income_cat\"].value_counts() / len(data)\n",
    "\n",
    "train_set, test_set = train_test_split(housing, test_size=0.2, random_state=42)\n",
    "\n",
    "compare_props = pd.DataFrame({\n",
    "    \"Overall\": income_cat_proportions(housing),\n",
    "    \"Stratified\": income_cat_proportions(strat_test_set),\n",
    "    \"Random\": income_cat_proportions(test_set),\n",
    "}).sort_index()\n",
    "compare_props[\"Rand. %error\"] = 100 * compare_props[\"Random\"] / compare_props[\"Overall\"] - 100\n",
    "compare_props[\"Strat. %error\"] = 100 * compare_props[\"Stratified\"] / compare_props[\"Overall\"] - 100\n",
    "\n",
    "compare_props"
   ]
  },
  {
   "cell_type": "code",
   "execution_count": null,
   "metadata": {},
   "outputs": [],
   "source": [
    "housing = load_housing_data()\n",
    "\n",
    "# adds an ` index ` column\n",
    "housing_with_id = housing.reset_index()\n",
    "\n",
    "housing_with_id.info()"
   ]
  },
  {
   "cell_type": "code",
   "execution_count": null,
   "metadata": {},
   "outputs": [],
   "source": [
    "for set_ in (strat_train_set, strat_test_set): \n",
    "    set_. drop(\"income_cat\", axis = 1, inplace = True)\n",
    "\n"
   ]
  },
  {
   "cell_type": "code",
   "execution_count": null,
   "metadata": {},
   "outputs": [],
   "source": [
    "for set_ in (strat_train_set, strat_test_set): \n",
    "    set_.drop(\"income_cat\", axis = 1, inplace = True)\n",
    "\n"
   ]
  },
  {
   "cell_type": "code",
   "execution_count": null,
   "metadata": {},
   "outputs": [],
   "source": [
    "housing = strat_train_set.copy()\n"
   ]
  },
  {
   "cell_type": "code",
   "execution_count": null,
   "metadata": {},
   "outputs": [],
   "source": [
    "housing.plot( kind =\"scatter\", x =\"longitude\", y =\"latitude\")\n",
    "\n"
   ]
  },
  {
   "cell_type": "code",
   "execution_count": null,
   "metadata": {},
   "outputs": [],
   "source": [
    "housing.plot( kind =\"scatter\", x =\"longitude\", y =\"latitude\", alpha=0.1)\n",
    "\n"
   ]
  },
  {
   "cell_type": "code",
   "execution_count": null,
   "metadata": {},
   "outputs": [],
   "source": [
    "housing.plot(kind=\"scatter\", x=\"longitude\", y=\"latitude\",\n",
    "    \n",
    "    #this controls the radius of the image in the circle\n",
    "    #larger radius larger population\n",
    "    s=housing['population']/100, label=\"population\",\n",
    "    #the color is based on house value\n",
    "    #blue is cheap red expensive\n",
    "    c=\"median_house_value\", cmap=plt.get_cmap(\"jet\"),\n",
    "    colorbar=True, alpha=0.4, figsize=(10,7),\n",
    ")\n",
    "plt.legend()\n",
    "save_fig(\"housing_prices_scatterplot\")\n",
    "plt.show()\n",
    "\n",
    "#as seen in the plot, houses closer to the ocean are typically more expensive"
   ]
  },
  {
   "cell_type": "code",
   "execution_count": null,
   "metadata": {},
   "outputs": [],
   "source": [
    "#calculate the standard correlation between median_house_value and every other attribute\n",
    "corr_matrix[\"median_house_value\"]. sort_values( ascending = False)\n",
    "\n"
   ]
  },
  {
   "cell_type": "code",
   "execution_count": null,
   "metadata": {},
   "outputs": [],
   "source": [
    "#calculate the standard correlation between median_house_value and every other attribute\n",
    "corr_matrix = housing.corr()\n",
    "\n",
    "corr_matrix[\" median_house_value\"]. sort_values( ascending = False)\n"
   ]
  },
  {
   "cell_type": "code",
   "execution_count": null,
   "metadata": {},
   "outputs": [],
   "source": [
    "#calculate the standard correlation between median_house_value and every other attribute\n",
    "corr_matrix = housing.corr()\n",
    "\n",
    "corr_matrix[\"median_house_value\"]. sort_values( ascending = False)"
   ]
  },
  {
   "cell_type": "code",
   "execution_count": null,
   "metadata": {},
   "outputs": [],
   "source": [
    "from pandas.plotting import scatter_matrix\n",
    "\n",
    "attributes = [\"median_house_value\", \"median_income\", \"total_rooms\", \"housing_median_age\"]\n",
    "scatter_matrix(housing[attributes], figsize=(11, 8))\n",
    "save_fig(\"scatter_matrix_plot\")\n",
    "plt.show()"
   ]
  },
  {
   "cell_type": "code",
   "execution_count": null,
   "metadata": {},
   "outputs": [],
   "source": [
    "from pandas.plotting import scatter_matrix\n",
    "\n",
    "attributes = [\"median_house_value\", \"median_income\", \"total_rooms\", \"housing_median_age\"]\n",
    "scatter_matrix(housing[attributes], figsize=(11, 8))\n",
    "save_fig(\"scatter_matrix_plot\")\n",
    "plt.show()"
   ]
  },
  {
   "cell_type": "code",
   "execution_count": null,
   "metadata": {},
   "outputs": [],
   "source": [
    "import matplotlib.image as mpimg\n",
    "\n",
    "PROJECT_ROOT_DIR = \".\"\n",
    "california_img=mpimg.imread('datasets/housing/california.png')\n",
    "ax = housing.plot(kind=\"scatter\", x=\"longitude\", y=\"latitude\", figsize=(10,7),\n",
    "                       s=housing['population']/100, label=\"Population\",\n",
    "                       c=\"median_house_value\", cmap=plt.get_cmap(\"jet\"),\n",
    "                       colorbar=False, alpha=0.4,\n",
    "                      )\n",
    "plt.imshow(california_img, extent=[-124.55, -113.80, 32.45, 42.05], alpha=0.5)\n",
    "plt.ylabel(\"Latitude\", fontsize=14)\n",
    "plt.xlabel(\"Longitude\", fontsize=14)\n",
    "\n",
    "prices = housing[\"median_house_value\"]\n",
    "tick_values = np.linspace(prices.min(), prices.max(), 11)\n",
    "cbar = plt.colorbar()\n",
    "cbar.ax.set_yticklabels([\"$%dk\"%(round(v/1000)) for v in tick_values], fontsize=14)\n",
    "cbar.set_label('Median House Value', fontsize=16)\n",
    "\n",
    "plt.legend(fontsize=16)\n",
    "save_fig(\"california_housing_prices_plot\")\n",
    "plt.show()"
   ]
  },
  {
   "cell_type": "code",
   "execution_count": null,
   "metadata": {},
   "outputs": [],
   "source": [
    "from pandas.plotting import scatter_matrix\n",
    "\n",
    "attributes = [\"median_house_value\", \"median_income\", \"total_rooms\", \"housing_median_age\"]\n",
    "scatter_matrix(housing[attributes], figsize=(11, 8))\n",
    "save_fig(\"scatter_matrix_plot\")\n",
    "plt.show()"
   ]
  },
  {
   "cell_type": "code",
   "execution_count": null,
   "metadata": {},
   "outputs": [],
   "source": [
    "\n",
    "#median income is most promising to predict house value\n",
    "housing.plot( kind =\"scatter\", x =\"median_income\", y =\"median_house_value\", alpha = 0.1)\n",
    "\n"
   ]
  },
  {
   "cell_type": "code",
   "execution_count": null,
   "metadata": {},
   "outputs": [],
   "source": [
    "#create new attributes as a combination of existing ones\n",
    "housing[\"rooms_per_household\"] = housing[\"total_rooms\"] / housing[\"population\"]\n",
    "housing[\"bedrooms_per_room\"] = housing[\"total_bedrooms\"] / housing[\"total_rooms\"]\n",
    "housing[\"population_per_household\"] = housing[\"population\"] / housing[\"households\"]"
   ]
  },
  {
   "cell_type": "code",
   "execution_count": null,
   "metadata": {},
   "outputs": [],
   "source": [
    "#check correlations of median_house_value now that we added some new combination attributes\n",
    "corr_matrix = housing.corr()\n",
    "corr_matrix[\"median_house_value\"].sort_values(ascending=False)"
   ]
  },
  {
   "cell_type": "code",
   "execution_count": null,
   "metadata": {},
   "outputs": [],
   "source": [
    "#note there is a positive correlation between bedrooms and house value, and a positive correlation \n",
    "#between total rooms and house value, but there is a negative correlation between bedrooms_per_room\n",
    "#and house value"
   ]
  },
  {
   "cell_type": "code",
   "execution_count": null,
   "metadata": {},
   "outputs": [],
   "source": [
    "housing[\"bedrooms_per_latitude\"] = housing[\"latitude\"] / housing[\"total_bedrooms\"]"
   ]
  },
  {
   "cell_type": "code",
   "execution_count": null,
   "metadata": {},
   "outputs": [],
   "source": [
    "housing.plot( kind =\"scatter\", x =\"latitude\", y =\"total_bedrooms\", alpha = 0.1)"
   ]
  },
  {
   "cell_type": "code",
   "execution_count": null,
   "metadata": {},
   "outputs": [],
   "source": [
    "#remove price since its the target value\n",
    "#this creates a copy without the value to drop\n",
    "#strat_train_set is not affected\n",
    "housing = strat_train_set.drop(\"median_house_value\", axis=1)\n",
    "#copy the labels a.k.a. the targets\n",
    "housing_labels = strat_train_set[\"median_house_value\"].copy()"
   ]
  },
  {
   "cell_type": "code",
   "execution_count": null,
   "metadata": {},
   "outputs": [],
   "source": [
    "#for total bedrooms a couple hundred district did not have values...\n",
    "#let's set the bedroom value to the median value of the training set\n",
    "#in case for some reason later on we see a correlation here...\n",
    "#good thing we made a copy of the data before this step..."
   ]
  },
  {
   "cell_type": "code",
   "execution_count": null,
   "metadata": {},
   "outputs": [],
   "source": [
    "median = train_set[\"total_bedrooms\"].median()\n",
    "# option 3\n",
    "housing_copy[\"total_bedrooms\"].fillna(median, inplace=True) \n",
    "housing_copy"
   ]
  },
  {
   "cell_type": "code",
   "execution_count": null,
   "metadata": {},
   "outputs": [],
   "source": [
    "median = train_set[\"total_bedrooms\"].median()\n",
    "# option 3\n",
    "housing[\"total_bedrooms\"].fillna(median, inplace=True) \n",
    "housing"
   ]
  },
  {
   "cell_type": "code",
   "execution_count": null,
   "metadata": {},
   "outputs": [],
   "source": [
    "housing.info()\n"
   ]
  },
  {
   "cell_type": "code",
   "execution_count": null,
   "metadata": {},
   "outputs": [],
   "source": [
    "print(len(train_set))"
   ]
  },
  {
   "cell_type": "code",
   "execution_count": null,
   "metadata": {},
   "outputs": [],
   "source": [
    "print(len(test_set))"
   ]
  },
  {
   "cell_type": "code",
   "execution_count": null,
   "metadata": {},
   "outputs": [],
   "source": [
    "print(16512+4128)"
   ]
  },
  {
   "cell_type": "code",
   "execution_count": null,
   "metadata": {},
   "outputs": [],
   "source": [
    "print(train_set[\"total_bedrooms\"].median())"
   ]
  },
  {
   "cell_type": "code",
   "execution_count": null,
   "metadata": {},
   "outputs": [],
   "source": [
    "housing\n"
   ]
  },
  {
   "cell_type": "code",
   "execution_count": null,
   "metadata": {},
   "outputs": [],
   "source": [
    "housing[70]"
   ]
  },
  {
   "cell_type": "code",
   "execution_count": null,
   "metadata": {},
   "outputs": [],
   "source": [
    "housing.loc(90)"
   ]
  },
  {
   "cell_type": "code",
   "execution_count": null,
   "metadata": {},
   "outputs": [],
   "source": [
    "housing.loc[90]"
   ]
  },
  {
   "cell_type": "code",
   "execution_count": null,
   "metadata": {},
   "outputs": [],
   "source": [
    "housing.loc[90]"
   ]
  },
  {
   "cell_type": "code",
   "execution_count": null,
   "metadata": {},
   "outputs": [],
   "source": [
    "housing.loc[90] = None"
   ]
  },
  {
   "cell_type": "code",
   "execution_count": null,
   "metadata": {},
   "outputs": [],
   "source": [
    "housing.loc[90]\n"
   ]
  },
  {
   "cell_type": "code",
   "execution_count": null,
   "metadata": {},
   "outputs": [],
   "source": [
    "from sklearn.preprocessing import Impute\n",
    "\n",
    "#fill empty spots using median of dataset for that column\n",
    "imputer = Imputer(strategy='median')\n",
    "#need to drop any non numerical columns\n",
    "housing_num = housing.drop(\"ocean_proximity\", axis=1)\n",
    "imputer.fit(housing_num)\n"
   ]
  },
  {
   "cell_type": "code",
   "execution_count": null,
   "metadata": {},
   "outputs": [],
   "source": [
    "from sklearn.preprocessing import Impute\n",
    "\n",
    "#fill empty spots using median of dataset for that column\n",
    "imputer = Imputer(strategy='median')\n",
    "#need to drop any non numerical columns\n",
    "housing_num = housing.drop(\"ocean_proximity\", axis=1)\n",
    "imputer.fit(housing_num)"
   ]
  },
  {
   "cell_type": "code",
   "execution_count": null,
   "metadata": {},
   "outputs": [],
   "source": [
    "from sklearn.preprocessing import SimpleImputer\n",
    "\n",
    "#fill empty spots using median of dataset for that column\n",
    "imputer = Imputer(strategy='median')\n",
    "#need to drop any non numerical columns\n",
    "housing_num = housing.drop(\"ocean_proximity\", axis=1)\n",
    "imputer.fit(housing_num)"
   ]
  },
  {
   "cell_type": "code",
   "execution_count": null,
   "metadata": {},
   "outputs": [],
   "source": [
    "from sklearn.impute import SimpleImputer\n",
    "\n",
    "\n",
    "#fill empty spots using median of dataset for that column\n",
    "imputer = SimpleImputer(strategy='median')\n",
    "#need to drop any non numerical columns\n",
    "housing_num = housing.drop(\"ocean_proximity\", axis=1)\n",
    "imputer.fit(housing_num)"
   ]
  },
  {
   "cell_type": "code",
   "execution_count": null,
   "metadata": {},
   "outputs": [],
   "source": [
    "from sklearn.impute import SimpleImputer\n",
    "\n",
    "\n",
    "#fill empty spots using median of dataset for that column\n",
    "imputer = SimpleImputer(strategy='median')\n",
    "#need to drop any non numerical columns\n",
    "housing_num = housing.drop(\"ocean_proximity\", axis=1)\n",
    "imputer.fit(housing_num)"
   ]
  },
  {
   "cell_type": "code",
   "execution_count": null,
   "metadata": {},
   "outputs": [],
   "source": [
    "housing.loc[90]"
   ]
  },
  {
   "cell_type": "code",
   "execution_count": null,
   "metadata": {},
   "outputs": [],
   "source": [
    "#the calculated median per column\n",
    "imputer.statistics_\n",
    "\n"
   ]
  },
  {
   "cell_type": "code",
   "execution_count": null,
   "metadata": {},
   "outputs": [],
   "source": [
    "#check the imputer matches the actual median vals\n",
    "housing_num.median().values\n",
    "\n"
   ]
  },
  {
   "cell_type": "code",
   "execution_count": null,
   "metadata": {},
   "outputs": [],
   "source": [
    "#fill in the blank spots with median values calculated by imputer\n",
    "X = imputer.transform(housing_num)\n",
    "\n"
   ]
  },
  {
   "cell_type": "code",
   "execution_count": null,
   "metadata": {},
   "outputs": [],
   "source": [
    "housing.loc[90]"
   ]
  },
  {
   "cell_type": "code",
   "execution_count": null,
   "metadata": {},
   "outputs": [],
   "source": [
    "housing_num.loc[90]"
   ]
  },
  {
   "cell_type": "code",
   "execution_count": null,
   "metadata": {},
   "outputs": [],
   "source": [
    "#put the data back into the data frame\n",
    "housing_tr = pd.DataFrame( X, columns = housing_num.columns, index = housing_num.index)\n",
    "\n"
   ]
  },
  {
   "cell_type": "code",
   "execution_count": null,
   "metadata": {},
   "outputs": [],
   "source": [
    "housing_num.loc[90]"
   ]
  },
  {
   "cell_type": "code",
   "execution_count": null,
   "metadata": {},
   "outputs": [],
   "source": [
    "housing.loc[90]"
   ]
  },
  {
   "cell_type": "code",
   "execution_count": null,
   "metadata": {},
   "outputs": [],
   "source": [
    "housing.loc[91]"
   ]
  },
  {
   "cell_type": "code",
   "execution_count": null,
   "metadata": {},
   "outputs": [],
   "source": [
    "print(X)"
   ]
  },
  {
   "cell_type": "code",
   "execution_count": null,
   "metadata": {},
   "outputs": [],
   "source": [
    "print(X[90])"
   ]
  },
  {
   "cell_type": "code",
   "execution_count": null,
   "metadata": {},
   "outputs": [],
   "source": [
    "housing_num.loc[90] = X[90]"
   ]
  },
  {
   "cell_type": "code",
   "execution_count": null,
   "metadata": {},
   "outputs": [],
   "source": [
    "housing_num.loc[90]"
   ]
  },
  {
   "cell_type": "code",
   "execution_count": null,
   "metadata": {},
   "outputs": [],
   "source": [
    "fakedata = [ -118.51 , 34.26 , 29. , 2119.5 , 433. , 1164. , 408. , 3.5409, \"1H OCEAN\"]\n"
   ]
  },
  {
   "cell_type": "code",
   "execution_count": null,
   "metadata": {},
   "outputs": [],
   "source": [
    "housing.loc[90] = fakedata"
   ]
  },
  {
   "cell_type": "code",
   "execution_count": null,
   "metadata": {},
   "outputs": [],
   "source": [
    "housing.loc[90]"
   ]
  },
  {
   "cell_type": "code",
   "execution_count": null,
   "metadata": {},
   "outputs": [],
   "source": [
    "housing\n"
   ]
  },
  {
   "cell_type": "code",
   "execution_count": null,
   "metadata": {},
   "outputs": [],
   "source": [
    "housing.display()"
   ]
  },
  {
   "cell_type": "code",
   "execution_count": null,
   "metadata": {},
   "outputs": [],
   "source": [
    "housing.info()"
   ]
  },
  {
   "cell_type": "code",
   "execution_count": null,
   "metadata": {},
   "outputs": [],
   "source": [
    "testsillydata = load_housing_data()"
   ]
  },
  {
   "cell_type": "code",
   "execution_count": null,
   "metadata": {},
   "outputs": [],
   "source": [
    "testsillydata.info()"
   ]
  },
  {
   "cell_type": "code",
   "execution_count": null,
   "metadata": {},
   "outputs": [],
   "source": [
    "sillytest_num = testsillydata.drop(\"ocean_proximity\", axis=1)"
   ]
  },
  {
   "cell_type": "code",
   "execution_count": null,
   "metadata": {},
   "outputs": [],
   "source": [
    "X = imputer.transform(sillytest_num)"
   ]
  },
  {
   "cell_type": "code",
   "execution_count": null,
   "metadata": {},
   "outputs": [],
   "source": [
    "sillytest_num.drop(\"ocean_proximity\", axis=1)"
   ]
  },
  {
   "cell_type": "code",
   "execution_count": null,
   "metadata": {},
   "outputs": [],
   "source": [
    "imputer.fit(sillytest_num)"
   ]
  },
  {
   "cell_type": "code",
   "execution_count": null,
   "metadata": {},
   "outputs": [],
   "source": [
    "sillytest_num.loc[20640]"
   ]
  },
  {
   "cell_type": "code",
   "execution_count": null,
   "metadata": {},
   "outputs": [],
   "source": [
    "sillytest_num.loc[20639]"
   ]
  },
  {
   "cell_type": "code",
   "execution_count": null,
   "metadata": {},
   "outputs": [],
   "source": [
    "testsillydata = load_housing_data()"
   ]
  },
  {
   "cell_type": "code",
   "execution_count": null,
   "metadata": {},
   "outputs": [],
   "source": [
    "sillytest_num.loc[20639]"
   ]
  },
  {
   "cell_type": "code",
   "execution_count": null,
   "metadata": {},
   "outputs": [],
   "source": [
    "testsillydata.loc[20639]"
   ]
  },
  {
   "cell_type": "code",
   "execution_count": null,
   "metadata": {},
   "outputs": [],
   "source": [
    "testsillydata_num = testsillydata.drop(\"ocean_proximity\", axis=1)"
   ]
  },
  {
   "cell_type": "code",
   "execution_count": null,
   "metadata": {},
   "outputs": [],
   "source": [
    "imputer.fit(testsillydata_num)"
   ]
  },
  {
   "cell_type": "code",
   "execution_count": null,
   "metadata": {},
   "outputs": [],
   "source": [
    "X = imputer.transform(testsillydata_num)\n",
    "\n"
   ]
  },
  {
   "cell_type": "code",
   "execution_count": null,
   "metadata": {},
   "outputs": [],
   "source": [
    "testsillydata_num.loc[20639]"
   ]
  },
  {
   "cell_type": "code",
   "execution_count": null,
   "metadata": {},
   "outputs": [],
   "source": [
    "testsillydata[20639]"
   ]
  },
  {
   "cell_type": "code",
   "execution_count": null,
   "metadata": {},
   "outputs": [],
   "source": [
    "testsillydata.loc[20639]"
   ]
  },
  {
   "cell_type": "code",
   "execution_count": null,
   "metadata": {},
   "outputs": [],
   "source": [
    "def load_dummy_data(housing_path=HOUSING_PATH):\n",
    "    csv_path = os.path.join(housing_path, \"housing_copy_for_exploring.csv\")\n",
    "    return pd.read_csv(csv_path)"
   ]
  },
  {
   "cell_type": "code",
   "execution_count": null,
   "metadata": {},
   "outputs": [],
   "source": [
    "dummy = load_dummy_data()"
   ]
  },
  {
   "cell_type": "code",
   "execution_count": null,
   "metadata": {},
   "outputs": [],
   "source": [
    "dummy.loc[7098]"
   ]
  },
  {
   "cell_type": "code",
   "execution_count": null,
   "metadata": {},
   "outputs": [],
   "source": [
    "dummy.loc[7099]"
   ]
  },
  {
   "cell_type": "code",
   "execution_count": null,
   "metadata": {},
   "outputs": [],
   "source": [
    "dummy.loc[7097]"
   ]
  },
  {
   "cell_type": "code",
   "execution_count": null,
   "metadata": {},
   "outputs": [],
   "source": [
    "dummy_num = dummy.drop(\"ocean_proximity\", axis=1)"
   ]
  },
  {
   "cell_type": "code",
   "execution_count": null,
   "metadata": {},
   "outputs": [],
   "source": [
    "imputer.fit(dummy_num)"
   ]
  },
  {
   "cell_type": "code",
   "execution_count": null,
   "metadata": {},
   "outputs": [],
   "source": [
    "X = imputer.transform(dummy_num)"
   ]
  },
  {
   "cell_type": "code",
   "execution_count": null,
   "metadata": {},
   "outputs": [],
   "source": [
    "dummy = pd.DataFrame( X, columns = dummy_num.columns, index = housing_num.index)\n",
    "\n"
   ]
  },
  {
   "cell_type": "code",
   "execution_count": null,
   "metadata": {},
   "outputs": [],
   "source": [
    "dummy = pd.DataFrame( X, columns = dummy_num.columns, index = dummy_num.index)\n",
    "\n"
   ]
  },
  {
   "cell_type": "code",
   "execution_count": null,
   "metadata": {},
   "outputs": [],
   "source": [
    "dummy.loc[7097]"
   ]
  },
  {
   "cell_type": "code",
   "execution_count": null,
   "metadata": {},
   "outputs": [],
   "source": [
    "dummy.loc[0\n",
    "         ]"
   ]
  },
  {
   "cell_type": "code",
   "execution_count": null,
   "metadata": {},
   "outputs": [],
   "source": [
    "housing.info()"
   ]
  },
  {
   "cell_type": "code",
   "execution_count": null,
   "metadata": {},
   "outputs": [],
   "source": [
    "housing_cat = housing[\"ocean_proximity\"]\n"
   ]
  },
  {
   "cell_type": "code",
   "execution_count": null,
   "metadata": {},
   "outputs": [],
   "source": [
    "housing_cat.head(10)"
   ]
  },
  {
   "cell_type": "code",
   "execution_count": null,
   "metadata": {},
   "outputs": [],
   "source": [
    "from sklearn.preprocessing import OrdinalEncoder\n",
    "\n",
    "ordinal_encoder = OrdinalEncoder()\n",
    "\n",
    "housing_cat_encoded = ordinal_encoder.fit_transform(housing_cat)\n",
    "\n",
    "housing_cat_encoded[:10]\n",
    "\n"
   ]
  },
  {
   "cell_type": "code",
   "execution_count": null,
   "metadata": {},
   "outputs": [],
   "source": [
    "from sklearn.preprocessing import OrdinalEncoder\n",
    "\n",
    "ordinal_encoder = OrdinalEncoder()\n",
    "\n",
    "housing_cat_encoded = ordinal_encoder.fit_transform(housing_cat)\n",
    "\n",
    "housing_cat_encoded[:10]\n"
   ]
  },
  {
   "cell_type": "code",
   "execution_count": null,
   "metadata": {},
   "outputs": [],
   "source": [
    "from sklearn.preprocessing import OrdinalEncoder\n",
    "\n",
    "ordinal_encoder = OrdinalEncoder()\n",
    "\n",
    "housing_cat_encoded = ordinal_encoder.fit_transform(housing_cat)\n",
    "\n",
    "print(housing_cat_encoded[:10])\n"
   ]
  },
  {
   "cell_type": "code",
   "execution_count": null,
   "metadata": {},
   "outputs": [],
   "source": [
    "from sklearn.preprocessing import LabelEncoder\n",
    "\n",
    "encoder = LabelEncoder()\n",
    "housing_cat = housing[\"ocean_proximity\"]\n",
    "housing_cat_encoded = encoder.fit_transform(housing_cat)\n",
    "housing_cat_encoded"
   ]
  },
  {
   "cell_type": "code",
   "execution_count": null,
   "metadata": {},
   "outputs": [],
   "source": [
    "from sklearn.preprocessing import OrdinalEncoder\n",
    "\n",
    "ordinal_encoder = OrdinalEncoder()\n",
    "\n",
    "housing_cat_encoded = ordinal_encoder.fit_transform(housing_cat)"
   ]
  },
  {
   "cell_type": "code",
   "execution_count": null,
   "metadata": {},
   "outputs": [],
   "source": [
    "from sklearn.preprocessing import OrdinalEncoder\n",
    "\n",
    "ordinal_encoder = OrdinalEncoder()\n",
    "\n",
    "housing_cat = housing[\"ocean_proximity\"]\n",
    "\n",
    "housing_cat_encoded = ordinal_encoder.fit_transform(housing_cat)\n",
    "\n",
    "print(housing_cat_encoded[:10])"
   ]
  },
  {
   "cell_type": "code",
   "execution_count": null,
   "metadata": {},
   "outputs": [],
   "source": [
    "from sklearn.preprocessing import OrdinalEncoder\n",
    "\n",
    "ordinal_encoder = OrdinalEncoder()\n",
    "\n",
    "housing_cat = housing[\"ocean_proximity\"]\n",
    "\n",
    "housing_cat_encoded = ordinal_encoder.fit_transform(housing_cat)\n",
    "\n",
    "print(housing_cat_encoded[:10])"
   ]
  },
  {
   "cell_type": "code",
   "execution_count": null,
   "metadata": {},
   "outputs": [],
   "source": [
    "from sklearn.preprocessing import OrdinalEncoder\n",
    "\n",
    "ordinal_encoder = OrdinalEncoder()\n",
    "\n",
    "housing_cat_encoded = ordinal_encoder.fit_transform(housing_cat)\n",
    "\n"
   ]
  },
  {
   "cell_type": "code",
   "execution_count": null,
   "metadata": {},
   "outputs": [],
   "source": [
    "from sklearn.preprocessing import OrdinalEncoder\n",
    "\n",
    "ordinal_encoder = OrdinalEncoder()\n",
    "\n",
    "housing_cat = housing[\"ocean_proximity\"]\n",
    "\n",
    "housing_cat.reshape(-1, 1)\n",
    "\n",
    "housing_cat_encoded = ordinal_encoder.fit_transform(housing_cat)\n",
    "\n",
    "\n",
    "\n",
    "print(housing_cat_encoded[:10])"
   ]
  },
  {
   "cell_type": "code",
   "execution_count": null,
   "metadata": {},
   "outputs": [],
   "source": [
    "from sklearn.preprocessing import OrdinalEncoder\n",
    "\n",
    "ordinal_encoder = OrdinalEncoder()\n",
    "\n",
    "housing_cat = housing[\"ocean_proximity\"]\n",
    "\n",
    "\n",
    "\n",
    "housing_cat_encoded = ordinal_encoder.fit_transform(housing_cat).reshape(-1,1)\n",
    "\n",
    "\n",
    "\n",
    "print(housing_cat_encoded[:10])"
   ]
  },
  {
   "cell_type": "code",
   "execution_count": null,
   "metadata": {},
   "outputs": [],
   "source": [
    "from sklearn.preprocessing import OrdinalEncoder\n",
    "\n",
    "ordinal_encoder = OrdinalEncoder()\n",
    "\n",
    "housing_cat = housing[\"ocean_proximity\"]\n",
    "\n",
    "housing_cat_encoded = ordinal_encoder.fit_transform(housing_cat).reshape(-1,1).toarray()\n",
    "\n",
    "print(housing_cat_encoded[:10])"
   ]
  },
  {
   "cell_type": "code",
   "execution_count": null,
   "metadata": {},
   "outputs": [],
   "source": [
    "from sklearn.preprocessing import OrdinalEncoder\n",
    "\n",
    "ordinal_encoder = OrdinalEncoder()\n",
    "\n",
    "housing_cat = housing[\"ocean_proximity\"].toarray()\n",
    "\n",
    "\n",
    "\n",
    "housing_cat_encoded = ordinal_encoder.fit_transform(housing_cat).reshape(-1,1)\n",
    "\n",
    "\n",
    "\n",
    "print(housing_cat_encoded[:10])"
   ]
  },
  {
   "cell_type": "code",
   "execution_count": null,
   "metadata": {},
   "outputs": [],
   "source": [
    "from sklearn.preprocessing import OrdinalEncoder\n",
    "\n",
    "ordinal_encoder = OrdinalEncoder()\n",
    "\n",
    "housing_cat = housing[\"ocean_proximity\"].asmatrix()\n",
    "\n",
    "\n",
    "\n",
    "housing_cat_encoded = ordinal_encoder.fit_transform(housing_cat).reshape(-1,1)\n",
    "\n",
    "\n",
    "\n",
    "print(housing_cat_encoded[:10])"
   ]
  },
  {
   "cell_type": "code",
   "execution_count": null,
   "metadata": {},
   "outputs": [],
   "source": [
    "from sklearn.preprocessing import OrdinalEncoder\n",
    "\n",
    "ordinal_encoder = OrdinalEncoder()\n",
    "\n",
    "housing_cat = housing[[\"ocean_proximity\"]]\n",
    "\n",
    "\n",
    "\n",
    "housing_cat_encoded = ordinal_encoder.fit_transform(housing_cat)\n",
    "\n",
    "\n",
    "\n",
    "print(housing_cat_encoded[:10])"
   ]
  },
  {
   "cell_type": "code",
   "execution_count": null,
   "metadata": {},
   "outputs": [],
   "source": [
    "from sklearn.preprocessing import OrdinalEncoder\n",
    "\n",
    "ordinal_encoder = OrdinalEncoder()\n",
    "\n",
    "housing_cat = housing[[\"ocean_proximity\"]]\n",
    "\n",
    "\n",
    "\n",
    "housing_cat_encoded = ordinal_encoder.fit_transform(housing_cat)\n",
    "\n",
    "\n",
    "\n",
    "print(housing_cat_encoded[:30])"
   ]
  },
  {
   "cell_type": "code",
   "execution_count": null,
   "metadata": {},
   "outputs": [],
   "source": [
    "from sklearn.preprocessing import OrdinalEncoder\n",
    "\n",
    "ordinal_encoder = OrdinalEncoder()\n",
    "\n",
    "housing_cat = housing[[\"ocean_proximity\"]]\n",
    "\n",
    "\n",
    "\n",
    "housing_cat_encoded = ordinal_encoder.fit_transform(housing_cat)\n",
    "\n",
    "\n",
    "\n",
    "print(housing_cat_encoded[:30])"
   ]
  },
  {
   "cell_type": "code",
   "execution_count": null,
   "metadata": {},
   "outputs": [],
   "source": [
    "housing.info()"
   ]
  },
  {
   "cell_type": "code",
   "execution_count": null,
   "metadata": {},
   "outputs": [],
   "source": [
    "import os\n",
    "import tarfile\n",
    "from six.moves import urllib\n",
    "\n",
    "HOUSING_PATH = \"datasets/housing\"\n",
    "HOUSING_URL = DATASETS_URL + \"/housing/housing.tgz\"\n",
    "\n",
    "def fetch_housing_data(housing_url=HOUSING_URL, housing_path=HOUSING_PATH):\n",
    "    if not os.path.exists(housing_path):\n",
    "        os.makedirs(housing_path)\n",
    "    tgz_path = os.path.join(housing_path, \"housing.tgz\")\n",
    "    urllib.request.urlretrieve(housing_url, tgz_path)\n",
    "    housing_tgz = tarfile.open(tgz_path)\n",
    "    housing_tgz.extractall(path=housing_path)\n",
    "    housing_tgz.close()"
   ]
  },
  {
   "cell_type": "code",
   "execution_count": 17,
   "metadata": {},
   "outputs": [
    {
     "name": "stdout",
     "output_type": "stream",
     "text": [
      "16512 4128\n"
     ]
    }
   ],
   "source": [
    "import pandas as pd\n",
    "\n",
    "def load_housing_data(housing_path=HOUSING_PATH):\n",
    "    csv_path = os.path.join(housing_path, \"housing.csv\")\n",
    "    return pd.read_csv(csv_path)\n",
    "\n",
    "housing = load_housing_data()\n",
    "housing.head()\n",
    "\n",
    "import numpy as np\n",
    "import numpy.random as rnd\n",
    "rnd.seed(42) # to make this notebook's output identical at every run\n",
    "\n",
    "def split_train_test(data, test_ratio):\n",
    "    shuffled_indices = rnd.permutation(len(data))\n",
    "    test_set_size = int(len(data) * test_ratio)\n",
    "    test_indices = shuffled_indices[:test_set_size]\n",
    "    train_indices = shuffled_indices[test_set_size:]\n",
    "    return data.iloc[train_indices], data.iloc[test_indices]\n",
    "\n",
    "\n",
    "\n",
    "\n",
    "\n",
    "\n",
    "train_set, test_set = split_train_test(housing, 0.2)\n",
    "print(len(train_set), len(test_set))"
   ]
  },
  {
   "cell_type": "code",
   "execution_count": 18,
   "metadata": {},
   "outputs": [],
   "source": [
    "import hashlib\n",
    "\n",
    "def test_set_check(identifier, test_ratio, hash):\n",
    "    return bytearray(hash(np.int64(identifier)).digest())[-1] < 256 * test_ratio\n",
    "\n",
    "def split_train_test_by_id(data, test_ratio, id_column, hash=hashlib.md5):\n",
    "    ids = data[id_column]\n",
    "    in_test_set = ids.apply(lambda id_: test_set_check(id_, test_ratio, hash))\n",
    "    return data.loc[~in_test_set], data.loc[in_test_set]"
   ]
  },
  {
   "cell_type": "code",
   "execution_count": 62,
   "metadata": {},
   "outputs": [
    {
     "data": {
      "text/html": [
       "<div>\n",
       "<style scoped>\n",
       "    .dataframe tbody tr th:only-of-type {\n",
       "        vertical-align: middle;\n",
       "    }\n",
       "\n",
       "    .dataframe tbody tr th {\n",
       "        vertical-align: top;\n",
       "    }\n",
       "\n",
       "    .dataframe thead th {\n",
       "        text-align: right;\n",
       "    }\n",
       "</style>\n",
       "<table border=\"1\" class=\"dataframe\">\n",
       "  <thead>\n",
       "    <tr style=\"text-align: right;\">\n",
       "      <th></th>\n",
       "      <th>index</th>\n",
       "      <th>longitude</th>\n",
       "      <th>latitude</th>\n",
       "      <th>housing_median_age</th>\n",
       "      <th>total_rooms</th>\n",
       "      <th>total_bedrooms</th>\n",
       "      <th>population</th>\n",
       "      <th>households</th>\n",
       "      <th>median_income</th>\n",
       "      <th>median_house_value</th>\n",
       "      <th>ocean_proximity</th>\n",
       "      <th>income_cat</th>\n",
       "      <th>rooms_per_household</th>\n",
       "      <th>bedrooms_per_room</th>\n",
       "      <th>population_per_household</th>\n",
       "    </tr>\n",
       "  </thead>\n",
       "  <tbody>\n",
       "    <tr>\n",
       "      <th>4</th>\n",
       "      <td>4</td>\n",
       "      <td>-122.25</td>\n",
       "      <td>37.85</td>\n",
       "      <td>52.0</td>\n",
       "      <td>1627.0</td>\n",
       "      <td>280.0</td>\n",
       "      <td>565.0</td>\n",
       "      <td>259.0</td>\n",
       "      <td>3.8462</td>\n",
       "      <td>342200.0</td>\n",
       "      <td>NEAR BAY</td>\n",
       "      <td>3.0</td>\n",
       "      <td>2.879646</td>\n",
       "      <td>0.172096</td>\n",
       "      <td>2.181467</td>\n",
       "    </tr>\n",
       "    <tr>\n",
       "      <th>5</th>\n",
       "      <td>5</td>\n",
       "      <td>-122.25</td>\n",
       "      <td>37.85</td>\n",
       "      <td>52.0</td>\n",
       "      <td>919.0</td>\n",
       "      <td>213.0</td>\n",
       "      <td>413.0</td>\n",
       "      <td>193.0</td>\n",
       "      <td>4.0368</td>\n",
       "      <td>269700.0</td>\n",
       "      <td>NEAR BAY</td>\n",
       "      <td>3.0</td>\n",
       "      <td>2.225182</td>\n",
       "      <td>0.231774</td>\n",
       "      <td>2.139896</td>\n",
       "    </tr>\n",
       "    <tr>\n",
       "      <th>11</th>\n",
       "      <td>11</td>\n",
       "      <td>-122.26</td>\n",
       "      <td>37.85</td>\n",
       "      <td>52.0</td>\n",
       "      <td>3503.0</td>\n",
       "      <td>752.0</td>\n",
       "      <td>1504.0</td>\n",
       "      <td>734.0</td>\n",
       "      <td>3.2705</td>\n",
       "      <td>241800.0</td>\n",
       "      <td>NEAR BAY</td>\n",
       "      <td>3.0</td>\n",
       "      <td>2.329122</td>\n",
       "      <td>0.214673</td>\n",
       "      <td>2.049046</td>\n",
       "    </tr>\n",
       "    <tr>\n",
       "      <th>20</th>\n",
       "      <td>20</td>\n",
       "      <td>-122.27</td>\n",
       "      <td>37.85</td>\n",
       "      <td>40.0</td>\n",
       "      <td>751.0</td>\n",
       "      <td>184.0</td>\n",
       "      <td>409.0</td>\n",
       "      <td>166.0</td>\n",
       "      <td>1.3578</td>\n",
       "      <td>147500.0</td>\n",
       "      <td>NEAR BAY</td>\n",
       "      <td>1.0</td>\n",
       "      <td>1.836186</td>\n",
       "      <td>0.245007</td>\n",
       "      <td>2.463855</td>\n",
       "    </tr>\n",
       "    <tr>\n",
       "      <th>23</th>\n",
       "      <td>23</td>\n",
       "      <td>-122.27</td>\n",
       "      <td>37.84</td>\n",
       "      <td>52.0</td>\n",
       "      <td>1688.0</td>\n",
       "      <td>337.0</td>\n",
       "      <td>853.0</td>\n",
       "      <td>325.0</td>\n",
       "      <td>2.1806</td>\n",
       "      <td>99700.0</td>\n",
       "      <td>NEAR BAY</td>\n",
       "      <td>2.0</td>\n",
       "      <td>1.978898</td>\n",
       "      <td>0.199645</td>\n",
       "      <td>2.624615</td>\n",
       "    </tr>\n",
       "  </tbody>\n",
       "</table>\n",
       "</div>"
      ],
      "text/plain": [
       "    index  longitude  latitude  housing_median_age  total_rooms  \\\n",
       "4       4    -122.25     37.85                52.0       1627.0   \n",
       "5       5    -122.25     37.85                52.0        919.0   \n",
       "11     11    -122.26     37.85                52.0       3503.0   \n",
       "20     20    -122.27     37.85                40.0        751.0   \n",
       "23     23    -122.27     37.84                52.0       1688.0   \n",
       "\n",
       "    total_bedrooms  population  households  median_income  median_house_value  \\\n",
       "4            280.0       565.0       259.0         3.8462            342200.0   \n",
       "5            213.0       413.0       193.0         4.0368            269700.0   \n",
       "11           752.0      1504.0       734.0         3.2705            241800.0   \n",
       "20           184.0       409.0       166.0         1.3578            147500.0   \n",
       "23           337.0       853.0       325.0         2.1806             99700.0   \n",
       "\n",
       "   ocean_proximity  income_cat  rooms_per_household  bedrooms_per_room  \\\n",
       "4         NEAR BAY         3.0             2.879646           0.172096   \n",
       "5         NEAR BAY         3.0             2.225182           0.231774   \n",
       "11        NEAR BAY         3.0             2.329122           0.214673   \n",
       "20        NEAR BAY         1.0             1.836186           0.245007   \n",
       "23        NEAR BAY         2.0             1.978898           0.199645   \n",
       "\n",
       "    population_per_household  \n",
       "4                   2.181467  \n",
       "5                   2.139896  \n",
       "11                  2.049046  \n",
       "20                  2.463855  \n",
       "23                  2.624615  "
      ]
     },
     "execution_count": 62,
     "metadata": {},
     "output_type": "execute_result"
    }
   ],
   "source": [
    "housing_with_id = housing.reset_index()   # adds an `index` column\n",
    "train_set, test_set = split_train_test_by_id(housing_with_id, 0.2, \"index\")\n",
    "test_set.head()"
   ]
  },
  {
   "cell_type": "code",
   "execution_count": 63,
   "metadata": {},
   "outputs": [
    {
     "data": {
      "text/html": [
       "<div>\n",
       "<style scoped>\n",
       "    .dataframe tbody tr th:only-of-type {\n",
       "        vertical-align: middle;\n",
       "    }\n",
       "\n",
       "    .dataframe tbody tr th {\n",
       "        vertical-align: top;\n",
       "    }\n",
       "\n",
       "    .dataframe thead th {\n",
       "        text-align: right;\n",
       "    }\n",
       "</style>\n",
       "<table border=\"1\" class=\"dataframe\">\n",
       "  <thead>\n",
       "    <tr style=\"text-align: right;\">\n",
       "      <th></th>\n",
       "      <th>longitude</th>\n",
       "      <th>latitude</th>\n",
       "      <th>housing_median_age</th>\n",
       "      <th>total_rooms</th>\n",
       "      <th>total_bedrooms</th>\n",
       "      <th>population</th>\n",
       "      <th>households</th>\n",
       "      <th>median_income</th>\n",
       "      <th>median_house_value</th>\n",
       "      <th>ocean_proximity</th>\n",
       "      <th>income_cat</th>\n",
       "      <th>rooms_per_household</th>\n",
       "      <th>bedrooms_per_room</th>\n",
       "      <th>population_per_household</th>\n",
       "    </tr>\n",
       "  </thead>\n",
       "  <tbody>\n",
       "    <tr>\n",
       "      <th>20046</th>\n",
       "      <td>-119.01</td>\n",
       "      <td>36.06</td>\n",
       "      <td>25.0</td>\n",
       "      <td>1505.0</td>\n",
       "      <td>NaN</td>\n",
       "      <td>1392.0</td>\n",
       "      <td>359.0</td>\n",
       "      <td>1.6812</td>\n",
       "      <td>47700.0</td>\n",
       "      <td>INLAND</td>\n",
       "      <td>2.0</td>\n",
       "      <td>1.081178</td>\n",
       "      <td>NaN</td>\n",
       "      <td>3.877437</td>\n",
       "    </tr>\n",
       "    <tr>\n",
       "      <th>3024</th>\n",
       "      <td>-119.46</td>\n",
       "      <td>35.14</td>\n",
       "      <td>30.0</td>\n",
       "      <td>2943.0</td>\n",
       "      <td>NaN</td>\n",
       "      <td>1565.0</td>\n",
       "      <td>584.0</td>\n",
       "      <td>2.5313</td>\n",
       "      <td>45800.0</td>\n",
       "      <td>INLAND</td>\n",
       "      <td>2.0</td>\n",
       "      <td>1.880511</td>\n",
       "      <td>NaN</td>\n",
       "      <td>2.679795</td>\n",
       "    </tr>\n",
       "    <tr>\n",
       "      <th>15663</th>\n",
       "      <td>-122.44</td>\n",
       "      <td>37.80</td>\n",
       "      <td>52.0</td>\n",
       "      <td>3830.0</td>\n",
       "      <td>NaN</td>\n",
       "      <td>1310.0</td>\n",
       "      <td>963.0</td>\n",
       "      <td>3.4801</td>\n",
       "      <td>500001.0</td>\n",
       "      <td>NEAR BAY</td>\n",
       "      <td>3.0</td>\n",
       "      <td>2.923664</td>\n",
       "      <td>NaN</td>\n",
       "      <td>1.360332</td>\n",
       "    </tr>\n",
       "    <tr>\n",
       "      <th>20484</th>\n",
       "      <td>-118.72</td>\n",
       "      <td>34.28</td>\n",
       "      <td>17.0</td>\n",
       "      <td>3051.0</td>\n",
       "      <td>NaN</td>\n",
       "      <td>1705.0</td>\n",
       "      <td>495.0</td>\n",
       "      <td>5.7376</td>\n",
       "      <td>218600.0</td>\n",
       "      <td>&lt;1H OCEAN</td>\n",
       "      <td>4.0</td>\n",
       "      <td>1.789443</td>\n",
       "      <td>NaN</td>\n",
       "      <td>3.444444</td>\n",
       "    </tr>\n",
       "    <tr>\n",
       "      <th>9814</th>\n",
       "      <td>-121.93</td>\n",
       "      <td>36.62</td>\n",
       "      <td>34.0</td>\n",
       "      <td>2351.0</td>\n",
       "      <td>NaN</td>\n",
       "      <td>1063.0</td>\n",
       "      <td>428.0</td>\n",
       "      <td>3.7250</td>\n",
       "      <td>278000.0</td>\n",
       "      <td>NEAR OCEAN</td>\n",
       "      <td>3.0</td>\n",
       "      <td>2.211665</td>\n",
       "      <td>NaN</td>\n",
       "      <td>2.483645</td>\n",
       "    </tr>\n",
       "  </tbody>\n",
       "</table>\n",
       "</div>"
      ],
      "text/plain": [
       "       longitude  latitude  housing_median_age  total_rooms  total_bedrooms  \\\n",
       "20046    -119.01     36.06                25.0       1505.0             NaN   \n",
       "3024     -119.46     35.14                30.0       2943.0             NaN   \n",
       "15663    -122.44     37.80                52.0       3830.0             NaN   \n",
       "20484    -118.72     34.28                17.0       3051.0             NaN   \n",
       "9814     -121.93     36.62                34.0       2351.0             NaN   \n",
       "\n",
       "       population  households  median_income  median_house_value  \\\n",
       "20046      1392.0       359.0         1.6812             47700.0   \n",
       "3024       1565.0       584.0         2.5313             45800.0   \n",
       "15663      1310.0       963.0         3.4801            500001.0   \n",
       "20484      1705.0       495.0         5.7376            218600.0   \n",
       "9814       1063.0       428.0         3.7250            278000.0   \n",
       "\n",
       "      ocean_proximity  income_cat  rooms_per_household  bedrooms_per_room  \\\n",
       "20046          INLAND         2.0             1.081178                NaN   \n",
       "3024           INLAND         2.0             1.880511                NaN   \n",
       "15663        NEAR BAY         3.0             2.923664                NaN   \n",
       "20484       <1H OCEAN         4.0             1.789443                NaN   \n",
       "9814       NEAR OCEAN         3.0             2.211665                NaN   \n",
       "\n",
       "       population_per_household  \n",
       "20046                  3.877437  \n",
       "3024                   2.679795  \n",
       "15663                  1.360332  \n",
       "20484                  3.444444  \n",
       "9814                   2.483645  "
      ]
     },
     "execution_count": 63,
     "metadata": {},
     "output_type": "execute_result"
    }
   ],
   "source": [
    "from sklearn.model_selection import train_test_split\n",
    "\n",
    "train_set, test_set = train_test_split(housing, test_size=0.2, random_state=42)\n",
    "test_set.head()"
   ]
  },
  {
   "cell_type": "code",
   "execution_count": 64,
   "metadata": {},
   "outputs": [
    {
     "data": {
      "text/plain": [
       "3.0    7236\n",
       "2.0    6581\n",
       "4.0    3639\n",
       "5.0    2362\n",
       "1.0     822\n",
       "Name: income_cat, dtype: int64"
      ]
     },
     "execution_count": 64,
     "metadata": {},
     "output_type": "execute_result"
    }
   ],
   "source": [
    "housing[\"income_cat\"] = np.ceil(housing[\"median_income\"] / 1.5)\n",
    "housing[\"income_cat\"].where(housing[\"income_cat\"] < 5, 5.0, inplace=True)\n",
    "housing[\"income_cat\"].value_counts()"
   ]
  },
  {
   "cell_type": "code",
   "execution_count": 66,
   "metadata": {},
   "outputs": [],
   "source": [
    "\n",
    "from sklearn.model_selection import StratifiedShuffleSplit\n",
    "split = StratifiedShuffleSplit(n_splits=1, test_size=0.2, random_state=42)\n",
    "for train_index, test_index in split.split(housing, housing[\"income_cat\"]):\n",
    "    strat_train_set = housing.loc[train_index]\n",
    "    strat_test_set = housing.loc[test_index]"
   ]
  },
  {
   "cell_type": "code",
   "execution_count": 67,
   "metadata": {},
   "outputs": [],
   "source": [
    "def income_cat_proportions(data):\n",
    "    return data[\"income_cat\"].value_counts() / len(data)\n",
    "\n",
    "train_set, test_set = train_test_split(housing, test_size=0.2, random_state=42)\n",
    "\n",
    "compare_props = pd.DataFrame({\n",
    "    \"Overall\": income_cat_proportions(housing),\n",
    "    \"Stratified\": income_cat_proportions(strat_test_set),\n",
    "    \"Random\": income_cat_proportions(test_set),\n",
    "}).sort_index()\n",
    "compare_props[\"Rand. %error\"] = 100 * compare_props[\"Random\"] / compare_props[\"Overall\"] - 100\n",
    "compare_props[\"Strat. %error\"] = 100 * compare_props[\"Stratified\"] / compare_props[\"Overall\"] - 100"
   ]
  },
  {
   "cell_type": "code",
   "execution_count": 68,
   "metadata": {},
   "outputs": [
    {
     "data": {
      "text/html": [
       "<div>\n",
       "<style scoped>\n",
       "    .dataframe tbody tr th:only-of-type {\n",
       "        vertical-align: middle;\n",
       "    }\n",
       "\n",
       "    .dataframe tbody tr th {\n",
       "        vertical-align: top;\n",
       "    }\n",
       "\n",
       "    .dataframe thead th {\n",
       "        text-align: right;\n",
       "    }\n",
       "</style>\n",
       "<table border=\"1\" class=\"dataframe\">\n",
       "  <thead>\n",
       "    <tr style=\"text-align: right;\">\n",
       "      <th></th>\n",
       "      <th>Overall</th>\n",
       "      <th>Stratified</th>\n",
       "      <th>Random</th>\n",
       "      <th>Rand. %error</th>\n",
       "      <th>Strat. %error</th>\n",
       "    </tr>\n",
       "  </thead>\n",
       "  <tbody>\n",
       "    <tr>\n",
       "      <th>1.0</th>\n",
       "      <td>0.039826</td>\n",
       "      <td>0.039729</td>\n",
       "      <td>0.040213</td>\n",
       "      <td>0.973236</td>\n",
       "      <td>-0.243309</td>\n",
       "    </tr>\n",
       "    <tr>\n",
       "      <th>2.0</th>\n",
       "      <td>0.318847</td>\n",
       "      <td>0.318798</td>\n",
       "      <td>0.324370</td>\n",
       "      <td>1.732260</td>\n",
       "      <td>-0.015195</td>\n",
       "    </tr>\n",
       "    <tr>\n",
       "      <th>3.0</th>\n",
       "      <td>0.350581</td>\n",
       "      <td>0.350533</td>\n",
       "      <td>0.358527</td>\n",
       "      <td>2.266446</td>\n",
       "      <td>-0.013820</td>\n",
       "    </tr>\n",
       "    <tr>\n",
       "      <th>4.0</th>\n",
       "      <td>0.176308</td>\n",
       "      <td>0.176357</td>\n",
       "      <td>0.167393</td>\n",
       "      <td>-5.056334</td>\n",
       "      <td>0.027480</td>\n",
       "    </tr>\n",
       "    <tr>\n",
       "      <th>5.0</th>\n",
       "      <td>0.114438</td>\n",
       "      <td>0.114583</td>\n",
       "      <td>0.109496</td>\n",
       "      <td>-4.318374</td>\n",
       "      <td>0.127011</td>\n",
       "    </tr>\n",
       "  </tbody>\n",
       "</table>\n",
       "</div>"
      ],
      "text/plain": [
       "      Overall  Stratified    Random  Rand. %error  Strat. %error\n",
       "1.0  0.039826    0.039729  0.040213      0.973236      -0.243309\n",
       "2.0  0.318847    0.318798  0.324370      1.732260      -0.015195\n",
       "3.0  0.350581    0.350533  0.358527      2.266446      -0.013820\n",
       "4.0  0.176308    0.176357  0.167393     -5.056334       0.027480\n",
       "5.0  0.114438    0.114583  0.109496     -4.318374       0.127011"
      ]
     },
     "execution_count": 68,
     "metadata": {},
     "output_type": "execute_result"
    }
   ],
   "source": [
    "compare_props"
   ]
  },
  {
   "cell_type": "code",
   "execution_count": 69,
   "metadata": {},
   "outputs": [],
   "source": [
    "for set in (strat_train_set, strat_test_set):\n",
    "    set.drop(\"income_cat\", axis=1, inplace=True)"
   ]
  },
  {
   "cell_type": "code",
   "execution_count": 70,
   "metadata": {},
   "outputs": [],
   "source": [
    "housing = strat_train_set.copy()"
   ]
  },
  {
   "cell_type": "code",
   "execution_count": 71,
   "metadata": {},
   "outputs": [
    {
     "data": {
      "text/plain": [
       "median_house_value          1.000000\n",
       "median_income               0.687160\n",
       "rooms_per_household         0.199429\n",
       "total_rooms                 0.135097\n",
       "housing_median_age          0.114110\n",
       "households                  0.064506\n",
       "total_bedrooms              0.047689\n",
       "population_per_household   -0.021985\n",
       "population                 -0.026920\n",
       "longitude                  -0.047432\n",
       "latitude                   -0.142724\n",
       "bedrooms_per_room          -0.259984\n",
       "Name: median_house_value, dtype: float64"
      ]
     },
     "execution_count": 71,
     "metadata": {},
     "output_type": "execute_result"
    }
   ],
   "source": [
    "corr_matrix = housing.corr()\n",
    "corr_matrix[\"median_house_value\"].sort_values(ascending=False)"
   ]
  },
  {
   "cell_type": "code",
   "execution_count": 72,
   "metadata": {},
   "outputs": [],
   "source": [
    "housing[\"rooms_per_household\"] = housing[\"total_rooms\"] / housing[\"population\"]\n",
    "housing[\"bedrooms_per_room\"] = housing[\"total_bedrooms\"] / housing[\"total_rooms\"]\n",
    "housing[\"population_per_household\"] = housing[\"population\"] / housing[\"households\"]"
   ]
  },
  {
   "cell_type": "code",
   "execution_count": 73,
   "metadata": {},
   "outputs": [
    {
     "data": {
      "text/plain": [
       "median_house_value          1.000000\n",
       "median_income               0.687160\n",
       "rooms_per_household         0.199429\n",
       "total_rooms                 0.135097\n",
       "housing_median_age          0.114110\n",
       "households                  0.064506\n",
       "total_bedrooms              0.047689\n",
       "population_per_household   -0.021985\n",
       "population                 -0.026920\n",
       "longitude                  -0.047432\n",
       "latitude                   -0.142724\n",
       "bedrooms_per_room          -0.259984\n",
       "Name: median_house_value, dtype: float64"
      ]
     },
     "execution_count": 73,
     "metadata": {},
     "output_type": "execute_result"
    }
   ],
   "source": [
    "corr_matrix = housing.corr()\n",
    "corr_matrix[\"median_house_value\"].sort_values(ascending=False)"
   ]
  },
  {
   "cell_type": "code",
   "execution_count": 74,
   "metadata": {},
   "outputs": [],
   "source": [
    "\n",
    "housing = strat_train_set.drop(\"median_house_value\", axis=1)\n",
    "housing_labels = strat_train_set[\"median_house_value\"].copy()"
   ]
  },
  {
   "cell_type": "code",
   "execution_count": 75,
   "metadata": {},
   "outputs": [
    {
     "name": "stdout",
     "output_type": "stream",
     "text": [
      "<class 'pandas.core.frame.DataFrame'>\n",
      "Int64Index: 16512 entries, 17606 to 15775\n",
      "Data columns (total 11 columns):\n",
      " #   Column                    Non-Null Count  Dtype  \n",
      "---  ------                    --------------  -----  \n",
      " 0   longitude                 16512 non-null  float64\n",
      " 1   latitude                  16512 non-null  float64\n",
      " 2   housing_median_age        16512 non-null  float64\n",
      " 3   total_rooms               16512 non-null  float64\n",
      " 4   total_bedrooms            16512 non-null  float64\n",
      " 5   population                16512 non-null  float64\n",
      " 6   households                16512 non-null  float64\n",
      " 7   median_income             16512 non-null  float64\n",
      " 8   rooms_per_household       16512 non-null  float64\n",
      " 9   bedrooms_per_room         16512 non-null  float64\n",
      " 10  population_per_household  16512 non-null  float64\n",
      "dtypes: float64(11)\n",
      "memory usage: 1.5 MB\n"
     ]
    }
   ],
   "source": [
    "median = housing[\"total_bedrooms\"]. median()\n",
    "\n",
    "from sklearn.impute import SimpleImputer \n",
    "imputer = SimpleImputer( strategy =\"median\")\n",
    "\n",
    "\n",
    "housing_num = housing.drop(\"ocean_proximity\", axis = 1)\n",
    "\n",
    "imputer.fit(housing_num)\n",
    "\n",
    "X = imputer.transform(housing_num)\n",
    "\n",
    "housing_tr = pd.DataFrame(X, columns = housing_num.columns, index = housing_num.index)\n",
    "\n",
    "housing_tr.info()\n",
    "\n"
   ]
  },
  {
   "cell_type": "code",
   "execution_count": 76,
   "metadata": {},
   "outputs": [
    {
     "data": {
      "text/html": [
       "<div>\n",
       "<style scoped>\n",
       "    .dataframe tbody tr th:only-of-type {\n",
       "        vertical-align: middle;\n",
       "    }\n",
       "\n",
       "    .dataframe tbody tr th {\n",
       "        vertical-align: top;\n",
       "    }\n",
       "\n",
       "    .dataframe thead th {\n",
       "        text-align: right;\n",
       "    }\n",
       "</style>\n",
       "<table border=\"1\" class=\"dataframe\">\n",
       "  <thead>\n",
       "    <tr style=\"text-align: right;\">\n",
       "      <th></th>\n",
       "      <th>ocean_proximity</th>\n",
       "    </tr>\n",
       "  </thead>\n",
       "  <tbody>\n",
       "    <tr>\n",
       "      <th>17606</th>\n",
       "      <td>&lt;1H OCEAN</td>\n",
       "    </tr>\n",
       "    <tr>\n",
       "      <th>18632</th>\n",
       "      <td>&lt;1H OCEAN</td>\n",
       "    </tr>\n",
       "    <tr>\n",
       "      <th>14650</th>\n",
       "      <td>NEAR OCEAN</td>\n",
       "    </tr>\n",
       "    <tr>\n",
       "      <th>3230</th>\n",
       "      <td>INLAND</td>\n",
       "    </tr>\n",
       "    <tr>\n",
       "      <th>3555</th>\n",
       "      <td>&lt;1H OCEAN</td>\n",
       "    </tr>\n",
       "    <tr>\n",
       "      <th>19480</th>\n",
       "      <td>INLAND</td>\n",
       "    </tr>\n",
       "    <tr>\n",
       "      <th>8879</th>\n",
       "      <td>&lt;1H OCEAN</td>\n",
       "    </tr>\n",
       "    <tr>\n",
       "      <th>13685</th>\n",
       "      <td>INLAND</td>\n",
       "    </tr>\n",
       "    <tr>\n",
       "      <th>4937</th>\n",
       "      <td>&lt;1H OCEAN</td>\n",
       "    </tr>\n",
       "    <tr>\n",
       "      <th>4861</th>\n",
       "      <td>&lt;1H OCEAN</td>\n",
       "    </tr>\n",
       "  </tbody>\n",
       "</table>\n",
       "</div>"
      ],
      "text/plain": [
       "      ocean_proximity\n",
       "17606       <1H OCEAN\n",
       "18632       <1H OCEAN\n",
       "14650      NEAR OCEAN\n",
       "3230           INLAND\n",
       "3555        <1H OCEAN\n",
       "19480          INLAND\n",
       "8879        <1H OCEAN\n",
       "13685          INLAND\n",
       "4937        <1H OCEAN\n",
       "4861        <1H OCEAN"
      ]
     },
     "execution_count": 76,
     "metadata": {},
     "output_type": "execute_result"
    }
   ],
   "source": [
    "housing_cat = housing[[\"ocean_proximity\"]]\n",
    "\n",
    "housing_cat.head(10)\n",
    "\n"
   ]
  },
  {
   "cell_type": "code",
   "execution_count": 77,
   "metadata": {},
   "outputs": [
    {
     "data": {
      "text/plain": [
       "array([[0.],\n",
       "       [0.],\n",
       "       [4.],\n",
       "       [1.],\n",
       "       [0.],\n",
       "       [1.],\n",
       "       [0.],\n",
       "       [1.],\n",
       "       [0.],\n",
       "       [0.]])"
      ]
     },
     "execution_count": 77,
     "metadata": {},
     "output_type": "execute_result"
    }
   ],
   "source": [
    "from sklearn.preprocessing import OrdinalEncoder \n",
    "\n",
    "ordinal_encoder = OrdinalEncoder() \n",
    "housing_cat_encoded = ordinal_encoder.fit_transform(housing_cat) \n",
    "housing_cat_encoded[: 10]\n",
    "\n"
   ]
  },
  {
   "cell_type": "code",
   "execution_count": 78,
   "metadata": {},
   "outputs": [
    {
     "data": {
      "text/plain": [
       "[array(['<1H OCEAN', 'INLAND', 'ISLAND', 'NEAR BAY', 'NEAR OCEAN'],\n",
       "       dtype=object)]"
      ]
     },
     "execution_count": 78,
     "metadata": {},
     "output_type": "execute_result"
    }
   ],
   "source": [
    "ordinal_encoder.categories_\n",
    "\n"
   ]
  },
  {
   "cell_type": "code",
   "execution_count": 79,
   "metadata": {},
   "outputs": [
    {
     "data": {
      "text/plain": [
       "<16512x5 sparse matrix of type '<class 'numpy.float64'>'\n",
       "\twith 16512 stored elements in Compressed Sparse Row format>"
      ]
     },
     "execution_count": 79,
     "metadata": {},
     "output_type": "execute_result"
    }
   ],
   "source": [
    "from sklearn.preprocessing import OneHotEncoder\n",
    "cat_encoder = OneHotEncoder()\n",
    "housing_cat_1hot = cat_encoder.fit_transform(housing_cat) \n",
    "housing_cat_1hot\n",
    "\n"
   ]
  },
  {
   "cell_type": "code",
   "execution_count": 80,
   "metadata": {},
   "outputs": [
    {
     "data": {
      "text/plain": [
       "array([[1., 0., 0., 0., 0.],\n",
       "       [1., 0., 0., 0., 0.],\n",
       "       [0., 0., 0., 0., 1.],\n",
       "       ...,\n",
       "       [0., 1., 0., 0., 0.],\n",
       "       [1., 0., 0., 0., 0.],\n",
       "       [0., 0., 0., 1., 0.]])"
      ]
     },
     "execution_count": 80,
     "metadata": {},
     "output_type": "execute_result"
    }
   ],
   "source": [
    "housing_cat_1hot.toarray()\n",
    "\n"
   ]
  },
  {
   "cell_type": "code",
   "execution_count": 81,
   "metadata": {},
   "outputs": [],
   "source": [
    "#the one hot array above does the following,\n",
    "# it lines up the text categories left to right symbolically\n",
    "# a 1 is placed in the column representative of the actual text for \n",
    "# that row"
   ]
  },
  {
   "cell_type": "code",
   "execution_count": 82,
   "metadata": {},
   "outputs": [],
   "source": [
    "#As written in the text, creating the hyper parameter add bedrooms, we are kind of testing\n",
    "#the hyper parameter.. Is it good? well we can first flag it true and test,\n",
    "#then flag it false and test\n",
    "# In this example the transformer has one hyperparameter, add_bedrooms_per_room, \n",
    "# set to True by default (it is often helpful to provide sensible defaults). \n",
    "# This hyperparameter will allow you to easily find out whether adding this\n",
    "# attribute helps the Machine Learning algorithms or not. More generally,\n",
    "# you can add a hyperparameter to gate any data preparation step that you\n",
    "# are not 100% sure about. The more you automate these data preparation steps, \n",
    "# the more combinations you can automatically try out, making it much more likely\n",
    "# that you will find a great combination (and saving you a lot of time).\n",
    "\n",
    "\n",
    "\n",
    "\n",
    "#for custom transformers three things needed\n",
    "#fit(), transform(), and fit_transform()\n",
    "#note you see 2 below, the third fit_transform()\n",
    "#is included by adding \"TransformerMixin\" as a base class\n",
    "#the \"BaseEstimator\" base class gives two free methods\n",
    "#get_params() and set_params() which are good for auto tuning\n",
    "#hyper params such a hyper param might be the stategy type\n",
    "#of median for the \"SimpleImputer\"\n",
    "from sklearn.base import BaseEstimator, TransformerMixin \n",
    "\n",
    "from sklearn.feature_selection import VarianceThreshold\n",
    "#these are column indices for the dataset\n",
    "rooms_ix, bedrooms_ix, population_ix, households_ix = 3, 4, 5, 6 \n",
    "\n",
    "class CombinedAttributesAdder(BaseEstimator, TransformerMixin): \n",
    "    \n",
    "    # no *args or ** kargs\n",
    "    #custom transformer to add the custom attribute \n",
    "    #bedrooms_per_room which combines total_bedrooms/total_rooms columns\n",
    "    def __init__(self, add_bedrooms_per_room = True): \n",
    "        #set boolean true?\n",
    "        self.add_bedrooms_per_room = add_bedrooms_per_room \n",
    "    def fit( self, X, y = None): \n",
    "            # nothing else to do\n",
    "            return self  \n",
    "    def transform(self, X): \n",
    "            rooms_per_household = X[:, rooms_ix] / X[:, households_ix] \n",
    "            population_per_household = X[:, population_ix] / X[:, households_ix] \n",
    "            #note here is what np.c_ does\n",
    "            #np.c_[np.array([1,2,3]), np.array([4,5,6])]\n",
    "            #array([[1, 4],\n",
    "            #[2, 5],\n",
    "            #[3, 6]])\n",
    "            #combines columns in input array into 2d array\n",
    "            if self.add_bedrooms_per_room: \n",
    "                bedrooms_per_room = X[:, bedrooms_ix] / X[:, rooms_ix] \n",
    "                \n",
    "                returnVal = np.c_[X, rooms_per_household, population_per_household, bedrooms_per_room] \n",
    "                \n",
    "                sel = VarianceThreshold(threshold=(.8 * (1 - .8)))\n",
    "                sel.fit_transform(returnVal)\n",
    "                \n",
    "                return returnVal\n",
    "            else: \n",
    "                return np.c_[X, rooms_per_household, population_per_household] \n",
    "            \n",
    "            \n",
    "            attr_adder = CombinedAttributesAdder( add_bedrooms_per_room = False) \n",
    "            housing_extra_attribs = attr_adder.transform( housing.values)\n",
    "\n",
    "    \n",
    "        \n",
    "\n"
   ]
  },
  {
   "cell_type": "code",
   "execution_count": 83,
   "metadata": {},
   "outputs": [],
   "source": [
    "from sklearn.pipeline import Pipeline \n",
    "from sklearn.preprocessing import StandardScaler \n",
    "\n",
    "#set the sequence of transformations\n",
    "num_pipeline = Pipeline([ ('imputer', SimpleImputer( strategy =\"median\")), \n",
    "                         ('attribs_adder', CombinedAttributesAdder()), \n",
    "                         ('std_scaler', StandardScaler()), ]) \n",
    "#apply the sequence\n",
    "housing_num_tr = num_pipeline.fit_transform(housing_num)\n",
    "\n"
   ]
  },
  {
   "cell_type": "code",
   "execution_count": 84,
   "metadata": {},
   "outputs": [],
   "source": [
    "from sklearn.pipeline import Pipeline \n",
    "from sklearn.preprocessing import StandardScaler \n",
    "\n",
    "#set the sequence of transformations\n",
    "#pair of name estimator pairs\n",
    "#all but last must be transformer\n",
    "num_pipeline = Pipeline([ ('imputer', SimpleImputer( strategy =\"median\")), \n",
    "                         ('attribs_adder', CombinedAttributesAdder()), \n",
    "                         ('std_scaler', StandardScaler()), ]) \n",
    "#apply the sequence, calls fit_transform() sequentially for each pair above\n",
    "#output of first pair passed to second pair, etc..\n",
    "#final estimator calls fit()\n",
    "housing_num_tr = num_pipeline.fit_transform(housing_num)\n",
    "\n",
    "\n"
   ]
  },
  {
   "cell_type": "code",
   "execution_count": 85,
   "metadata": {},
   "outputs": [],
   "source": [
    "\n",
    "#this cell takes the \"ocean_proximity\" column and transforms it\n",
    "#to be numerical like the rest of our columns,\n",
    "#it does so using pipeline\n",
    "#we use \"ColumnTransformer\" as well\n",
    "from sklearn.compose import ColumnTransformer \n",
    "\n",
    "#get numerical columns\n",
    "num_attribs = list( housing_num) \n",
    "#get text columns\n",
    "cat_attribs = [\"ocean_proximity\"] \n",
    "\n",
    "#apply numerical pipelines to num columns portion of data\n",
    "#apply one hot to category column\n",
    "full_pipeline = ColumnTransformer([ (\"num\", num_pipeline, num_attribs), \n",
    "                                   (\"cat\", OneHotEncoder(), cat_attribs),]) \n",
    "\n",
    "#apply the full pipeline to all of the data\n",
    "housing_prepared = full_pipeline.fit_transform( housing)\n",
    "\n",
    "\n",
    "#SMALL NOTE\n",
    "#Note that the OneHotEncoder returns a sparse matrix, while the\n",
    "# num_pipeline returns a dense matrix. When there is such a mix of sparse\n",
    "# and dense matrices, the ColumnTransformer estimates the density of the final\n",
    "# matrix (i.e., the ratio of nonzero cells), and it returns a sparse matrix\n",
    "# if the density is lower than a given threshold (by default, sparse_threshold = 0.3).\n",
    "# In this example, it returns a dense matrix. And that’s it! We have a preprocessing\n",
    "# pipeline that takes the full housing data and applies the appropriate transformations to\n",
    "# each column.\n",
    "\n",
    "#essentially we don't need to worry about this\n",
    "\n",
    "#Note sparse matrix has mainly zeros whereas dense matrix has few zeros and mainly non zeros\n",
    "\n",
    "\n",
    "\n"
   ]
  },
  {
   "cell_type": "code",
   "execution_count": 86,
   "metadata": {},
   "outputs": [],
   "source": [
    "#TIP\n",
    "# Instead of using a transformer, you can specify the \n",
    "# string \"drop\" if you want the columns to be dropped,\n",
    "# or you can specify \"passthrough\" if you want the columns\n",
    "# to be left untouched. By default, the remaining columns\n",
    "# (i.e., the ones that were not listed) will be dropped, but \n",
    "# you can set the remainder hyperparameter to any transformer \n",
    "# (or to \"passthrough\") if you want these columns to be handled differently.\n",
    "\n"
   ]
  },
  {
   "cell_type": "code",
   "execution_count": 87,
   "metadata": {},
   "outputs": [
    {
     "data": {
      "text/plain": [
       "LinearRegression()"
      ]
     },
     "execution_count": 87,
     "metadata": {},
     "output_type": "execute_result"
    }
   ],
   "source": [
    "from sklearn.linear_model import LinearRegression\n",
    "\n",
    "lin_reg = LinearRegression()\n",
    "lin_reg.fit( housing_prepared, housing_labels)\n",
    "\n"
   ]
  },
  {
   "cell_type": "code",
   "execution_count": 88,
   "metadata": {},
   "outputs": [
    {
     "name": "stdout",
     "output_type": "stream",
     "text": [
      "Predictions: [220977.   320386.25 218335.75  47149.5  185789.25]\n"
     ]
    }
   ],
   "source": [
    "#these are our x inputs\n",
    "some_data = housing.iloc[: 5]\n",
    "#these are our labels (actual outputs to compare agains)\n",
    "some_labels = housing_labels.iloc[: 5]\n",
    "#apply our transformations to the same inputs of the training set\n",
    "some_data_prepared = full_pipeline.transform( some_data)\n",
    "\n",
    "#use linear regression to predict outputs based on inputs\n",
    "print(\"Predictions:\", lin_reg.predict( some_data_prepared))\n",
    "\n"
   ]
  },
  {
   "cell_type": "code",
   "execution_count": 89,
   "metadata": {},
   "outputs": [
    {
     "name": "stdout",
     "output_type": "stream",
     "text": [
      "Labels: [286600.0, 340600.0, 196900.0, 46300.0, 254500.0]\n"
     ]
    }
   ],
   "source": [
    "#print the actual data\n",
    "print(\"Labels:\", list( some_labels))\n",
    "\n"
   ]
  },
  {
   "cell_type": "code",
   "execution_count": 90,
   "metadata": {},
   "outputs": [],
   "source": [
    "#the predictions from the linear regression are not that far off..\n",
    "#well not too far at least.."
   ]
  },
  {
   "cell_type": "code",
   "execution_count": 91,
   "metadata": {},
   "outputs": [],
   "source": [
    "#measure the error using RMSE"
   ]
  },
  {
   "cell_type": "code",
   "execution_count": 92,
   "metadata": {},
   "outputs": [
    {
     "data": {
      "text/plain": [
       "66988.5670034171"
      ]
     },
     "execution_count": 92,
     "metadata": {},
     "output_type": "execute_result"
    }
   ],
   "source": [
    "from sklearn.metrics import mean_squared_error \n",
    "\n",
    "housing_predictions = lin_reg.predict(housing_prepared) \n",
    "lin_mse = mean_squared_error( housing_labels, housing_predictions) \n",
    "lin_rmse = np.sqrt( lin_mse) \n",
    "lin_rmse\n",
    "\n"
   ]
  },
  {
   "cell_type": "code",
   "execution_count": 93,
   "metadata": {},
   "outputs": [],
   "source": [
    "#underfitting according to RMSE"
   ]
  },
  {
   "cell_type": "code",
   "execution_count": 94,
   "metadata": {},
   "outputs": [],
   "source": [
    "#time to use a more complex model"
   ]
  },
  {
   "cell_type": "code",
   "execution_count": 95,
   "metadata": {},
   "outputs": [],
   "source": [
    "# Let’s train a DecisionTreeRegressor. This is a powerful model,\n",
    "# capable of finding complex nonlinear relationships in the data\n",
    "\n"
   ]
  },
  {
   "cell_type": "code",
   "execution_count": 96,
   "metadata": {},
   "outputs": [
    {
     "data": {
      "text/plain": [
       "DecisionTreeRegressor()"
      ]
     },
     "execution_count": 96,
     "metadata": {},
     "output_type": "execute_result"
    }
   ],
   "source": [
    "from sklearn.tree import DecisionTreeRegressor \n",
    "\n",
    "tree_reg = DecisionTreeRegressor() \n",
    "#housing prepared is the dataset after going through full pipeline\n",
    "#housing labels are the target values\n",
    "tree_reg.fit(housing_prepared, housing_labels)\n",
    "\n"
   ]
  },
  {
   "cell_type": "code",
   "execution_count": 97,
   "metadata": {},
   "outputs": [
    {
     "data": {
      "text/plain": [
       "0.0"
      ]
     },
     "execution_count": 97,
     "metadata": {},
     "output_type": "execute_result"
    }
   ],
   "source": [
    "#calc predictions and RMSE \n",
    "housing_predictions = tree_reg.predict(housing_prepared) \n",
    "tree_mse = mean_squared_error(housing_labels, housing_predictions) \n",
    "tree_rmse = np.sqrt( tree_mse) \n",
    "tree_rmse\n",
    "\n",
    "\n",
    "\n"
   ]
  },
  {
   "cell_type": "code",
   "execution_count": 98,
   "metadata": {},
   "outputs": [],
   "source": [
    "#^0 error.... when using DecisionTreeRegressor()..."
   ]
  },
  {
   "cell_type": "code",
   "execution_count": 99,
   "metadata": {},
   "outputs": [],
   "source": [
    "#good, but we are likely overfitting the data"
   ]
  },
  {
   "cell_type": "code",
   "execution_count": 100,
   "metadata": {},
   "outputs": [],
   "source": [
    "#we should NOT test the test set as this overfitting will not adapt well"
   ]
  },
  {
   "cell_type": "code",
   "execution_count": 101,
   "metadata": {},
   "outputs": [],
   "source": [
    "#Better Evaluation Using Cross-Validation\n",
    "\n"
   ]
  },
  {
   "cell_type": "code",
   "execution_count": 102,
   "metadata": {},
   "outputs": [],
   "source": [
    "# The following code randomly splits the training set into 10 distinct subsets called folds,\n",
    "# then it trains and evaluates the Decision Tree model 10 times, picking a different\n",
    "# fold for evaluation every time and training on the other 9 folds. The result is an\n",
    "# array containing the 10 evaluation scores:\n",
    "\n",
    "    \n",
    "from sklearn.model_selection import cross_val_score \n",
    "\n",
    "#use tree reg with data through transformation pipeline, target vals, and score using neg RMSE#\n",
    "scores = cross_val_score(tree_reg, housing_prepared, housing_labels, scoring =\"neg_mean_squared_error\", cv = 10) \n",
    "tree_rmse_scores = np.sqrt(-scores)\n",
    "\n"
   ]
  },
  {
   "cell_type": "code",
   "execution_count": 103,
   "metadata": {},
   "outputs": [],
   "source": [
    "#^ for SciKit Learn's validation greater is better versus our typical cost of lower is better\n",
    "#hence the negative"
   ]
  },
  {
   "cell_type": "code",
   "execution_count": 104,
   "metadata": {},
   "outputs": [],
   "source": [
    "def display_scores( scores):\n",
    "    print(\"Scores:\", scores) \n",
    "    print(\"Mean:\", scores.mean())\n",
    "    print(\"Standard deviation:\", scores.std())\n",
    "\n"
   ]
  },
  {
   "cell_type": "code",
   "execution_count": 105,
   "metadata": {},
   "outputs": [
    {
     "name": "stdout",
     "output_type": "stream",
     "text": [
      "Scores: [70059.24367977 67386.94311469 72494.33219754 69079.49366743\n",
      " 71332.88518335 72434.88942976 69872.16608651 67565.07065536\n",
      " 74851.60865038 70011.26009148]\n",
      "Mean: 70508.78927562766\n",
      "Standard deviation: 2202.2865618624623\n"
     ]
    }
   ],
   "source": [
    "display_scores( tree_rmse_scores)\n"
   ]
  },
  {
   "cell_type": "code",
   "execution_count": 106,
   "metadata": {},
   "outputs": [],
   "source": [
    "#overall the evaluation scores per cross validation are worse than the linear regression model...\n",
    "#this is good because cross validation tests generalization by using the folds method, so it shows even within \n",
    "#these tiny folds in the training set (where we know the issue is not bad data so we don't need train dev sest)\n",
    "#the data is overfitted since it can't even adapt to new values in the training set"
   ]
  },
  {
   "cell_type": "code",
   "execution_count": 107,
   "metadata": {},
   "outputs": [],
   "source": [
    "#to confirm if the tree is performing worse, let us use \n",
    "#cross validation on the linear regression algorithm"
   ]
  },
  {
   "cell_type": "code",
   "execution_count": 108,
   "metadata": {},
   "outputs": [
    {
     "name": "stdout",
     "output_type": "stream",
     "text": [
      "Scores: [64390.24134807 65974.69195641 66487.23412236 70607.52685338\n",
      " 66391.15346493 69595.7874953  70436.43797153 66982.6239614\n",
      " 71304.30596222 65717.0675605 ]\n",
      "Mean: 67788.70706960869\n",
      "Standard deviation: 2324.0023101500465\n"
     ]
    }
   ],
   "source": [
    "lin_scores = cross_val_score(lin_reg, housing_prepared, housing_labels, \n",
    "                             scoring =\"neg_mean_squared_error\", \n",
    "                             cv = 10) \n",
    "lin_rmse_scores = np.sqrt(-lin_scores) \n",
    "display_scores( lin_rmse_scores)\n",
    "\n",
    "\n",
    "\n"
   ]
  },
  {
   "cell_type": "code",
   "execution_count": 109,
   "metadata": {},
   "outputs": [],
   "source": [
    "#Yep.. on average the linear regression algorithm performs better...\n",
    "#the tree is critically overfitting"
   ]
  },
  {
   "cell_type": "code",
   "execution_count": 110,
   "metadata": {},
   "outputs": [],
   "source": [
    "#Now we try RandomForestRegressor which trains many decision trees on random subsets of\n",
    "#the features (attributes)\n",
    "#Since we are building a model (RandomForestRegressor)\n",
    "#on top of other models (DecisionTrees)\n",
    "#this is called EnsembleLearning"
   ]
  },
  {
   "cell_type": "code",
   "execution_count": 111,
   "metadata": {},
   "outputs": [
    {
     "data": {
      "text/plain": [
       "18412.861997137785"
      ]
     },
     "execution_count": 111,
     "metadata": {},
     "output_type": "execute_result"
    }
   ],
   "source": [
    "from sklearn.ensemble import RandomForestRegressor \n",
    "\n",
    "forest_reg = RandomForestRegressor() \n",
    "forest_reg.fit( housing_prepared, housing_labels)\n",
    "\n",
    "housing_predictions = forest_reg.predict(housing_prepared) \n",
    "forest_mse = mean_squared_error(housing_labels, housing_predictions) \n",
    "forest_rmse = np.sqrt(forest_mse) \n",
    "\n",
    "forest_rmse\n"
   ]
  },
  {
   "cell_type": "code",
   "execution_count": 112,
   "metadata": {},
   "outputs": [
    {
     "name": "stdout",
     "output_type": "stream",
     "text": [
      "Scores: [49119.50960336 46747.26348778 48862.65184201 51689.28710937\n",
      " 48361.19456053 52937.85565992 47748.01360455 47585.60573973\n",
      " 52218.09565989 49118.48547668]\n",
      "Mean: 49438.796274380606\n",
      "Standard deviation: 2006.6826215893134\n"
     ]
    }
   ],
   "source": [
    "forest_scores = cross_val_score(forest_reg, housing_prepared, housing_labels, \n",
    "                             scoring =\"neg_mean_squared_error\", \n",
    "                             cv = 10) \n",
    "forest_rmse_scores = np.sqrt(-forest_scores) \n",
    "display_scores( forest_rmse_scores)"
   ]
  },
  {
   "cell_type": "code",
   "execution_count": null,
   "metadata": {},
   "outputs": [],
   "source": [
    "#save our models for later review using Joblib"
   ]
  },
  {
   "cell_type": "code",
   "execution_count": null,
   "metadata": {},
   "outputs": [],
   "source": [
    "#import joblib \n",
    "#joblib.dump( my_model, \"my_model.pkl\") \n",
    "# and later...\n",
    "#my_model_loaded = joblib.load(\"my_model.pkl\")\n",
    "\n"
   ]
  },
  {
   "cell_type": "code",
   "execution_count": null,
   "metadata": {},
   "outputs": [],
   "source": [
    "#testing SVM\n",
    "from sklearn import svm\n",
    "\n",
    "\n",
    "\n",
    "svm_reg = svm.SVR()\n",
    "svm_reg.fit(housing_prepared, housing_labels)\n",
    "\n",
    "\n",
    "housing_predictions = svm_reg.predict(housing_prepared) \n",
    "svm_mse = mean_squared_error(housing_labels, housing_predictions) \n",
    "svm_rmse = np.sqrt(svm_mse) \n",
    "\n",
    "svm_rmse"
   ]
  },
  {
   "cell_type": "code",
   "execution_count": null,
   "metadata": {},
   "outputs": [],
   "source": [
    "svm_scores = cross_val_score(svm_reg, housing_prepared, housing_labels, \n",
    "                             scoring =\"neg_mean_squared_error\", \n",
    "                             cv = 10) \n",
    "svm_rmse_scores = np.sqrt(-svm_scores) \n",
    "display_scores(svm_rmse_scores)"
   ]
  },
  {
   "cell_type": "code",
   "execution_count": 114,
   "metadata": {},
   "outputs": [
    {
     "data": {
      "text/plain": [
       "{'n_estimators': 31, 'max_features': 12}"
      ]
     },
     "execution_count": 114,
     "metadata": {},
     "output_type": "execute_result"
    }
   ],
   "source": [
    "#fine tune the hyperparameters of random forest using GridSearchCV\n",
    "from sklearn.model_selection import GridSearchCV \n",
    "\n",
    "#try using 3, 10, and 30 estimators, 2, 4, 6, and 8 max features\n",
    "#false the bootstrap(some resampling technique)\n",
    "#note we have two arrays in here each with their tweaks\n",
    "# param_grid = [ {'n_estimators': [3, 10, 30], 'max_features': [2, 4, 6, 8]}, \n",
    "#               {'bootstrap': [False], 'n_estimators': [3, 10], 'max_features': [2, 3, 4]}, ]\n",
    "\n",
    "forest_reg = RandomForestRegressor() \n",
    "\n",
    "#note cv = 5 means five fold cross validation\n",
    "#previously we were using 10 fold\n",
    "# grid_search = GridSearchCV( forest_reg, param_grid, cv = 5, \n",
    "#                            scoring ='neg_mean_squared_error', \n",
    "#                            return_train_score = True) \n",
    "# grid_search.fit( housing_prepared, housing_labels)\n",
    "    \n",
    "\n",
    "from sklearn.model_selection import RandomizedSearchCV\n",
    "\n",
    "distributions = dict({'n_estimators': [3, 10, 15, 17, 18, 30, 31, 32], 'max_features': [2, 4, 6, 8, 10, 12, 14]}, \n",
    "               )\n",
    "\n",
    "\n",
    "clf = RandomizedSearchCV(forest_reg, distributions, random_state=0)\n",
    "search = clf.fit(housing_prepared, housing_labels)\n",
    "search.best_params_"
   ]
  },
  {
   "cell_type": "code",
   "execution_count": 134,
   "metadata": {},
   "outputs": [
    {
     "name": "stdout",
     "output_type": "stream",
     "text": [
      "{'n_estimators': 30, 'max_features': 12}\n",
      "48343.89508923807\n",
      "{'n_estimators': 10, 'max_features': 10}\n",
      "50433.605128430136\n",
      "{'n_estimators': 3, 'max_features': 12}\n",
      "56122.40834433993\n",
      "{'n_estimators': 15, 'max_features': 8}\n",
      "49549.65867053875\n",
      "{'n_estimators': 17, 'max_features': 4}\n",
      "50732.4436794623\n",
      "{'n_estimators': 15, 'max_features': 2}\n",
      "54151.88616394182\n",
      "{'n_estimators': 3, 'max_features': 10}\n",
      "56888.149049544714\n",
      "{'n_estimators': 17, 'max_features': 12}\n",
      "48772.920656030605\n",
      "{'n_estimators': 31, 'max_features': 12}\n",
      "48982.95324717629\n",
      "{'n_estimators': 31, 'max_features': 8}\n",
      "48768.844375520064\n"
     ]
    }
   ],
   "source": [
    "#testing randoms best RMSE \n",
    "#not so hot...\n",
    "\n",
    "#able to print the results myself\n",
    "cvres = search.cv_results_\n",
    "for mean_score, params in zip(cvres[\"mean_test_score\"], cvres[\"params\"]):\n",
    "    print(params)\n",
    "    num_estim = params['n_estimators']\n",
    "    max_feat = params['max_features']\n",
    "    final_model = RandomForestRegressor(n_estimators=num_estim, max_features=max_feat).fit(housing_prepared, housing_labels)\n",
    "    X_test = strat_test_set.drop(\"median_house_value\", axis = 1) \n",
    "    y_test = strat_test_set[\"median_house_value\"].copy() \n",
    "    X_test_prepared = full_pipeline.transform( X_test) \n",
    "    final_predictions = final_model.predict(X_test_prepared) \n",
    "    final_mse = mean_squared_error( y_test, final_predictions) \n",
    "    final_rmse = np.sqrt(final_mse)\n",
    "    print(final_rmse)\n",
    "\n",
    "# for i in search.cv_results_:\n",
    "    \n",
    "\n",
    "\n",
    "\n",
    "#tip\n",
    "# When you have no idea what value a hyperparameter should have, a simple\n",
    "# approach is to try out consecutive powers of 10 (or a smaller number if\n",
    "# you want a more fine-grained search, as shown in this example with the n_estimators\n",
    "# hyperparameter).\n",
    "\n"
   ]
  },
  {
   "cell_type": "code",
   "execution_count": 126,
   "metadata": {},
   "outputs": [
    {
     "name": "stdout",
     "output_type": "stream",
     "text": [
      "RandomForestRegressor(max_features=12, n_estimators=31)\n"
     ]
    }
   ],
   "source": [
    "print(search.best_estimator_)"
   ]
  },
  {
   "cell_type": "code",
   "execution_count": 179,
   "metadata": {},
   "outputs": [
    {
     "name": "stdout",
     "output_type": "stream",
     "text": [
      "<class 'pandas.core.frame.DataFrame'>\n",
      "Int64Index: 16512 entries, 17606 to 15775\n",
      "Data columns (total 11 columns):\n",
      " #   Column                    Non-Null Count  Dtype  \n",
      "---  ------                    --------------  -----  \n",
      " 0   longitude                 16512 non-null  float64\n",
      " 1   latitude                  16512 non-null  float64\n",
      " 2   housing_median_age        16512 non-null  float64\n",
      " 3   total_rooms               16512 non-null  float64\n",
      " 4   total_bedrooms            16512 non-null  float64\n",
      " 5   population                16512 non-null  float64\n",
      " 6   households                16512 non-null  float64\n",
      " 7   median_income             16512 non-null  float64\n",
      " 8   rooms_per_household       16512 non-null  float64\n",
      " 9   bedrooms_per_room         16512 non-null  float64\n",
      " 10  population_per_household  16512 non-null  float64\n",
      "dtypes: float64(11)\n",
      "memory usage: 1.5 MB\n"
     ]
    }
   ],
   "source": [
    "median = housing[\"total_bedrooms\"]. median()\n",
    "\n",
    "from sklearn.impute import SimpleImputer \n",
    "imputer = SimpleImputer( strategy =\"median\")\n",
    "\n",
    "\n",
    "housing_num = housing.drop(\"ocean_proximity\", axis = 1)\n",
    "\n",
    "imputer.fit(housing_num)\n",
    "\n",
    "X = imputer.transform(housing_num)\n",
    "\n",
    "housing_num = pd.DataFrame(X, columns = housing_num.columns, index = housing_num.index)\n",
    "\n",
    "housing_num.info()\n"
   ]
  },
  {
   "cell_type": "code",
   "execution_count": 169,
   "metadata": {},
   "outputs": [],
   "source": [
    "from sklearn.datasets import load_iris\n",
    "from sklearn.feature_selection import SelectKBest\n",
    "from sklearn.feature_selection import chi2\n",
    "#     X, y = load_iris(return_X_y=True)\n",
    "# >>> X.shape\n",
    "# (150, 4)\n",
    "#     X_new = SelectKBest(chi2, k=2).fit_transform(X, y)\n",
    "#     X_new.shape\n",
    "# (150, 2)\n",
    "\n",
    "\n",
    "#As written in the text, creating the hyper parameter add bedrooms, we are kind of testing\n",
    "#the hyper parameter.. Is it good? well we can first flag it true and test,\n",
    "#then flag it false and test\n",
    "# In this example the transformer has one hyperparameter, add_bedrooms_per_room, \n",
    "# set to True by default (it is often helpful to provide sensible defaults). \n",
    "# This hyperparameter will allow you to easily find out whether adding this\n",
    "# attribute helps the Machine Learning algorithms or not. More generally,\n",
    "# you can add a hyperparameter to gate any data preparation step that you\n",
    "# are not 100% sure about. The more you automate these data preparation steps, \n",
    "# the more combinations you can automatically try out, making it much more likely\n",
    "# that you will find a great combination (and saving you a lot of time).\n",
    "\n",
    "\n",
    "\n",
    "\n",
    "#for custom transformers three things needed\n",
    "#fit(), transform(), and fit_transform()\n",
    "#note you see 2 below, the third fit_transform()\n",
    "#is included by adding \"TransformerMixin\" as a base class\n",
    "#the \"BaseEstimator\" base class gives two free methods\n",
    "#get_params() and set_params() which are good for auto tuning\n",
    "#hyper params such a hyper param might be the stategy type\n",
    "#of median for the \"SimpleImputer\"\n",
    "from sklearn.base import BaseEstimator, TransformerMixin \n",
    "\n",
    "from sklearn.feature_selection import VarianceThreshold\n",
    "#these are column indices for the dataset\n",
    "rooms_ix, bedrooms_ix, population_ix, households_ix = 3, 4, 5, 6 \n",
    "\n",
    "class CombinedAttributesAdder2(BaseEstimator, TransformerMixin): \n",
    "    \n",
    "    # no *args or ** kargs\n",
    "    #custom transformer to add the custom attribute \n",
    "    #bedrooms_per_room which combines total_bedrooms/total_rooms columns\n",
    "    def __init__(self, add_bedrooms_per_room = True): \n",
    "        #set boolean true?\n",
    "        self.add_bedrooms_per_room = add_bedrooms_per_room \n",
    "    def fit( self, X, y = None): \n",
    "            # nothing else to do\n",
    "            return self  \n",
    "    def transform(self, X): \n",
    "            \n",
    "            \n",
    "            #note here is what np.c_ does\n",
    "            #np.c_[np.array([1,2,3]), np.array([4,5,6])]\n",
    "            #array([[1, 4],\n",
    "            #[2, 5],\n",
    "            #[3, 6]])\n",
    "            #combines columns in input array into 2d array\n",
    "            if self.add_bedrooms_per_room: \n",
    "                \n",
    "                \n",
    "                \n",
    "                \n",
    "                X = SelectKBest(chi2, k=2).fit_transform(housing_num, housing_labels)\n",
    "                print(X_new.info())\n",
    "                \n",
    "                \n",
    "                \n",
    "                return np.c_[X, rooms_per_household, population_per_household, bedrooms_per_room] \n",
    "                \n",
    "            else: \n",
    "                return np.c_[X, rooms_per_household, population_per_household] \n",
    "            \n",
    "            \n",
    "            attr_adder = CombinedAttributesAdder( add_bedrooms_per_room = False) \n",
    "            housing_extra_attribs = attr_adder.transform( housing.values)\n",
    "\n",
    "    \n",
    "        \n",
    "\n",
    "\n",
    "\n",
    "\n",
    "\n"
   ]
  },
  {
   "cell_type": "code",
   "execution_count": 164,
   "metadata": {},
   "outputs": [
    {
     "name": "stdout",
     "output_type": "stream",
     "text": [
      "0.39096471861870913\n",
      "median_income\n",
      "0.1540596771986014\n",
      "INLAND\n",
      "0.07037646543846873\n",
      "rooms_per_household\n",
      "0.062222704591347\n",
      "longitude\n",
      "0.05761836862232709\n",
      "latitude\n",
      "0.05115095915174943\n",
      "pop_per_hhold\n",
      "0.04739145739413316\n",
      "population_per_household\n",
      "0.039102190630224826\n",
      "housing_median_age\n",
      "0.030523720849855766\n",
      "bedrooms_per_room\n",
      "0.021454506785598886\n",
      "bedrooms_per_room\n",
      "0.021311017913683856\n",
      "rooms_per_hhold\n",
      "0.012271076285395062\n",
      "total_rooms\n",
      "0.01185704786761798\n",
      "total_bedrooms\n",
      "0.011450822051574406\n",
      "population\n",
      "0.011148068290426286\n",
      "households\n",
      "0.003029048853168095\n",
      "<1H OCEAN\n",
      "0.002301684812100263\n",
      "NEAR OCEAN\n",
      "0.0017381923012956628\n",
      "NEAR BAY\n",
      "2.8272343722778223e-05\n",
      "ISLAND\n"
     ]
    }
   ],
   "source": [
    "feature_importances = search.best_estimator_.feature_importances_\n",
    "feature_importances\n",
    "extra_attribs = [\"rooms_per_hhold\", \"pop_per_hhold\", \"bedrooms_per_room\"]\n",
    "#cat_encoder = cat_pipeline.named_steps[\"cat_encoder\"] # old solution\n",
    "cat_encoder = full_pipeline.named_transformers_[\"cat\"]\n",
    "cat_one_hot_attribs = list(cat_encoder.categories_[0])\n",
    "attributes = num_attribs + extra_attribs + cat_one_hot_attribs\n",
    "mydata = sorted(zip(feature_importances, attributes), reverse=True)\n",
    "\n",
    "for attribute in mydata:\n",
    "    print(attribute[0])\n",
    "    print(attribute[1])\n",
    "    \n",
    "    if\n",
    "    "
   ]
  },
  {
   "cell_type": "code",
   "execution_count": 180,
   "metadata": {},
   "outputs": [
    {
     "name": "stdout",
     "output_type": "stream",
     "text": [
      "<class 'pandas.core.frame.DataFrame'>\n",
      "Int64Index: 16512 entries, 17606 to 15775\n",
      "Data columns (total 11 columns):\n",
      " #   Column                    Non-Null Count  Dtype  \n",
      "---  ------                    --------------  -----  \n",
      " 0   longitude                 16512 non-null  float64\n",
      " 1   latitude                  16512 non-null  float64\n",
      " 2   housing_median_age        16512 non-null  float64\n",
      " 3   total_rooms               16512 non-null  float64\n",
      " 4   total_bedrooms            16512 non-null  float64\n",
      " 5   population                16512 non-null  float64\n",
      " 6   households                16512 non-null  float64\n",
      " 7   median_income             16512 non-null  float64\n",
      " 8   rooms_per_household       16512 non-null  float64\n",
      " 9   bedrooms_per_room         16512 non-null  float64\n",
      " 10  population_per_household  16512 non-null  float64\n",
      "dtypes: float64(11)\n",
      "memory usage: 1.5 MB\n"
     ]
    }
   ],
   "source": [
    "housing_num.info()"
   ]
  },
  {
   "cell_type": "code",
   "execution_count": 251,
   "metadata": {},
   "outputs": [],
   "source": [
    "from sklearn.base import BaseEstimator, TransformerMixin\n",
    "\n",
    "# column index\n",
    "rooms_ix, bedrooms_ix, population_ix, households_ix = 3, 4, 5, 6\n",
    "\n",
    "class CombinedAttributesAdder(BaseEstimator, TransformerMixin):\n",
    "    def __init__(self, add_bedrooms_per_room = True): # no *args or **kargs\n",
    "        self.add_bedrooms_per_room = add_bedrooms_per_room\n",
    "    def fit(self, X, y=None):\n",
    "        return self  # nothing else to do\n",
    "    def transform(self, X):\n",
    "        rooms_per_household = X[:, rooms_ix] / X[:, households_ix]\n",
    "        population_per_household = X[:, population_ix] / X[:, households_ix]\n",
    "        if self.add_bedrooms_per_room:\n",
    "            bedrooms_per_room = X[:, bedrooms_ix] / X[:, rooms_ix]\n",
    "            return np.c_[X, rooms_per_household, population_per_household,\n",
    "                         bedrooms_per_room]\n",
    "        else:\n",
    "            return np.c_[X, rooms_per_household, population_per_household]\n",
    "\n",
    "attr_adder = CombinedAttributesAdder(add_bedrooms_per_room=False)\n",
    "housing_extra_attribs = attr_adder.transform(housing.values)"
   ]
  },
  {
   "cell_type": "code",
   "execution_count": 225,
   "metadata": {},
   "outputs": [
    {
     "data": {
      "text/plain": [
       "array([[1568.,  710.],\n",
       "       [ 679.,  306.],\n",
       "       [1952.,  936.],\n",
       "       ...,\n",
       "       [4855., 2098.],\n",
       "       [1960., 1356.],\n",
       "       [3095., 1269.]])"
      ]
     },
     "execution_count": 225,
     "metadata": {},
     "output_type": "execute_result"
    }
   ],
   "source": [
    "from sklearn.datasets import load_iris\n",
    "from sklearn.feature_selection import SelectKBest\n",
    "from sklearn.feature_selection import chi2\n",
    "class FunctionFeaturizer(BaseEstimator, TransformerMixin):\n",
    "    def __init__(self, transformer):\n",
    "        self.transformer = transformer\n",
    "\n",
    "    def fit(self, X, y=None):\n",
    "        self.transformer.fit(X, y)\n",
    "        return self\n",
    "\n",
    "    def transform(self, X):\n",
    "        \n",
    "        X = self.transformer.transform(X)\n",
    "        \n",
    "        \n",
    "        return X\n",
    "ff = FunctionFeaturizer(SelectKBest(chi2, k=2))\n",
    "\n",
    "\n",
    "housing_no_negative = housing_num.drop(\"longitude\", axis = 1)\n",
    "housing_no_negative = housing_no_negative.drop(\"latitude\", axis = 1)\n",
    "ff.fit(housing_no_negative, housing_labels)\n",
    "ff.transform(housing_no_negative)"
   ]
  },
  {
   "cell_type": "code",
   "execution_count": 252,
   "metadata": {},
   "outputs": [],
   "source": [
    "from sklearn.pipeline import Pipeline\n",
    "from sklearn.preprocessing import StandardScaler\n",
    "\n",
    "num_pipeline = Pipeline([\n",
    "        ('imputer', SimpleImputer(strategy=\"median\")),\n",
    "        ('attribs_adder', CombinedAttributesAdder()),\n",
    "        ('std_scaler', StandardScaler()),\n",
    "    ])\n",
    "\n",
    "housing_num_tr = num_pipeline.fit_transform(housing_num)\n",
    "\n",
    "from sklearn.compose import ColumnTransformer\n",
    "\n",
    "num_attribs = list(housing_num)\n",
    "cat_attribs = [\"ocean_proximity\"]\n",
    "\n",
    "full_pipeline = ColumnTransformer([\n",
    "        (\"num\", num_pipeline, num_attribs),\n",
    "        (\"cat\", OneHotEncoder(), cat_attribs),\n",
    "    ])\n",
    "\n",
    "housing_prepared = full_pipeline.fit_transform(housing)"
   ]
  },
  {
   "cell_type": "code",
   "execution_count": 255,
   "metadata": {},
   "outputs": [
    {
     "name": "stdout",
     "output_type": "stream",
     "text": [
      "19\n",
      "19\n"
     ]
    }
   ],
   "source": [
    "print(len(housing_prepared[0]))\n",
    "extra_attribs = [\"rooms_per_hhold\", \"pop_per_hhold\", \"bedrooms_per_room\"]\n",
    "#cat_encoder = cat_pipeline.named_steps[\"cat_encoder\"] # old solution\n",
    "cat_encoder = full_pipeline.named_transformers_[\"cat\"]\n",
    "cat_one_hot_attribs = list(cat_encoder.categories_[0])\n",
    "attributes = num_attribs + extra_attribs + cat_one_hot_attribs\n",
    "print(len(attributes))"
   ]
  },
  {
   "cell_type": "code",
   "execution_count": 261,
   "metadata": {},
   "outputs": [
    {
     "name": "stdout",
     "output_type": "stream",
     "text": [
      "<class 'pandas.core.frame.DataFrame'>\n",
      "Int64Index: 16512 entries, 17606 to 15775\n",
      "Data columns (total 11 columns):\n",
      " #   Column                    Non-Null Count  Dtype  \n",
      "---  ------                    --------------  -----  \n",
      " 0   longitude                 16512 non-null  float64\n",
      " 1   latitude                  16512 non-null  float64\n",
      " 2   housing_median_age        16512 non-null  float64\n",
      " 3   total_rooms               16512 non-null  float64\n",
      " 4   total_bedrooms            16512 non-null  float64\n",
      " 5   population                16512 non-null  float64\n",
      " 6   households                16512 non-null  float64\n",
      " 7   median_income             16512 non-null  float64\n",
      " 8   rooms_per_household       16512 non-null  float64\n",
      " 9   bedrooms_per_room         16512 non-null  float64\n",
      " 10  population_per_household  16512 non-null  float64\n",
      "dtypes: float64(11)\n",
      "memory usage: 1.5 MB\n"
     ]
    }
   ],
   "source": [
    "housing_num.info()"
   ]
  },
  {
   "cell_type": "code",
   "execution_count": 271,
   "metadata": {},
   "outputs": [
    {
     "name": "stdout",
     "output_type": "stream",
     "text": [
      "median_income\n",
      "rooms_per_household\n",
      "[1, 3, 4, 5, 6, 7, 8, 9, 10, 11, 12, 13, 14, 15, 16, 17, 18]\n",
      "2\n",
      "final prediction is\n",
      "60563.333333333336\n"
     ]
    }
   ],
   "source": [
    "from sklearn.model_selection import GridSearchCV\n",
    "\n",
    "from sklearn.pipeline import Pipeline\n",
    "from sklearn.preprocessing import StandardScaler\n",
    "\n",
    "def calculateprediction(val1, val2):\n",
    "\n",
    "    num_pipeline = Pipeline([\n",
    "            ('imputer', SimpleImputer(strategy=\"median\")),\n",
    "            ('attribs_adder', CombinedAttributesAdder()),\n",
    "            ('std_scaler', StandardScaler()),\n",
    "        ])\n",
    "\n",
    "    housing_num_tr = num_pipeline.fit_transform(housing_num)\n",
    "\n",
    "    from sklearn.compose import ColumnTransformer\n",
    "\n",
    "    num_attribs = list(housing_num)\n",
    "    cat_attribs = [\"ocean_proximity\"]\n",
    "\n",
    "    full_pipeline = ColumnTransformer([\n",
    "            (\"num\", num_pipeline, num_attribs),\n",
    "            (\"cat\", OneHotEncoder(), cat_attribs),\n",
    "        ])\n",
    "\n",
    "    housing_prepared = full_pipeline.fit_transform(housing)\n",
    "\n",
    "\n",
    "    param_grid = [\n",
    "        # try 12 (3×4) combinations of hyperparameters\n",
    "        {'n_estimators': [3, 10, 30], 'max_features': [2, 4, 6, 8]},\n",
    "        # then try 6 (2×3) combinations with bootstrap set as False\n",
    "        {'bootstrap': [False], 'n_estimators': [3, 10], 'max_features': [2, 3, 4]},\n",
    "      ]\n",
    "\n",
    "    forest_reg = RandomForestRegressor(random_state=42)\n",
    "    # train across 5 folds, that's a total of (12+6)*5=90 rounds of training \n",
    "    grid_search = GridSearchCV(forest_reg, param_grid, cv=2,\n",
    "                               scoring='neg_mean_squared_error',\n",
    "                               return_train_score=True)\n",
    "    grid_search.fit(housing_prepared, housing_labels)\n",
    "\n",
    "\n",
    "    extra_attribs = [\"rooms_per_hhold\", \"pop_per_hhold\", \"bedrooms_per_room\"]\n",
    "    #cat_encoder = cat_pipeline.named_steps[\"cat_encoder\"] # old solution\n",
    "    cat_encoder = full_pipeline.named_transformers_[\"cat\"]\n",
    "    cat_one_hot_attribs = list(cat_encoder.categories_[0])\n",
    "    attributes = num_attribs + extra_attribs + cat_one_hot_attribs\n",
    "    mylist = sorted(zip(feature_importances, attributes), reverse=True)\n",
    "    index = 0\n",
    "    housing_prepared_cols_to_drop = []\n",
    "    for item in mylist:\n",
    "        if item[0] < 0.07 or (item[0] > 0.7 and item[0] < 0.2) or item[1] == \"INLAND\" :\n",
    "            housing_prepared_cols_to_drop.append(index)\n",
    "        else:\n",
    "            print(item[1])\n",
    "        index = index+1\n",
    "\n",
    "    \n",
    "\n",
    "    print(housing_prepared_cols_to_drop)    \n",
    "\n",
    "    housing_prepared = np.delete(housing_prepared, housing_prepared_cols_to_drop, axis=1)\n",
    "\n",
    "    print(len(housing_prepared[0]))\n",
    "    \n",
    "    param_grid = [\n",
    "        # try 12 (3×4) combinations of hyperparameters\n",
    "        {'n_estimators': [3, 10, 30], 'max_features': [2]}\n",
    "      ]\n",
    "\n",
    "    forest_reg = RandomForestRegressor(random_state=42)\n",
    "  \n",
    "    grid_search = GridSearchCV(forest_reg, param_grid, cv=2,\n",
    "                               scoring='neg_mean_squared_error',\n",
    "                               return_train_score=True)\n",
    "    grid_search.fit(housing_prepared, housing_labels)\n",
    "    \n",
    "    final_model = grid_search.best_estimator_\n",
    "\n",
    "    mydata = np.array([[val1, val2]])\n",
    "\n",
    "    final_predictions = final_model.predict(mydata) \n",
    "    print(\"final prediction is\")\n",
    "    print(final_predictions[0])\n",
    "    \n",
    "calculateprediction(3, 4.5)    "
   ]
  },
  {
   "cell_type": "code",
   "execution_count": 244,
   "metadata": {},
   "outputs": [
    {
     "ename": "KeyboardInterrupt",
     "evalue": "",
     "output_type": "error",
     "traceback": [
      "\u001b[1;31m---------------------------------------------------------------------------\u001b[0m",
      "\u001b[1;31mKeyboardInterrupt\u001b[0m                         Traceback (most recent call last)",
      "\u001b[1;32m<ipython-input-244-78e28d44fe20>\u001b[0m in \u001b[0;36m<module>\u001b[1;34m\u001b[0m\n\u001b[0;32m     25\u001b[0m \u001b[1;33m\u001b[0m\u001b[0m\n\u001b[0;32m     26\u001b[0m \u001b[0mclf\u001b[0m \u001b[1;33m=\u001b[0m \u001b[0mRandomizedSearchCV\u001b[0m\u001b[1;33m(\u001b[0m\u001b[0mforest_reg\u001b[0m\u001b[1;33m,\u001b[0m \u001b[0mdistributions\u001b[0m\u001b[1;33m,\u001b[0m \u001b[0mrandom_state\u001b[0m\u001b[1;33m=\u001b[0m\u001b[1;36m0\u001b[0m\u001b[1;33m)\u001b[0m\u001b[1;33m\u001b[0m\u001b[1;33m\u001b[0m\u001b[0m\n\u001b[1;32m---> 27\u001b[1;33m \u001b[0msearch\u001b[0m \u001b[1;33m=\u001b[0m \u001b[0mclf\u001b[0m\u001b[1;33m.\u001b[0m\u001b[0mfit\u001b[0m\u001b[1;33m(\u001b[0m\u001b[0mhousing_prepared\u001b[0m\u001b[1;33m,\u001b[0m \u001b[0mhousing_labels\u001b[0m\u001b[1;33m)\u001b[0m\u001b[1;33m\u001b[0m\u001b[1;33m\u001b[0m\u001b[0m\n\u001b[0m\u001b[0;32m     28\u001b[0m \u001b[0msearch\u001b[0m\u001b[1;33m.\u001b[0m\u001b[0mbest_params_\u001b[0m\u001b[1;33m\u001b[0m\u001b[1;33m\u001b[0m\u001b[0m\n\u001b[0;32m     29\u001b[0m \u001b[1;33m\u001b[0m\u001b[0m\n",
      "\u001b[1;32mc:\\ml\\my_env\\lib\\site-packages\\sklearn\\utils\\validation.py\u001b[0m in \u001b[0;36minner_f\u001b[1;34m(*args, **kwargs)\u001b[0m\n\u001b[0;32m     70\u001b[0m                           FutureWarning)\n\u001b[0;32m     71\u001b[0m         \u001b[0mkwargs\u001b[0m\u001b[1;33m.\u001b[0m\u001b[0mupdate\u001b[0m\u001b[1;33m(\u001b[0m\u001b[1;33m{\u001b[0m\u001b[0mk\u001b[0m\u001b[1;33m:\u001b[0m \u001b[0marg\u001b[0m \u001b[1;32mfor\u001b[0m \u001b[0mk\u001b[0m\u001b[1;33m,\u001b[0m \u001b[0marg\u001b[0m \u001b[1;32min\u001b[0m \u001b[0mzip\u001b[0m\u001b[1;33m(\u001b[0m\u001b[0msig\u001b[0m\u001b[1;33m.\u001b[0m\u001b[0mparameters\u001b[0m\u001b[1;33m,\u001b[0m \u001b[0margs\u001b[0m\u001b[1;33m)\u001b[0m\u001b[1;33m}\u001b[0m\u001b[1;33m)\u001b[0m\u001b[1;33m\u001b[0m\u001b[1;33m\u001b[0m\u001b[0m\n\u001b[1;32m---> 72\u001b[1;33m         \u001b[1;32mreturn\u001b[0m \u001b[0mf\u001b[0m\u001b[1;33m(\u001b[0m\u001b[1;33m**\u001b[0m\u001b[0mkwargs\u001b[0m\u001b[1;33m)\u001b[0m\u001b[1;33m\u001b[0m\u001b[1;33m\u001b[0m\u001b[0m\n\u001b[0m\u001b[0;32m     73\u001b[0m     \u001b[1;32mreturn\u001b[0m \u001b[0minner_f\u001b[0m\u001b[1;33m\u001b[0m\u001b[1;33m\u001b[0m\u001b[0m\n\u001b[0;32m     74\u001b[0m \u001b[1;33m\u001b[0m\u001b[0m\n",
      "\u001b[1;32mc:\\ml\\my_env\\lib\\site-packages\\sklearn\\model_selection\\_search.py\u001b[0m in \u001b[0;36mfit\u001b[1;34m(self, X, y, groups, **fit_params)\u001b[0m\n\u001b[0;32m    734\u001b[0m                 \u001b[1;32mreturn\u001b[0m \u001b[0mresults\u001b[0m\u001b[1;33m\u001b[0m\u001b[1;33m\u001b[0m\u001b[0m\n\u001b[0;32m    735\u001b[0m \u001b[1;33m\u001b[0m\u001b[0m\n\u001b[1;32m--> 736\u001b[1;33m             \u001b[0mself\u001b[0m\u001b[1;33m.\u001b[0m\u001b[0m_run_search\u001b[0m\u001b[1;33m(\u001b[0m\u001b[0mevaluate_candidates\u001b[0m\u001b[1;33m)\u001b[0m\u001b[1;33m\u001b[0m\u001b[1;33m\u001b[0m\u001b[0m\n\u001b[0m\u001b[0;32m    737\u001b[0m \u001b[1;33m\u001b[0m\u001b[0m\n\u001b[0;32m    738\u001b[0m         \u001b[1;31m# For multi-metric evaluation, store the best_index_, best_params_ and\u001b[0m\u001b[1;33m\u001b[0m\u001b[1;33m\u001b[0m\u001b[1;33m\u001b[0m\u001b[0m\n",
      "\u001b[1;32mc:\\ml\\my_env\\lib\\site-packages\\sklearn\\model_selection\\_search.py\u001b[0m in \u001b[0;36m_run_search\u001b[1;34m(self, evaluate_candidates)\u001b[0m\n\u001b[0;32m   1529\u001b[0m         evaluate_candidates(ParameterSampler(\n\u001b[0;32m   1530\u001b[0m             \u001b[0mself\u001b[0m\u001b[1;33m.\u001b[0m\u001b[0mparam_distributions\u001b[0m\u001b[1;33m,\u001b[0m \u001b[0mself\u001b[0m\u001b[1;33m.\u001b[0m\u001b[0mn_iter\u001b[0m\u001b[1;33m,\u001b[0m\u001b[1;33m\u001b[0m\u001b[1;33m\u001b[0m\u001b[0m\n\u001b[1;32m-> 1531\u001b[1;33m             random_state=self.random_state))\n\u001b[0m",
      "\u001b[1;32mc:\\ml\\my_env\\lib\\site-packages\\sklearn\\model_selection\\_search.py\u001b[0m in \u001b[0;36mevaluate_candidates\u001b[1;34m(candidate_params)\u001b[0m\n\u001b[0;32m    713\u001b[0m                                \u001b[1;32mfor\u001b[0m \u001b[0mparameters\u001b[0m\u001b[1;33m,\u001b[0m \u001b[1;33m(\u001b[0m\u001b[0mtrain\u001b[0m\u001b[1;33m,\u001b[0m \u001b[0mtest\u001b[0m\u001b[1;33m)\u001b[0m\u001b[1;33m\u001b[0m\u001b[1;33m\u001b[0m\u001b[0m\n\u001b[0;32m    714\u001b[0m                                in product(candidate_params,\n\u001b[1;32m--> 715\u001b[1;33m                                           cv.split(X, y, groups)))\n\u001b[0m\u001b[0;32m    716\u001b[0m \u001b[1;33m\u001b[0m\u001b[0m\n\u001b[0;32m    717\u001b[0m                 \u001b[1;32mif\u001b[0m \u001b[0mlen\u001b[0m\u001b[1;33m(\u001b[0m\u001b[0mout\u001b[0m\u001b[1;33m)\u001b[0m \u001b[1;33m<\u001b[0m \u001b[1;36m1\u001b[0m\u001b[1;33m:\u001b[0m\u001b[1;33m\u001b[0m\u001b[1;33m\u001b[0m\u001b[0m\n",
      "\u001b[1;32mc:\\ml\\my_env\\lib\\site-packages\\joblib\\parallel.py\u001b[0m in \u001b[0;36m__call__\u001b[1;34m(self, iterable)\u001b[0m\n\u001b[0;32m   1030\u001b[0m                 \u001b[0mself\u001b[0m\u001b[1;33m.\u001b[0m\u001b[0m_iterating\u001b[0m \u001b[1;33m=\u001b[0m \u001b[0mself\u001b[0m\u001b[1;33m.\u001b[0m\u001b[0m_original_iterator\u001b[0m \u001b[1;32mis\u001b[0m \u001b[1;32mnot\u001b[0m \u001b[1;32mNone\u001b[0m\u001b[1;33m\u001b[0m\u001b[1;33m\u001b[0m\u001b[0m\n\u001b[0;32m   1031\u001b[0m \u001b[1;33m\u001b[0m\u001b[0m\n\u001b[1;32m-> 1032\u001b[1;33m             \u001b[1;32mwhile\u001b[0m \u001b[0mself\u001b[0m\u001b[1;33m.\u001b[0m\u001b[0mdispatch_one_batch\u001b[0m\u001b[1;33m(\u001b[0m\u001b[0miterator\u001b[0m\u001b[1;33m)\u001b[0m\u001b[1;33m:\u001b[0m\u001b[1;33m\u001b[0m\u001b[1;33m\u001b[0m\u001b[0m\n\u001b[0m\u001b[0;32m   1033\u001b[0m                 \u001b[1;32mpass\u001b[0m\u001b[1;33m\u001b[0m\u001b[1;33m\u001b[0m\u001b[0m\n\u001b[0;32m   1034\u001b[0m \u001b[1;33m\u001b[0m\u001b[0m\n",
      "\u001b[1;32mc:\\ml\\my_env\\lib\\site-packages\\joblib\\parallel.py\u001b[0m in \u001b[0;36mdispatch_one_batch\u001b[1;34m(self, iterator)\u001b[0m\n\u001b[0;32m    845\u001b[0m                 \u001b[1;32mreturn\u001b[0m \u001b[1;32mFalse\u001b[0m\u001b[1;33m\u001b[0m\u001b[1;33m\u001b[0m\u001b[0m\n\u001b[0;32m    846\u001b[0m             \u001b[1;32melse\u001b[0m\u001b[1;33m:\u001b[0m\u001b[1;33m\u001b[0m\u001b[1;33m\u001b[0m\u001b[0m\n\u001b[1;32m--> 847\u001b[1;33m                 \u001b[0mself\u001b[0m\u001b[1;33m.\u001b[0m\u001b[0m_dispatch\u001b[0m\u001b[1;33m(\u001b[0m\u001b[0mtasks\u001b[0m\u001b[1;33m)\u001b[0m\u001b[1;33m\u001b[0m\u001b[1;33m\u001b[0m\u001b[0m\n\u001b[0m\u001b[0;32m    848\u001b[0m                 \u001b[1;32mreturn\u001b[0m \u001b[1;32mTrue\u001b[0m\u001b[1;33m\u001b[0m\u001b[1;33m\u001b[0m\u001b[0m\n\u001b[0;32m    849\u001b[0m \u001b[1;33m\u001b[0m\u001b[0m\n",
      "\u001b[1;32mc:\\ml\\my_env\\lib\\site-packages\\joblib\\parallel.py\u001b[0m in \u001b[0;36m_dispatch\u001b[1;34m(self, batch)\u001b[0m\n\u001b[0;32m    763\u001b[0m         \u001b[1;32mwith\u001b[0m \u001b[0mself\u001b[0m\u001b[1;33m.\u001b[0m\u001b[0m_lock\u001b[0m\u001b[1;33m:\u001b[0m\u001b[1;33m\u001b[0m\u001b[1;33m\u001b[0m\u001b[0m\n\u001b[0;32m    764\u001b[0m             \u001b[0mjob_idx\u001b[0m \u001b[1;33m=\u001b[0m \u001b[0mlen\u001b[0m\u001b[1;33m(\u001b[0m\u001b[0mself\u001b[0m\u001b[1;33m.\u001b[0m\u001b[0m_jobs\u001b[0m\u001b[1;33m)\u001b[0m\u001b[1;33m\u001b[0m\u001b[1;33m\u001b[0m\u001b[0m\n\u001b[1;32m--> 765\u001b[1;33m             \u001b[0mjob\u001b[0m \u001b[1;33m=\u001b[0m \u001b[0mself\u001b[0m\u001b[1;33m.\u001b[0m\u001b[0m_backend\u001b[0m\u001b[1;33m.\u001b[0m\u001b[0mapply_async\u001b[0m\u001b[1;33m(\u001b[0m\u001b[0mbatch\u001b[0m\u001b[1;33m,\u001b[0m \u001b[0mcallback\u001b[0m\u001b[1;33m=\u001b[0m\u001b[0mcb\u001b[0m\u001b[1;33m)\u001b[0m\u001b[1;33m\u001b[0m\u001b[1;33m\u001b[0m\u001b[0m\n\u001b[0m\u001b[0;32m    766\u001b[0m             \u001b[1;31m# A job can complete so quickly than its callback is\u001b[0m\u001b[1;33m\u001b[0m\u001b[1;33m\u001b[0m\u001b[1;33m\u001b[0m\u001b[0m\n\u001b[0;32m    767\u001b[0m             \u001b[1;31m# called before we get here, causing self._jobs to\u001b[0m\u001b[1;33m\u001b[0m\u001b[1;33m\u001b[0m\u001b[1;33m\u001b[0m\u001b[0m\n",
      "\u001b[1;32mc:\\ml\\my_env\\lib\\site-packages\\joblib\\_parallel_backends.py\u001b[0m in \u001b[0;36mapply_async\u001b[1;34m(self, func, callback)\u001b[0m\n\u001b[0;32m    206\u001b[0m     \u001b[1;32mdef\u001b[0m \u001b[0mapply_async\u001b[0m\u001b[1;33m(\u001b[0m\u001b[0mself\u001b[0m\u001b[1;33m,\u001b[0m \u001b[0mfunc\u001b[0m\u001b[1;33m,\u001b[0m \u001b[0mcallback\u001b[0m\u001b[1;33m=\u001b[0m\u001b[1;32mNone\u001b[0m\u001b[1;33m)\u001b[0m\u001b[1;33m:\u001b[0m\u001b[1;33m\u001b[0m\u001b[1;33m\u001b[0m\u001b[0m\n\u001b[0;32m    207\u001b[0m         \u001b[1;34m\"\"\"Schedule a func to be run\"\"\"\u001b[0m\u001b[1;33m\u001b[0m\u001b[1;33m\u001b[0m\u001b[0m\n\u001b[1;32m--> 208\u001b[1;33m         \u001b[0mresult\u001b[0m \u001b[1;33m=\u001b[0m \u001b[0mImmediateResult\u001b[0m\u001b[1;33m(\u001b[0m\u001b[0mfunc\u001b[0m\u001b[1;33m)\u001b[0m\u001b[1;33m\u001b[0m\u001b[1;33m\u001b[0m\u001b[0m\n\u001b[0m\u001b[0;32m    209\u001b[0m         \u001b[1;32mif\u001b[0m \u001b[0mcallback\u001b[0m\u001b[1;33m:\u001b[0m\u001b[1;33m\u001b[0m\u001b[1;33m\u001b[0m\u001b[0m\n\u001b[0;32m    210\u001b[0m             \u001b[0mcallback\u001b[0m\u001b[1;33m(\u001b[0m\u001b[0mresult\u001b[0m\u001b[1;33m)\u001b[0m\u001b[1;33m\u001b[0m\u001b[1;33m\u001b[0m\u001b[0m\n",
      "\u001b[1;32mc:\\ml\\my_env\\lib\\site-packages\\joblib\\_parallel_backends.py\u001b[0m in \u001b[0;36m__init__\u001b[1;34m(self, batch)\u001b[0m\n\u001b[0;32m    570\u001b[0m         \u001b[1;31m# Don't delay the application, to avoid keeping the input\u001b[0m\u001b[1;33m\u001b[0m\u001b[1;33m\u001b[0m\u001b[1;33m\u001b[0m\u001b[0m\n\u001b[0;32m    571\u001b[0m         \u001b[1;31m# arguments in memory\u001b[0m\u001b[1;33m\u001b[0m\u001b[1;33m\u001b[0m\u001b[1;33m\u001b[0m\u001b[0m\n\u001b[1;32m--> 572\u001b[1;33m         \u001b[0mself\u001b[0m\u001b[1;33m.\u001b[0m\u001b[0mresults\u001b[0m \u001b[1;33m=\u001b[0m \u001b[0mbatch\u001b[0m\u001b[1;33m(\u001b[0m\u001b[1;33m)\u001b[0m\u001b[1;33m\u001b[0m\u001b[1;33m\u001b[0m\u001b[0m\n\u001b[0m\u001b[0;32m    573\u001b[0m \u001b[1;33m\u001b[0m\u001b[0m\n\u001b[0;32m    574\u001b[0m     \u001b[1;32mdef\u001b[0m \u001b[0mget\u001b[0m\u001b[1;33m(\u001b[0m\u001b[0mself\u001b[0m\u001b[1;33m)\u001b[0m\u001b[1;33m:\u001b[0m\u001b[1;33m\u001b[0m\u001b[1;33m\u001b[0m\u001b[0m\n",
      "\u001b[1;32mc:\\ml\\my_env\\lib\\site-packages\\joblib\\parallel.py\u001b[0m in \u001b[0;36m__call__\u001b[1;34m(self)\u001b[0m\n\u001b[0;32m    251\u001b[0m         \u001b[1;32mwith\u001b[0m \u001b[0mparallel_backend\u001b[0m\u001b[1;33m(\u001b[0m\u001b[0mself\u001b[0m\u001b[1;33m.\u001b[0m\u001b[0m_backend\u001b[0m\u001b[1;33m,\u001b[0m \u001b[0mn_jobs\u001b[0m\u001b[1;33m=\u001b[0m\u001b[0mself\u001b[0m\u001b[1;33m.\u001b[0m\u001b[0m_n_jobs\u001b[0m\u001b[1;33m)\u001b[0m\u001b[1;33m:\u001b[0m\u001b[1;33m\u001b[0m\u001b[1;33m\u001b[0m\u001b[0m\n\u001b[0;32m    252\u001b[0m             return [func(*args, **kwargs)\n\u001b[1;32m--> 253\u001b[1;33m                     for func, args, kwargs in self.items]\n\u001b[0m\u001b[0;32m    254\u001b[0m \u001b[1;33m\u001b[0m\u001b[0m\n\u001b[0;32m    255\u001b[0m     \u001b[1;32mdef\u001b[0m \u001b[0m__reduce__\u001b[0m\u001b[1;33m(\u001b[0m\u001b[0mself\u001b[0m\u001b[1;33m)\u001b[0m\u001b[1;33m:\u001b[0m\u001b[1;33m\u001b[0m\u001b[1;33m\u001b[0m\u001b[0m\n",
      "\u001b[1;32mc:\\ml\\my_env\\lib\\site-packages\\joblib\\parallel.py\u001b[0m in \u001b[0;36m<listcomp>\u001b[1;34m(.0)\u001b[0m\n\u001b[0;32m    251\u001b[0m         \u001b[1;32mwith\u001b[0m \u001b[0mparallel_backend\u001b[0m\u001b[1;33m(\u001b[0m\u001b[0mself\u001b[0m\u001b[1;33m.\u001b[0m\u001b[0m_backend\u001b[0m\u001b[1;33m,\u001b[0m \u001b[0mn_jobs\u001b[0m\u001b[1;33m=\u001b[0m\u001b[0mself\u001b[0m\u001b[1;33m.\u001b[0m\u001b[0m_n_jobs\u001b[0m\u001b[1;33m)\u001b[0m\u001b[1;33m:\u001b[0m\u001b[1;33m\u001b[0m\u001b[1;33m\u001b[0m\u001b[0m\n\u001b[0;32m    252\u001b[0m             return [func(*args, **kwargs)\n\u001b[1;32m--> 253\u001b[1;33m                     for func, args, kwargs in self.items]\n\u001b[0m\u001b[0;32m    254\u001b[0m \u001b[1;33m\u001b[0m\u001b[0m\n\u001b[0;32m    255\u001b[0m     \u001b[1;32mdef\u001b[0m \u001b[0m__reduce__\u001b[0m\u001b[1;33m(\u001b[0m\u001b[0mself\u001b[0m\u001b[1;33m)\u001b[0m\u001b[1;33m:\u001b[0m\u001b[1;33m\u001b[0m\u001b[1;33m\u001b[0m\u001b[0m\n",
      "\u001b[1;32mc:\\ml\\my_env\\lib\\site-packages\\sklearn\\model_selection\\_validation.py\u001b[0m in \u001b[0;36m_fit_and_score\u001b[1;34m(estimator, X, y, scorer, train, test, verbose, parameters, fit_params, return_train_score, return_parameters, return_n_test_samples, return_times, return_estimator, error_score)\u001b[0m\n\u001b[0;32m    529\u001b[0m             \u001b[0mestimator\u001b[0m\u001b[1;33m.\u001b[0m\u001b[0mfit\u001b[0m\u001b[1;33m(\u001b[0m\u001b[0mX_train\u001b[0m\u001b[1;33m,\u001b[0m \u001b[1;33m**\u001b[0m\u001b[0mfit_params\u001b[0m\u001b[1;33m)\u001b[0m\u001b[1;33m\u001b[0m\u001b[1;33m\u001b[0m\u001b[0m\n\u001b[0;32m    530\u001b[0m         \u001b[1;32melse\u001b[0m\u001b[1;33m:\u001b[0m\u001b[1;33m\u001b[0m\u001b[1;33m\u001b[0m\u001b[0m\n\u001b[1;32m--> 531\u001b[1;33m             \u001b[0mestimator\u001b[0m\u001b[1;33m.\u001b[0m\u001b[0mfit\u001b[0m\u001b[1;33m(\u001b[0m\u001b[0mX_train\u001b[0m\u001b[1;33m,\u001b[0m \u001b[0my_train\u001b[0m\u001b[1;33m,\u001b[0m \u001b[1;33m**\u001b[0m\u001b[0mfit_params\u001b[0m\u001b[1;33m)\u001b[0m\u001b[1;33m\u001b[0m\u001b[1;33m\u001b[0m\u001b[0m\n\u001b[0m\u001b[0;32m    532\u001b[0m \u001b[1;33m\u001b[0m\u001b[0m\n\u001b[0;32m    533\u001b[0m     \u001b[1;32mexcept\u001b[0m \u001b[0mException\u001b[0m \u001b[1;32mas\u001b[0m \u001b[0me\u001b[0m\u001b[1;33m:\u001b[0m\u001b[1;33m\u001b[0m\u001b[1;33m\u001b[0m\u001b[0m\n",
      "\u001b[1;32mc:\\ml\\my_env\\lib\\site-packages\\sklearn\\ensemble\\_forest.py\u001b[0m in \u001b[0;36mfit\u001b[1;34m(self, X, y, sample_weight)\u001b[0m\n\u001b[0;32m    390\u001b[0m                     \u001b[0mverbose\u001b[0m\u001b[1;33m=\u001b[0m\u001b[0mself\u001b[0m\u001b[1;33m.\u001b[0m\u001b[0mverbose\u001b[0m\u001b[1;33m,\u001b[0m \u001b[0mclass_weight\u001b[0m\u001b[1;33m=\u001b[0m\u001b[0mself\u001b[0m\u001b[1;33m.\u001b[0m\u001b[0mclass_weight\u001b[0m\u001b[1;33m,\u001b[0m\u001b[1;33m\u001b[0m\u001b[1;33m\u001b[0m\u001b[0m\n\u001b[0;32m    391\u001b[0m                     n_samples_bootstrap=n_samples_bootstrap)\n\u001b[1;32m--> 392\u001b[1;33m                 for i, t in enumerate(trees))\n\u001b[0m\u001b[0;32m    393\u001b[0m \u001b[1;33m\u001b[0m\u001b[0m\n\u001b[0;32m    394\u001b[0m             \u001b[1;31m# Collect newly grown trees\u001b[0m\u001b[1;33m\u001b[0m\u001b[1;33m\u001b[0m\u001b[1;33m\u001b[0m\u001b[0m\n",
      "\u001b[1;32mc:\\ml\\my_env\\lib\\site-packages\\joblib\\parallel.py\u001b[0m in \u001b[0;36m__call__\u001b[1;34m(self, iterable)\u001b[0m\n\u001b[0;32m   1030\u001b[0m                 \u001b[0mself\u001b[0m\u001b[1;33m.\u001b[0m\u001b[0m_iterating\u001b[0m \u001b[1;33m=\u001b[0m \u001b[0mself\u001b[0m\u001b[1;33m.\u001b[0m\u001b[0m_original_iterator\u001b[0m \u001b[1;32mis\u001b[0m \u001b[1;32mnot\u001b[0m \u001b[1;32mNone\u001b[0m\u001b[1;33m\u001b[0m\u001b[1;33m\u001b[0m\u001b[0m\n\u001b[0;32m   1031\u001b[0m \u001b[1;33m\u001b[0m\u001b[0m\n\u001b[1;32m-> 1032\u001b[1;33m             \u001b[1;32mwhile\u001b[0m \u001b[0mself\u001b[0m\u001b[1;33m.\u001b[0m\u001b[0mdispatch_one_batch\u001b[0m\u001b[1;33m(\u001b[0m\u001b[0miterator\u001b[0m\u001b[1;33m)\u001b[0m\u001b[1;33m:\u001b[0m\u001b[1;33m\u001b[0m\u001b[1;33m\u001b[0m\u001b[0m\n\u001b[0m\u001b[0;32m   1033\u001b[0m                 \u001b[1;32mpass\u001b[0m\u001b[1;33m\u001b[0m\u001b[1;33m\u001b[0m\u001b[0m\n\u001b[0;32m   1034\u001b[0m \u001b[1;33m\u001b[0m\u001b[0m\n",
      "\u001b[1;32mc:\\ml\\my_env\\lib\\site-packages\\joblib\\parallel.py\u001b[0m in \u001b[0;36mdispatch_one_batch\u001b[1;34m(self, iterator)\u001b[0m\n\u001b[0;32m    845\u001b[0m                 \u001b[1;32mreturn\u001b[0m \u001b[1;32mFalse\u001b[0m\u001b[1;33m\u001b[0m\u001b[1;33m\u001b[0m\u001b[0m\n\u001b[0;32m    846\u001b[0m             \u001b[1;32melse\u001b[0m\u001b[1;33m:\u001b[0m\u001b[1;33m\u001b[0m\u001b[1;33m\u001b[0m\u001b[0m\n\u001b[1;32m--> 847\u001b[1;33m                 \u001b[0mself\u001b[0m\u001b[1;33m.\u001b[0m\u001b[0m_dispatch\u001b[0m\u001b[1;33m(\u001b[0m\u001b[0mtasks\u001b[0m\u001b[1;33m)\u001b[0m\u001b[1;33m\u001b[0m\u001b[1;33m\u001b[0m\u001b[0m\n\u001b[0m\u001b[0;32m    848\u001b[0m                 \u001b[1;32mreturn\u001b[0m \u001b[1;32mTrue\u001b[0m\u001b[1;33m\u001b[0m\u001b[1;33m\u001b[0m\u001b[0m\n\u001b[0;32m    849\u001b[0m \u001b[1;33m\u001b[0m\u001b[0m\n",
      "\u001b[1;32mc:\\ml\\my_env\\lib\\site-packages\\joblib\\parallel.py\u001b[0m in \u001b[0;36m_dispatch\u001b[1;34m(self, batch)\u001b[0m\n\u001b[0;32m    763\u001b[0m         \u001b[1;32mwith\u001b[0m \u001b[0mself\u001b[0m\u001b[1;33m.\u001b[0m\u001b[0m_lock\u001b[0m\u001b[1;33m:\u001b[0m\u001b[1;33m\u001b[0m\u001b[1;33m\u001b[0m\u001b[0m\n\u001b[0;32m    764\u001b[0m             \u001b[0mjob_idx\u001b[0m \u001b[1;33m=\u001b[0m \u001b[0mlen\u001b[0m\u001b[1;33m(\u001b[0m\u001b[0mself\u001b[0m\u001b[1;33m.\u001b[0m\u001b[0m_jobs\u001b[0m\u001b[1;33m)\u001b[0m\u001b[1;33m\u001b[0m\u001b[1;33m\u001b[0m\u001b[0m\n\u001b[1;32m--> 765\u001b[1;33m             \u001b[0mjob\u001b[0m \u001b[1;33m=\u001b[0m \u001b[0mself\u001b[0m\u001b[1;33m.\u001b[0m\u001b[0m_backend\u001b[0m\u001b[1;33m.\u001b[0m\u001b[0mapply_async\u001b[0m\u001b[1;33m(\u001b[0m\u001b[0mbatch\u001b[0m\u001b[1;33m,\u001b[0m \u001b[0mcallback\u001b[0m\u001b[1;33m=\u001b[0m\u001b[0mcb\u001b[0m\u001b[1;33m)\u001b[0m\u001b[1;33m\u001b[0m\u001b[1;33m\u001b[0m\u001b[0m\n\u001b[0m\u001b[0;32m    766\u001b[0m             \u001b[1;31m# A job can complete so quickly than its callback is\u001b[0m\u001b[1;33m\u001b[0m\u001b[1;33m\u001b[0m\u001b[1;33m\u001b[0m\u001b[0m\n\u001b[0;32m    767\u001b[0m             \u001b[1;31m# called before we get here, causing self._jobs to\u001b[0m\u001b[1;33m\u001b[0m\u001b[1;33m\u001b[0m\u001b[1;33m\u001b[0m\u001b[0m\n",
      "\u001b[1;32mc:\\ml\\my_env\\lib\\site-packages\\joblib\\_parallel_backends.py\u001b[0m in \u001b[0;36mapply_async\u001b[1;34m(self, func, callback)\u001b[0m\n\u001b[0;32m    206\u001b[0m     \u001b[1;32mdef\u001b[0m \u001b[0mapply_async\u001b[0m\u001b[1;33m(\u001b[0m\u001b[0mself\u001b[0m\u001b[1;33m,\u001b[0m \u001b[0mfunc\u001b[0m\u001b[1;33m,\u001b[0m \u001b[0mcallback\u001b[0m\u001b[1;33m=\u001b[0m\u001b[1;32mNone\u001b[0m\u001b[1;33m)\u001b[0m\u001b[1;33m:\u001b[0m\u001b[1;33m\u001b[0m\u001b[1;33m\u001b[0m\u001b[0m\n\u001b[0;32m    207\u001b[0m         \u001b[1;34m\"\"\"Schedule a func to be run\"\"\"\u001b[0m\u001b[1;33m\u001b[0m\u001b[1;33m\u001b[0m\u001b[0m\n\u001b[1;32m--> 208\u001b[1;33m         \u001b[0mresult\u001b[0m \u001b[1;33m=\u001b[0m \u001b[0mImmediateResult\u001b[0m\u001b[1;33m(\u001b[0m\u001b[0mfunc\u001b[0m\u001b[1;33m)\u001b[0m\u001b[1;33m\u001b[0m\u001b[1;33m\u001b[0m\u001b[0m\n\u001b[0m\u001b[0;32m    209\u001b[0m         \u001b[1;32mif\u001b[0m \u001b[0mcallback\u001b[0m\u001b[1;33m:\u001b[0m\u001b[1;33m\u001b[0m\u001b[1;33m\u001b[0m\u001b[0m\n\u001b[0;32m    210\u001b[0m             \u001b[0mcallback\u001b[0m\u001b[1;33m(\u001b[0m\u001b[0mresult\u001b[0m\u001b[1;33m)\u001b[0m\u001b[1;33m\u001b[0m\u001b[1;33m\u001b[0m\u001b[0m\n",
      "\u001b[1;32mc:\\ml\\my_env\\lib\\site-packages\\joblib\\_parallel_backends.py\u001b[0m in \u001b[0;36m__init__\u001b[1;34m(self, batch)\u001b[0m\n\u001b[0;32m    570\u001b[0m         \u001b[1;31m# Don't delay the application, to avoid keeping the input\u001b[0m\u001b[1;33m\u001b[0m\u001b[1;33m\u001b[0m\u001b[1;33m\u001b[0m\u001b[0m\n\u001b[0;32m    571\u001b[0m         \u001b[1;31m# arguments in memory\u001b[0m\u001b[1;33m\u001b[0m\u001b[1;33m\u001b[0m\u001b[1;33m\u001b[0m\u001b[0m\n\u001b[1;32m--> 572\u001b[1;33m         \u001b[0mself\u001b[0m\u001b[1;33m.\u001b[0m\u001b[0mresults\u001b[0m \u001b[1;33m=\u001b[0m \u001b[0mbatch\u001b[0m\u001b[1;33m(\u001b[0m\u001b[1;33m)\u001b[0m\u001b[1;33m\u001b[0m\u001b[1;33m\u001b[0m\u001b[0m\n\u001b[0m\u001b[0;32m    573\u001b[0m \u001b[1;33m\u001b[0m\u001b[0m\n\u001b[0;32m    574\u001b[0m     \u001b[1;32mdef\u001b[0m \u001b[0mget\u001b[0m\u001b[1;33m(\u001b[0m\u001b[0mself\u001b[0m\u001b[1;33m)\u001b[0m\u001b[1;33m:\u001b[0m\u001b[1;33m\u001b[0m\u001b[1;33m\u001b[0m\u001b[0m\n",
      "\u001b[1;32mc:\\ml\\my_env\\lib\\site-packages\\joblib\\parallel.py\u001b[0m in \u001b[0;36m__call__\u001b[1;34m(self)\u001b[0m\n\u001b[0;32m    251\u001b[0m         \u001b[1;32mwith\u001b[0m \u001b[0mparallel_backend\u001b[0m\u001b[1;33m(\u001b[0m\u001b[0mself\u001b[0m\u001b[1;33m.\u001b[0m\u001b[0m_backend\u001b[0m\u001b[1;33m,\u001b[0m \u001b[0mn_jobs\u001b[0m\u001b[1;33m=\u001b[0m\u001b[0mself\u001b[0m\u001b[1;33m.\u001b[0m\u001b[0m_n_jobs\u001b[0m\u001b[1;33m)\u001b[0m\u001b[1;33m:\u001b[0m\u001b[1;33m\u001b[0m\u001b[1;33m\u001b[0m\u001b[0m\n\u001b[0;32m    252\u001b[0m             return [func(*args, **kwargs)\n\u001b[1;32m--> 253\u001b[1;33m                     for func, args, kwargs in self.items]\n\u001b[0m\u001b[0;32m    254\u001b[0m \u001b[1;33m\u001b[0m\u001b[0m\n\u001b[0;32m    255\u001b[0m     \u001b[1;32mdef\u001b[0m \u001b[0m__reduce__\u001b[0m\u001b[1;33m(\u001b[0m\u001b[0mself\u001b[0m\u001b[1;33m)\u001b[0m\u001b[1;33m:\u001b[0m\u001b[1;33m\u001b[0m\u001b[1;33m\u001b[0m\u001b[0m\n",
      "\u001b[1;32mc:\\ml\\my_env\\lib\\site-packages\\joblib\\parallel.py\u001b[0m in \u001b[0;36m<listcomp>\u001b[1;34m(.0)\u001b[0m\n\u001b[0;32m    251\u001b[0m         \u001b[1;32mwith\u001b[0m \u001b[0mparallel_backend\u001b[0m\u001b[1;33m(\u001b[0m\u001b[0mself\u001b[0m\u001b[1;33m.\u001b[0m\u001b[0m_backend\u001b[0m\u001b[1;33m,\u001b[0m \u001b[0mn_jobs\u001b[0m\u001b[1;33m=\u001b[0m\u001b[0mself\u001b[0m\u001b[1;33m.\u001b[0m\u001b[0m_n_jobs\u001b[0m\u001b[1;33m)\u001b[0m\u001b[1;33m:\u001b[0m\u001b[1;33m\u001b[0m\u001b[1;33m\u001b[0m\u001b[0m\n\u001b[0;32m    252\u001b[0m             return [func(*args, **kwargs)\n\u001b[1;32m--> 253\u001b[1;33m                     for func, args, kwargs in self.items]\n\u001b[0m\u001b[0;32m    254\u001b[0m \u001b[1;33m\u001b[0m\u001b[0m\n\u001b[0;32m    255\u001b[0m     \u001b[1;32mdef\u001b[0m \u001b[0m__reduce__\u001b[0m\u001b[1;33m(\u001b[0m\u001b[0mself\u001b[0m\u001b[1;33m)\u001b[0m\u001b[1;33m:\u001b[0m\u001b[1;33m\u001b[0m\u001b[1;33m\u001b[0m\u001b[0m\n",
      "\u001b[1;32mc:\\ml\\my_env\\lib\\site-packages\\sklearn\\ensemble\\_forest.py\u001b[0m in \u001b[0;36m_parallel_build_trees\u001b[1;34m(tree, forest, X, y, sample_weight, tree_idx, n_trees, verbose, class_weight, n_samples_bootstrap)\u001b[0m\n\u001b[0;32m    148\u001b[0m         \u001b[0mn_samples\u001b[0m \u001b[1;33m=\u001b[0m \u001b[0mX\u001b[0m\u001b[1;33m.\u001b[0m\u001b[0mshape\u001b[0m\u001b[1;33m[\u001b[0m\u001b[1;36m0\u001b[0m\u001b[1;33m]\u001b[0m\u001b[1;33m\u001b[0m\u001b[1;33m\u001b[0m\u001b[0m\n\u001b[0;32m    149\u001b[0m         \u001b[1;32mif\u001b[0m \u001b[0msample_weight\u001b[0m \u001b[1;32mis\u001b[0m \u001b[1;32mNone\u001b[0m\u001b[1;33m:\u001b[0m\u001b[1;33m\u001b[0m\u001b[1;33m\u001b[0m\u001b[0m\n\u001b[1;32m--> 150\u001b[1;33m             \u001b[0mcurr_sample_weight\u001b[0m \u001b[1;33m=\u001b[0m \u001b[0mnp\u001b[0m\u001b[1;33m.\u001b[0m\u001b[0mones\u001b[0m\u001b[1;33m(\u001b[0m\u001b[1;33m(\u001b[0m\u001b[0mn_samples\u001b[0m\u001b[1;33m,\u001b[0m\u001b[1;33m)\u001b[0m\u001b[1;33m,\u001b[0m \u001b[0mdtype\u001b[0m\u001b[1;33m=\u001b[0m\u001b[0mnp\u001b[0m\u001b[1;33m.\u001b[0m\u001b[0mfloat64\u001b[0m\u001b[1;33m)\u001b[0m\u001b[1;33m\u001b[0m\u001b[1;33m\u001b[0m\u001b[0m\n\u001b[0m\u001b[0;32m    151\u001b[0m         \u001b[1;32melse\u001b[0m\u001b[1;33m:\u001b[0m\u001b[1;33m\u001b[0m\u001b[1;33m\u001b[0m\u001b[0m\n\u001b[0;32m    152\u001b[0m             \u001b[0mcurr_sample_weight\u001b[0m \u001b[1;33m=\u001b[0m \u001b[0msample_weight\u001b[0m\u001b[1;33m.\u001b[0m\u001b[0mcopy\u001b[0m\u001b[1;33m(\u001b[0m\u001b[1;33m)\u001b[0m\u001b[1;33m\u001b[0m\u001b[1;33m\u001b[0m\u001b[0m\n",
      "\u001b[1;32mc:\\ml\\my_env\\lib\\site-packages\\numpy\\core\\numeric.py\u001b[0m in \u001b[0;36mones\u001b[1;34m(shape, dtype, order)\u001b[0m\n\u001b[0;32m    191\u001b[0m     \"\"\"\n\u001b[0;32m    192\u001b[0m     \u001b[0ma\u001b[0m \u001b[1;33m=\u001b[0m \u001b[0mempty\u001b[0m\u001b[1;33m(\u001b[0m\u001b[0mshape\u001b[0m\u001b[1;33m,\u001b[0m \u001b[0mdtype\u001b[0m\u001b[1;33m,\u001b[0m \u001b[0morder\u001b[0m\u001b[1;33m)\u001b[0m\u001b[1;33m\u001b[0m\u001b[1;33m\u001b[0m\u001b[0m\n\u001b[1;32m--> 193\u001b[1;33m     \u001b[0mmultiarray\u001b[0m\u001b[1;33m.\u001b[0m\u001b[0mcopyto\u001b[0m\u001b[1;33m(\u001b[0m\u001b[0ma\u001b[0m\u001b[1;33m,\u001b[0m \u001b[1;36m1\u001b[0m\u001b[1;33m,\u001b[0m \u001b[0mcasting\u001b[0m\u001b[1;33m=\u001b[0m\u001b[1;34m'unsafe'\u001b[0m\u001b[1;33m)\u001b[0m\u001b[1;33m\u001b[0m\u001b[1;33m\u001b[0m\u001b[0m\n\u001b[0m\u001b[0;32m    194\u001b[0m     \u001b[1;32mreturn\u001b[0m \u001b[0ma\u001b[0m\u001b[1;33m\u001b[0m\u001b[1;33m\u001b[0m\u001b[0m\n\u001b[0;32m    195\u001b[0m \u001b[1;33m\u001b[0m\u001b[0m\n",
      "\u001b[1;32m<__array_function__ internals>\u001b[0m in \u001b[0;36mcopyto\u001b[1;34m(*args, **kwargs)\u001b[0m\n",
      "\u001b[1;31mKeyboardInterrupt\u001b[0m: "
     ]
    }
   ],
   "source": [
    "#fine tune the hyperparameters of random forest using GridSearchCV\n",
    "from sklearn.model_selection import GridSearchCV \n",
    "\n",
    "#try using 3, 10, and 30 estimators, 2, 4, 6, and 8 max features\n",
    "#false the bootstrap(some resampling technique)\n",
    "#note we have two arrays in here each with their tweaks\n",
    "# param_grid = [ {'n_estimators': [3, 10, 30], 'max_features': [2, 4, 6, 8]}, \n",
    "#               {'bootstrap': [False], 'n_estimators': [3, 10], 'max_features': [2, 3, 4]}, ]\n",
    "\n",
    "forest_reg = RandomForestRegressor() \n",
    "\n",
    "#note cv = 5 means five fold cross validation\n",
    "#previously we were using 10 fold\n",
    "# grid_search = GridSearchCV( forest_reg, param_grid, cv = 5, \n",
    "#                            scoring ='neg_mean_squared_error', \n",
    "#                            return_train_score = True) \n",
    "# grid_search.fit( housing_prepared, housing_labels)\n",
    "    \n",
    "\n",
    "from sklearn.model_selection import RandomizedSearchCV\n",
    "\n",
    "distributions = dict({'n_estimators': [3, 10, 15, 17, 18, 30, 31, 32], 'max_features': [1, 2, 3]}, \n",
    "               )\n",
    "\n",
    "\n",
    "clf = RandomizedSearchCV(forest_reg, distributions, random_state=0)\n",
    "search = clf.fit(housing_prepared, housing_labels)\n",
    "search.best_params_\n",
    "\n",
    "final_model = search.best_estimator_\n",
    "X_test = strat_test_set.drop(\"median_house_value\", axis = 1)\n",
    "y_test = strat_test_set[\"median_house_value\"].copy() \n",
    "X_test_prepared = full_pipeline.transform( X_test) \n",
    "final_predictions = final_model.predict(X_test_prepared) \n",
    "final_mse = mean_squared_error( y_test, final_predictions) \n",
    "final_rmse = np.sqrt(final_mse)\n",
    "print(final_rmse)\n"
   ]
  },
  {
   "cell_type": "code",
   "execution_count": 215,
   "metadata": {},
   "outputs": [
    {
     "name": "stdout",
     "output_type": "stream",
     "text": [
      "{'n_estimators': 17, 'max_features': 2}\n",
      "51106.46635382059\n",
      "{'n_estimators': 15, 'max_features': 2}\n",
      "51562.23725262591\n",
      "{'n_estimators': 31, 'max_features': 3}\n",
      "48878.09064216018\n",
      "{'n_estimators': 31, 'max_features': 2}\n",
      "49834.09450731377\n",
      "{'n_estimators': 18, 'max_features': 3}\n",
      "50004.86507383377\n",
      "{'n_estimators': 10, 'max_features': 1}\n",
      "56922.710364170816\n",
      "{'n_estimators': 30, 'max_features': 2}\n",
      "50524.78217689312\n",
      "{'n_estimators': 32, 'max_features': 3}\n",
      "48789.03004215762\n",
      "{'n_estimators': 3, 'max_features': 3}\n",
      "60056.905175994274\n",
      "{'n_estimators': 3, 'max_features': 2}\n",
      "61140.45284006917\n"
     ]
    }
   ],
   "source": [
    "#testing randoms best RMSE \n",
    "#not so hot...\n",
    "\n",
    "#able to print the results myself\n",
    "cvres = search.cv_results_\n",
    "for mean_score, params in zip(cvres[\"mean_test_score\"], cvres[\"params\"]):\n",
    "    \n",
    "    print(params)\n",
    "    num_estim = params['n_estimators']\n",
    "    max_feat = params['max_features']\n",
    "    if(max_feat < 8):\n",
    "        final_model = RandomForestRegressor(n_estimators=num_estim, max_features=max_feat).fit(housing_prepared, housing_labels)\n",
    "        X_test = strat_test_set.drop(\"median_house_value\", axis = 1) \n",
    "        y_test = strat_test_set[\"median_house_value\"].copy() \n",
    "        X_test_prepared = full_pipeline.transform( X_test) \n",
    "        final_predictions = final_model.predict(X_test_prepared) \n",
    "        final_mse = mean_squared_error( y_test, final_predictions) \n",
    "        final_rmse = np.sqrt(final_mse)\n",
    "        print(final_rmse)\n",
    "\n",
    "# for i in search.cv_results_:\n",
    "    \n",
    "\n",
    "\n",
    "\n",
    "#tip\n",
    "# When you have no idea what value a hyperparameter should have, a simple\n",
    "# approach is to try out consecutive powers of 10 (or a smaller number if\n",
    "# you want a more fine-grained search, as shown in this example with the n_estimators\n",
    "# hyperparameter).\n",
    "\n"
   ]
  },
  {
   "cell_type": "code",
   "execution_count": 216,
   "metadata": {},
   "outputs": [
    {
     "data": {
      "text/plain": [
       "GridSearchCV(cv=5, estimator=RandomForestRegressor(random_state=42),\n",
       "             param_grid=[{'max_features': [2, 4, 6, 8],\n",
       "                          'n_estimators': [3, 10, 30]},\n",
       "                         {'bootstrap': [False], 'max_features': [2, 3, 4],\n",
       "                          'n_estimators': [3, 10]}],\n",
       "             refit=False, return_train_score=True,\n",
       "             scoring='neg_mean_squared_error')"
      ]
     },
     "execution_count": 216,
     "metadata": {},
     "output_type": "execute_result"
    }
   ],
   "source": [
    "from sklearn.model_selection import GridSearchCV\n",
    "\n",
    "param_grid = [\n",
    "    # try 12 (3×4) combinations of hyperparameters\n",
    "    {'n_estimators': [3, 10, 30], 'max_features': [2, 4, 6, 8]},\n",
    "    # then try 6 (2×3) combinations with bootstrap set as False\n",
    "    {'bootstrap': [False], 'n_estimators': [3, 10], 'max_features': [2, 3, 4]},\n",
    "  ]\n",
    "\n",
    "forest_reg = RandomForestRegressor(random_state=42)\n",
    "# train across 5 folds, that's a total of (12+6)*5=90 rounds of training \n",
    "grid_search = GridSearchCV(forest_reg, param_grid, cv=5,\n",
    "                           scoring='neg_mean_squared_error',\n",
    "                           return_train_score=True, refit=False)\n",
    "grid_search.fit(housing_prepared, housing_labels)"
   ]
  },
  {
   "cell_type": "code",
   "execution_count": 217,
   "metadata": {},
   "outputs": [
    {
     "name": "stdout",
     "output_type": "stream",
     "text": [
      "63887.20816960544 {'max_features': 2, 'n_estimators': 3}\n",
      "55193.750552471996 {'max_features': 2, 'n_estimators': 10}\n",
      "52811.39751490818 {'max_features': 2, 'n_estimators': 30}\n",
      "60484.54870180369 {'max_features': 4, 'n_estimators': 3}\n",
      "52343.04972161877 {'max_features': 4, 'n_estimators': 10}\n",
      "50230.90257901035 {'max_features': 4, 'n_estimators': 30}\n",
      "57940.63230331034 {'max_features': 6, 'n_estimators': 3}\n",
      "51550.24225112176 {'max_features': 6, 'n_estimators': 10}\n",
      "49477.6717453135 {'max_features': 6, 'n_estimators': 30}\n",
      "57630.706930867615 {'max_features': 8, 'n_estimators': 3}\n",
      "51310.953199060605 {'max_features': 8, 'n_estimators': 10}\n",
      "49525.76768441087 {'max_features': 8, 'n_estimators': 30}\n",
      "61932.69251042756 {'bootstrap': False, 'max_features': 2, 'n_estimators': 3}\n",
      "53897.28492437724 {'bootstrap': False, 'max_features': 2, 'n_estimators': 10}\n",
      "57637.812939854295 {'bootstrap': False, 'max_features': 3, 'n_estimators': 3}\n",
      "52114.924626877764 {'bootstrap': False, 'max_features': 3, 'n_estimators': 10}\n",
      "57469.95679340483 {'bootstrap': False, 'max_features': 4, 'n_estimators': 3}\n",
      "51173.15342627264 {'bootstrap': False, 'max_features': 4, 'n_estimators': 10}\n"
     ]
    }
   ],
   "source": [
    "cvres = grid_search.cv_results_\n",
    "for mean_score, params in zip(cvres[\"mean_test_score\"], cvres[\"params\"]):\n",
    "    print(np.sqrt(-mean_score), params)"
   ]
  },
  {
   "cell_type": "code",
   "execution_count": null,
   "metadata": {},
   "outputs": [],
   "source": [
    "from sklearn.pipeline import Pipeline \n",
    "from sklearn.preprocessing import StandardScaler \n",
    "from sklearn.feature_selection import SelectFromModel\n",
    "from sklearn.linear_model import LogisticRegression\n",
    "# selector = SelectFromModel(estimator=LogisticRegression()).fit(housing.iloc[:100], housing_labels.iloc[:100])\n",
    "\n",
    "\n",
    "\n",
    "#set the sequence of transformations\n",
    "num_pipeline = Pipeline([ ('imputer', SimpleImputer( strategy =\"median\")), \n",
    "                         ('attribs_adder', CombinedAttributesAdder()), \n",
    "                         ('selector', SelectFromModel(estimator=LogisticRegression())),\n",
    "                         ('std_scaler', StandardScaler()),]) \n",
    "#apply the sequence\n",
    "housing_num_tr = num_pipeline.fit_transform(housing_num)\n",
    "\n",
    "\n",
    "\n",
    "\n",
    "#this cell takes the \"ocean_proximity\" column and transforms it\n",
    "#to be numerical like the rest of our columns,\n",
    "#it does so using pipeline\n",
    "#we use \"ColumnTransformer\" as well\n",
    "from sklearn.compose import ColumnTransformer \n",
    "\n",
    "\n",
    "\n",
    "\n",
    "#get numerical columns\n",
    "num_attribs = list( housing_num) \n",
    "#get text columns\n",
    "cat_attribs = [\"ocean_proximity\"] \n",
    "\n",
    "\n",
    "\n",
    "#apply numerical pipelines to num columns portion of data\n",
    "#apply one hot to category column\n",
    "full_pipeline = ColumnTransformer([ (\"num\", num_pipeline, num_attribs), \n",
    "                                   (\"cat\", OneHotEncoder(), cat_attribs),]) \n",
    "\n",
    "#apply the full pipeline to all of the data\n",
    "housing_prepared = full_pipeline.fit_transform( housing)\n",
    "\n",
    "#fine tune the hyperparameters of random forest using GridSearchCV\n",
    "from sklearn.model_selection import GridSearchCV \n",
    "\n",
    "#try using 3, 10, and 30 estimators, 2, 4, 6, and 8 max features\n",
    "#false the bootstrap(some resampling technique)\n",
    "#note we have two arrays in here each with their tweaks\n",
    "# param_grid = [ {'n_estimators': [3, 10, 30], 'max_features': [2, 4, 6, 8]}, \n",
    "#               {'bootstrap': [False], 'n_estimators': [3, 10], 'max_features': [2, 3, 4]}, ]\n",
    "\n",
    "forest_reg = RandomForestRegressor() \n",
    "\n",
    "#note cv = 5 means five fold cross validation\n",
    "#previously we were using 10 fold\n",
    "# grid_search = GridSearchCV( forest_reg, param_grid, cv = 5, \n",
    "#                            scoring ='neg_mean_squared_error', \n",
    "#                            return_train_score = True) \n",
    "# grid_search.fit( housing_prepared, housing_labels)\n",
    "    \n",
    "\n",
    "from sklearn.model_selection import RandomizedSearchCV\n",
    "\n",
    "distributions = dict({'n_estimators': [3, 10, 15, 17, 18, 30, 31, 32], 'max_features': [2, 4, 6, 8, 10, 12, 14]}, \n",
    "               )\n",
    "\n",
    "\n",
    "clf = RandomizedSearchCV(forest_reg, distributions, random_state=0)\n",
    "search = clf.fit(housing_prepared, housing_labels)\n",
    "print(\"best params\")\n",
    "search.best_params_\n",
    "\n",
    "cvres = search.cv_results_\n",
    "for mean_score, params in zip(cvres[\"mean_test_score\"], cvres[\"params\"]):\n",
    "    print(params)\n",
    "    num_estim = params['n_estimators']\n",
    "    max_feat = params['max_features']\n",
    "    final_model = RandomForestRegressor(n_estimators=num_estim, max_features=max_feat).fit(housing_prepared, housing_labels)\n",
    "    X_test = strat_test_set.drop(\"median_house_value\", axis = 1) \n",
    "    y_test = strat_test_set[\"median_house_value\"].copy() \n",
    "    X_test_prepared = full_pipeline.transform( X_test) \n",
    "    final_predictions = final_model.predict(X_test_prepared) \n",
    "    final_mse = mean_squared_error( y_test, final_predictions) \n",
    "    final_rmse = np.sqrt(final_mse)\n",
    "    print(final_rmse)"
   ]
  },
  {
   "cell_type": "code",
   "execution_count": 135,
   "metadata": {},
   "outputs": [
    {
     "ename": "ValueError",
     "evalue": "Input contains NaN, infinity or a value too large for dtype('float64').",
     "output_type": "error",
     "traceback": [
      "\u001b[1;31m---------------------------------------------------------------------------\u001b[0m",
      "\u001b[1;31mValueError\u001b[0m                                Traceback (most recent call last)",
      "\u001b[1;32m<ipython-input-135-c7a145588daa>\u001b[0m in \u001b[0;36m<module>\u001b[1;34m\u001b[0m\n\u001b[0;32m     15\u001b[0m num_pipeline = Pipeline([ \n\u001b[0;32m     16\u001b[0m \u001b[1;33m\u001b[0m\u001b[0m\n\u001b[1;32m---> 17\u001b[1;33m     \u001b[1;33m(\u001b[0m\u001b[1;34m'feature_selection'\u001b[0m\u001b[1;33m,\u001b[0m \u001b[0mSelectFromModel\u001b[0m\u001b[1;33m(\u001b[0m\u001b[0mLogisticRegression\u001b[0m\u001b[1;33m(\u001b[0m\u001b[1;33m)\u001b[0m\u001b[1;33m)\u001b[0m\u001b[1;33m.\u001b[0m\u001b[0mfit\u001b[0m\u001b[1;33m(\u001b[0m\u001b[0mhousing_num\u001b[0m\u001b[1;33m,\u001b[0m \u001b[0mhousing_labels\u001b[0m\u001b[1;33m)\u001b[0m\u001b[1;33m)\u001b[0m\u001b[1;33m,\u001b[0m\u001b[1;33m\u001b[0m\u001b[1;33m\u001b[0m\u001b[0m\n\u001b[0m\u001b[0;32m     18\u001b[0m                             ('classification', RandomForestClassifier())]) \n\u001b[0;32m     19\u001b[0m \u001b[1;33m\u001b[0m\u001b[0m\n",
      "\u001b[1;32mc:\\ml\\my_env\\lib\\site-packages\\sklearn\\feature_selection\\_from_model.py\u001b[0m in \u001b[0;36mfit\u001b[1;34m(self, X, y, **fit_params)\u001b[0m\n\u001b[0;32m    222\u001b[0m                 \"Since 'prefit=True', call transform directly\")\n\u001b[0;32m    223\u001b[0m         \u001b[0mself\u001b[0m\u001b[1;33m.\u001b[0m\u001b[0mestimator_\u001b[0m \u001b[1;33m=\u001b[0m \u001b[0mclone\u001b[0m\u001b[1;33m(\u001b[0m\u001b[0mself\u001b[0m\u001b[1;33m.\u001b[0m\u001b[0mestimator\u001b[0m\u001b[1;33m)\u001b[0m\u001b[1;33m\u001b[0m\u001b[1;33m\u001b[0m\u001b[0m\n\u001b[1;32m--> 224\u001b[1;33m         \u001b[0mself\u001b[0m\u001b[1;33m.\u001b[0m\u001b[0mestimator_\u001b[0m\u001b[1;33m.\u001b[0m\u001b[0mfit\u001b[0m\u001b[1;33m(\u001b[0m\u001b[0mX\u001b[0m\u001b[1;33m,\u001b[0m \u001b[0my\u001b[0m\u001b[1;33m,\u001b[0m \u001b[1;33m**\u001b[0m\u001b[0mfit_params\u001b[0m\u001b[1;33m)\u001b[0m\u001b[1;33m\u001b[0m\u001b[1;33m\u001b[0m\u001b[0m\n\u001b[0m\u001b[0;32m    225\u001b[0m         \u001b[1;32mreturn\u001b[0m \u001b[0mself\u001b[0m\u001b[1;33m\u001b[0m\u001b[1;33m\u001b[0m\u001b[0m\n\u001b[0;32m    226\u001b[0m \u001b[1;33m\u001b[0m\u001b[0m\n",
      "\u001b[1;32mc:\\ml\\my_env\\lib\\site-packages\\sklearn\\linear_model\\_logistic.py\u001b[0m in \u001b[0;36mfit\u001b[1;34m(self, X, y, sample_weight)\u001b[0m\n\u001b[0;32m   1342\u001b[0m         X, y = self._validate_data(X, y, accept_sparse='csr', dtype=_dtype,\n\u001b[0;32m   1343\u001b[0m                                    \u001b[0morder\u001b[0m\u001b[1;33m=\u001b[0m\u001b[1;34m\"C\"\u001b[0m\u001b[1;33m,\u001b[0m\u001b[1;33m\u001b[0m\u001b[1;33m\u001b[0m\u001b[0m\n\u001b[1;32m-> 1344\u001b[1;33m                                    accept_large_sparse=solver != 'liblinear')\n\u001b[0m\u001b[0;32m   1345\u001b[0m         \u001b[0mcheck_classification_targets\u001b[0m\u001b[1;33m(\u001b[0m\u001b[0my\u001b[0m\u001b[1;33m)\u001b[0m\u001b[1;33m\u001b[0m\u001b[1;33m\u001b[0m\u001b[0m\n\u001b[0;32m   1346\u001b[0m         \u001b[0mself\u001b[0m\u001b[1;33m.\u001b[0m\u001b[0mclasses_\u001b[0m \u001b[1;33m=\u001b[0m \u001b[0mnp\u001b[0m\u001b[1;33m.\u001b[0m\u001b[0munique\u001b[0m\u001b[1;33m(\u001b[0m\u001b[0my\u001b[0m\u001b[1;33m)\u001b[0m\u001b[1;33m\u001b[0m\u001b[1;33m\u001b[0m\u001b[0m\n",
      "\u001b[1;32mc:\\ml\\my_env\\lib\\site-packages\\sklearn\\base.py\u001b[0m in \u001b[0;36m_validate_data\u001b[1;34m(self, X, y, reset, validate_separately, **check_params)\u001b[0m\n\u001b[0;32m    430\u001b[0m                 \u001b[0my\u001b[0m \u001b[1;33m=\u001b[0m \u001b[0mcheck_array\u001b[0m\u001b[1;33m(\u001b[0m\u001b[0my\u001b[0m\u001b[1;33m,\u001b[0m \u001b[1;33m**\u001b[0m\u001b[0mcheck_y_params\u001b[0m\u001b[1;33m)\u001b[0m\u001b[1;33m\u001b[0m\u001b[1;33m\u001b[0m\u001b[0m\n\u001b[0;32m    431\u001b[0m             \u001b[1;32melse\u001b[0m\u001b[1;33m:\u001b[0m\u001b[1;33m\u001b[0m\u001b[1;33m\u001b[0m\u001b[0m\n\u001b[1;32m--> 432\u001b[1;33m                 \u001b[0mX\u001b[0m\u001b[1;33m,\u001b[0m \u001b[0my\u001b[0m \u001b[1;33m=\u001b[0m \u001b[0mcheck_X_y\u001b[0m\u001b[1;33m(\u001b[0m\u001b[0mX\u001b[0m\u001b[1;33m,\u001b[0m \u001b[0my\u001b[0m\u001b[1;33m,\u001b[0m \u001b[1;33m**\u001b[0m\u001b[0mcheck_params\u001b[0m\u001b[1;33m)\u001b[0m\u001b[1;33m\u001b[0m\u001b[1;33m\u001b[0m\u001b[0m\n\u001b[0m\u001b[0;32m    433\u001b[0m             \u001b[0mout\u001b[0m \u001b[1;33m=\u001b[0m \u001b[0mX\u001b[0m\u001b[1;33m,\u001b[0m \u001b[0my\u001b[0m\u001b[1;33m\u001b[0m\u001b[1;33m\u001b[0m\u001b[0m\n\u001b[0;32m    434\u001b[0m \u001b[1;33m\u001b[0m\u001b[0m\n",
      "\u001b[1;32mc:\\ml\\my_env\\lib\\site-packages\\sklearn\\utils\\validation.py\u001b[0m in \u001b[0;36minner_f\u001b[1;34m(*args, **kwargs)\u001b[0m\n\u001b[0;32m     70\u001b[0m                           FutureWarning)\n\u001b[0;32m     71\u001b[0m         \u001b[0mkwargs\u001b[0m\u001b[1;33m.\u001b[0m\u001b[0mupdate\u001b[0m\u001b[1;33m(\u001b[0m\u001b[1;33m{\u001b[0m\u001b[0mk\u001b[0m\u001b[1;33m:\u001b[0m \u001b[0marg\u001b[0m \u001b[1;32mfor\u001b[0m \u001b[0mk\u001b[0m\u001b[1;33m,\u001b[0m \u001b[0marg\u001b[0m \u001b[1;32min\u001b[0m \u001b[0mzip\u001b[0m\u001b[1;33m(\u001b[0m\u001b[0msig\u001b[0m\u001b[1;33m.\u001b[0m\u001b[0mparameters\u001b[0m\u001b[1;33m,\u001b[0m \u001b[0margs\u001b[0m\u001b[1;33m)\u001b[0m\u001b[1;33m}\u001b[0m\u001b[1;33m)\u001b[0m\u001b[1;33m\u001b[0m\u001b[1;33m\u001b[0m\u001b[0m\n\u001b[1;32m---> 72\u001b[1;33m         \u001b[1;32mreturn\u001b[0m \u001b[0mf\u001b[0m\u001b[1;33m(\u001b[0m\u001b[1;33m**\u001b[0m\u001b[0mkwargs\u001b[0m\u001b[1;33m)\u001b[0m\u001b[1;33m\u001b[0m\u001b[1;33m\u001b[0m\u001b[0m\n\u001b[0m\u001b[0;32m     73\u001b[0m     \u001b[1;32mreturn\u001b[0m \u001b[0minner_f\u001b[0m\u001b[1;33m\u001b[0m\u001b[1;33m\u001b[0m\u001b[0m\n\u001b[0;32m     74\u001b[0m \u001b[1;33m\u001b[0m\u001b[0m\n",
      "\u001b[1;32mc:\\ml\\my_env\\lib\\site-packages\\sklearn\\utils\\validation.py\u001b[0m in \u001b[0;36mcheck_X_y\u001b[1;34m(X, y, accept_sparse, accept_large_sparse, dtype, order, copy, force_all_finite, ensure_2d, allow_nd, multi_output, ensure_min_samples, ensure_min_features, y_numeric, estimator)\u001b[0m\n\u001b[0;32m    800\u001b[0m                     \u001b[0mensure_min_samples\u001b[0m\u001b[1;33m=\u001b[0m\u001b[0mensure_min_samples\u001b[0m\u001b[1;33m,\u001b[0m\u001b[1;33m\u001b[0m\u001b[1;33m\u001b[0m\u001b[0m\n\u001b[0;32m    801\u001b[0m                     \u001b[0mensure_min_features\u001b[0m\u001b[1;33m=\u001b[0m\u001b[0mensure_min_features\u001b[0m\u001b[1;33m,\u001b[0m\u001b[1;33m\u001b[0m\u001b[1;33m\u001b[0m\u001b[0m\n\u001b[1;32m--> 802\u001b[1;33m                     estimator=estimator)\n\u001b[0m\u001b[0;32m    803\u001b[0m     \u001b[1;32mif\u001b[0m \u001b[0mmulti_output\u001b[0m\u001b[1;33m:\u001b[0m\u001b[1;33m\u001b[0m\u001b[1;33m\u001b[0m\u001b[0m\n\u001b[0;32m    804\u001b[0m         y = check_array(y, accept_sparse='csr', force_all_finite=True,\n",
      "\u001b[1;32mc:\\ml\\my_env\\lib\\site-packages\\sklearn\\utils\\validation.py\u001b[0m in \u001b[0;36minner_f\u001b[1;34m(*args, **kwargs)\u001b[0m\n\u001b[0;32m     70\u001b[0m                           FutureWarning)\n\u001b[0;32m     71\u001b[0m         \u001b[0mkwargs\u001b[0m\u001b[1;33m.\u001b[0m\u001b[0mupdate\u001b[0m\u001b[1;33m(\u001b[0m\u001b[1;33m{\u001b[0m\u001b[0mk\u001b[0m\u001b[1;33m:\u001b[0m \u001b[0marg\u001b[0m \u001b[1;32mfor\u001b[0m \u001b[0mk\u001b[0m\u001b[1;33m,\u001b[0m \u001b[0marg\u001b[0m \u001b[1;32min\u001b[0m \u001b[0mzip\u001b[0m\u001b[1;33m(\u001b[0m\u001b[0msig\u001b[0m\u001b[1;33m.\u001b[0m\u001b[0mparameters\u001b[0m\u001b[1;33m,\u001b[0m \u001b[0margs\u001b[0m\u001b[1;33m)\u001b[0m\u001b[1;33m}\u001b[0m\u001b[1;33m)\u001b[0m\u001b[1;33m\u001b[0m\u001b[1;33m\u001b[0m\u001b[0m\n\u001b[1;32m---> 72\u001b[1;33m         \u001b[1;32mreturn\u001b[0m \u001b[0mf\u001b[0m\u001b[1;33m(\u001b[0m\u001b[1;33m**\u001b[0m\u001b[0mkwargs\u001b[0m\u001b[1;33m)\u001b[0m\u001b[1;33m\u001b[0m\u001b[1;33m\u001b[0m\u001b[0m\n\u001b[0m\u001b[0;32m     73\u001b[0m     \u001b[1;32mreturn\u001b[0m \u001b[0minner_f\u001b[0m\u001b[1;33m\u001b[0m\u001b[1;33m\u001b[0m\u001b[0m\n\u001b[0;32m     74\u001b[0m \u001b[1;33m\u001b[0m\u001b[0m\n",
      "\u001b[1;32mc:\\ml\\my_env\\lib\\site-packages\\sklearn\\utils\\validation.py\u001b[0m in \u001b[0;36mcheck_array\u001b[1;34m(array, accept_sparse, accept_large_sparse, dtype, order, copy, force_all_finite, ensure_2d, allow_nd, ensure_min_samples, ensure_min_features, estimator)\u001b[0m\n\u001b[0;32m    643\u001b[0m         \u001b[1;32mif\u001b[0m \u001b[0mforce_all_finite\u001b[0m\u001b[1;33m:\u001b[0m\u001b[1;33m\u001b[0m\u001b[1;33m\u001b[0m\u001b[0m\n\u001b[0;32m    644\u001b[0m             _assert_all_finite(array,\n\u001b[1;32m--> 645\u001b[1;33m                                allow_nan=force_all_finite == 'allow-nan')\n\u001b[0m\u001b[0;32m    646\u001b[0m \u001b[1;33m\u001b[0m\u001b[0m\n\u001b[0;32m    647\u001b[0m     \u001b[1;32mif\u001b[0m \u001b[0mensure_min_samples\u001b[0m \u001b[1;33m>\u001b[0m \u001b[1;36m0\u001b[0m\u001b[1;33m:\u001b[0m\u001b[1;33m\u001b[0m\u001b[1;33m\u001b[0m\u001b[0m\n",
      "\u001b[1;32mc:\\ml\\my_env\\lib\\site-packages\\sklearn\\utils\\validation.py\u001b[0m in \u001b[0;36m_assert_all_finite\u001b[1;34m(X, allow_nan, msg_dtype)\u001b[0m\n\u001b[0;32m     97\u001b[0m                     \u001b[0mmsg_err\u001b[0m\u001b[1;33m.\u001b[0m\u001b[0mformat\u001b[0m\u001b[1;33m\u001b[0m\u001b[1;33m\u001b[0m\u001b[0m\n\u001b[0;32m     98\u001b[0m                     (type_err,\n\u001b[1;32m---> 99\u001b[1;33m                      msg_dtype if msg_dtype is not None else X.dtype)\n\u001b[0m\u001b[0;32m    100\u001b[0m             )\n\u001b[0;32m    101\u001b[0m     \u001b[1;31m# for object dtype data, we only check for NaNs (GH-13254)\u001b[0m\u001b[1;33m\u001b[0m\u001b[1;33m\u001b[0m\u001b[1;33m\u001b[0m\u001b[0m\n",
      "\u001b[1;31mValueError\u001b[0m: Input contains NaN, infinity or a value too large for dtype('float64')."
     ]
    }
   ],
   "source": [
    "from sklearn.pipeline import Pipeline \n",
    "from sklearn.preprocessing import StandardScaler \n",
    "from sklearn.feature_selection import SelectFromModel\n",
    "from sklearn.linear_model import LogisticRegression\n",
    "from sklearn.svm import LinearSVC\n",
    "from sklearn.ensemble import RandomForestClassifier\n",
    "# selector = SelectFromModel(estimator=LogisticRegression()).fit(housing.iloc[:100], housing_labels.iloc[:100])\n",
    "\n",
    "from sklearn.preprocessing import FunctionTransformer\n",
    "\n",
    "def all_but_last_column(X):\n",
    "    return X[:,:-1]\n",
    "\n",
    "#set the sequence of transformations\n",
    "num_pipeline = Pipeline([ \n",
    "                         \n",
    "    ('feature_selection', SelectFromModel(LogisticRegression()).fit(housing_num, housing_labels)),\n",
    "                            ('classification', RandomForestClassifier())]) \n",
    "\n",
    "\n",
    "#apply the sequence\n",
    "housing_num_tr = num_pipeline.fit_transform(housing_num)\n",
    "\n",
    "\n",
    "\n",
    "\n",
    "#this cell takes the \"ocean_proximity\" column and transforms it\n",
    "#to be numerical like the rest of our columns,\n",
    "#it does so using pipeline\n",
    "#we use \"ColumnTransformer\" as well\n",
    "from sklearn.compose import ColumnTransformer \n",
    "\n",
    "\n",
    "\n",
    "\n",
    "#get numerical columns\n",
    "num_attribs = list( housing_num) \n",
    "#get text columns\n",
    "cat_attribs = [\"ocean_proximity\"] \n",
    "\n",
    "\n",
    "\n",
    "#apply numerical pipelines to num columns portion of data\n",
    "#apply one hot to category column\n",
    "full_pipeline = ColumnTransformer([ (\"num\", num_pipeline, num_attribs), \n",
    "                                   (\"cat\", OneHotEncoder(), cat_attribs),]) \n",
    "\n",
    "#apply the full pipeline to all of the data\n",
    "housing_prepared = full_pipeline.fit_transform( housing)\n",
    "\n",
    "\n"
   ]
  },
  {
   "cell_type": "code",
   "execution_count": null,
   "metadata": {},
   "outputs": [],
   "source": [
    "#to get best params found by GridSearchCV \n",
    "grid_search.best_params_\n",
    "\n"
   ]
  },
  {
   "cell_type": "code",
   "execution_count": null,
   "metadata": {},
   "outputs": [],
   "source": [
    "#this could just be the highest values...\n",
    "#perhaps set higher and see if there's a better middle ground?"
   ]
  },
  {
   "cell_type": "code",
   "execution_count": null,
   "metadata": {},
   "outputs": [],
   "source": [
    "#fine tune the hyperparameters of random forest using GridSearchCV\n",
    "from sklearn.model_selection import GridSearchCV \n",
    "\n",
    "#try using 3, 10, and 30 estimators, 2, 4, 6, and 8 max features\n",
    "#false the bootstrap(some resampling technique)\n",
    "#note we have two arrays in here each with their tweaks\n",
    "param_grid = [ {'n_estimators': [3, 10, 30], 'max_features': [2, 4, 6, 8, 10, 12, 14, 16, 18]}, \n",
    "              {'bootstrap': [False], 'n_estimators': [3, 10], 'max_features': [2, 3, 4]}, ]\n",
    "\n",
    "forest_reg = RandomForestRegressor() \n",
    "\n",
    "#note cv = 5 means five fold cross validation\n",
    "#previously we were using 10 fold\n",
    "grid_search = GridSearchCV( forest_reg, param_grid, cv = 5, \n",
    "                           scoring ='neg_mean_squared_error', \n",
    "                           return_train_score = True) \n",
    "grid_search.fit( housing_prepared, housing_labels)\n",
    "    \n",
    "\n",
    "\n"
   ]
  },
  {
   "cell_type": "code",
   "execution_count": null,
   "metadata": {},
   "outputs": [],
   "source": [
    "#Note \n",
    "# If GridSearchCV is initialized with refit = True (which is the default), then once\n",
    "# it finds the best estimator using cross-validation, it retrains it on the whole training set.\n",
    "# This is usually a good idea, since feeding it more data will likely improve its performance.\n",
    "\n",
    "#^ good ovbiously this lets us improve how the algorithm generalizes\n"
   ]
  },
  {
   "cell_type": "code",
   "execution_count": null,
   "metadata": {},
   "outputs": [],
   "source": [
    "#let us see if upping the number of max features in GridSearchCV had any effect..."
   ]
  },
  {
   "cell_type": "code",
   "execution_count": null,
   "metadata": {},
   "outputs": [],
   "source": [
    "#new best params\n",
    "grid_search.best_params_\n"
   ]
  },
  {
   "cell_type": "code",
   "execution_count": null,
   "metadata": {},
   "outputs": [],
   "source": [
    "#interesting.... now max_features 6 is better despite that already existing... no matter"
   ]
  },
  {
   "cell_type": "code",
   "execution_count": null,
   "metadata": {},
   "outputs": [],
   "source": [
    "#loop through all possibilities tested by GridSearchCV and see their cross validation scores\n",
    "cvres = grid_search.cv_results_ \n",
    "for mean_score, params in zip( cvres[\"mean_test_score\"], cvres[\"params\"]): \n",
    "    print( np.sqrt(-mean_score), params)\n",
    "\n"
   ]
  },
  {
   "cell_type": "code",
   "execution_count": null,
   "metadata": {},
   "outputs": [],
   "source": [
    "#indeed this was best... 49797.364928280964 {'max_features': 6, 'n_estimators': 30}"
   ]
  },
  {
   "cell_type": "code",
   "execution_count": null,
   "metadata": {},
   "outputs": [],
   "source": [
    "#fine tune the hyperparameters of random forest using GridSearchCV\n",
    "from sklearn.model_selection import GridSearchCV \n",
    "\n",
    "#try using 3, 10, and 30 estimators, 2, 4, 6, and 8 max features\n",
    "#false the bootstrap(some resampling technique)\n",
    "#note we have two arrays in here each with their tweaks\n",
    "param_grid = [ {'n_estimators': [3, 10, 30], 'max_features': [2, 4, 6, 8]}, \n",
    "              {'bootstrap': [False], 'n_estimators': [3, 10], 'max_features': [2, 3, 4]}, ]\n",
    "\n",
    "forest_reg = RandomForestRegressor() \n",
    "\n",
    "#note cv = 5 means five fold cross validation\n",
    "#previously we were using 10 fold\n",
    "grid_search = GridSearchCV( forest_reg, param_grid, cv = 5, \n",
    "                           scoring ='neg_mean_squared_error', \n",
    "                           return_train_score = True) \n",
    "grid_search.fit( housing_prepared, housing_labels)\n",
    "    \n",
    "\n",
    "\n"
   ]
  },
  {
   "cell_type": "code",
   "execution_count": null,
   "metadata": {},
   "outputs": [],
   "source": [
    "grid_search.best_params_\n"
   ]
  },
  {
   "cell_type": "code",
   "execution_count": null,
   "metadata": {},
   "outputs": [],
   "source": [
    "#interesting... now it gets 6 and 30 again.. "
   ]
  },
  {
   "cell_type": "code",
   "execution_count": null,
   "metadata": {},
   "outputs": [],
   "source": [
    "#this fine tunes the forest model"
   ]
  },
  {
   "cell_type": "code",
   "execution_count": null,
   "metadata": {},
   "outputs": [],
   "source": [
    "feature_importances = grid_search.best_estimator_.feature_importances_ \n",
    "feature_importances\n",
    "\n"
   ]
  },
  {
   "cell_type": "code",
   "execution_count": null,
   "metadata": {},
   "outputs": [],
   "source": [
    "#this tells us the importance of each attribute (EG latitude, bedrooms, etc) in making accurate predictions"
   ]
  },
  {
   "cell_type": "code",
   "execution_count": null,
   "metadata": {},
   "outputs": [],
   "source": [
    "extra_attribs = [\"rooms_per_hhold\", \"pop_per_hhold\", \"bedrooms_per_room\"]\n",
    "cat_encoder = full_pipeline.named_transformers_[\"cat\"] \n",
    "cat_one_hot_attribs = list(cat_encoder.categories_[ 0])\n",
    "attributes = num_attribs + extra_attribs + cat_one_hot_attribs \n",
    "sorted( zip( feature_importances, attributes), reverse = True)\n"
   ]
  },
  {
   "cell_type": "code",
   "execution_count": null,
   "metadata": {},
   "outputs": [],
   "source": [
    "#island is obviously an outlier so obviously it has very little effect\n",
    "#I would argue it could be removed all togehter..."
   ]
  },
  {
   "cell_type": "code",
   "execution_count": null,
   "metadata": {},
   "outputs": [],
   "source": [
    "#notice Inland is the only useful looking property...\n",
    "#could perhaps create a column that says "
   ]
  },
  {
   "cell_type": "code",
   "execution_count": null,
   "metadata": {},
   "outputs": [],
   "source": [
    "#check our test set finally! \n",
    "\n",
    "final_model = grid_search.best_estimator_ \n",
    "#inputs, do not include the house value as that is what we want to predict\n",
    "X_test = strat_test_set.drop(\"median_house_value\", axis = 1) \n",
    "#outputs to compare against\n",
    "y_test = strat_test_set[\"median_house_value\"].copy() \n",
    "X_test_prepared = full_pipeline.transform(X_test) \n",
    "final_predictions = final_model.predict(X_test_prepared) \n",
    "final_mse = mean_squared_error( y_test, final_predictions) \n",
    "# = > evaluates to 47,730.2\n",
    "final_rmse = np.sqrt(final_mse) \n",
    "\n",
    "final_rmse"
   ]
  },
  {
   "cell_type": "code",
   "execution_count": null,
   "metadata": {},
   "outputs": [],
   "source": [
    "#I got a better score than the book :D (thank you GridSearchCV)"
   ]
  },
  {
   "cell_type": "code",
   "execution_count": null,
   "metadata": {},
   "outputs": [],
   "source": [
    "from scipy import stats\n",
    "confidence = 0.95\n",
    "squared_errors = (final_predictions - y_test) ** 2 \n",
    "#stats.t.interval says: \"Endpoints of the range that contains alpha percent of the distribution\"\n",
    "#alpha being 0.95 for us\n",
    "#loc shifts the the distribution by the average squared errors\n",
    "#the scale scales the distribution by the standarm error of the mean of the squared errors\n",
    "#so 95% of the distribution lies between 45696.58 and 49535.75?\n",
    "#is this saying that's where the error lies? or that 95% of the data points\n",
    "#that contributed to the RMSE lie there?\n",
    "np.sqrt(stats.t.interval( confidence, len( squared_errors) - 1, \n",
    "                          loc = squared_errors.mean(),\n",
    "                          scale = stats.sem( squared_errors)))\n",
    "\n",
    "\n",
    "#the confidence interval tells us that indeed our true \n",
    "#amount of RMSE lies somewhere between 45695 and 49535\n",
    "#so in this case we are on the right track\n",
    "\n",
    "#however as mentioned below if we see a drop here we must not tweak the hyperparameters\n",
    "#to perform better on the test set as it would likely not generalize all that well \n",
    "#to new data\n"
   ]
  },
  {
   "cell_type": "code",
   "execution_count": null,
   "metadata": {},
   "outputs": [],
   "source": [
    "# If you did a lot of hyperparameter tuning, the performance will usually be slightly worse than what you \n",
    "# measured using cross-validation (because your system ends up fine-tuned to perform well on the \n",
    "# validation data and will likely not perform as well on unknown datasets).\n",
    "# It is not the case in this example, but when this happens you must resist \n",
    "# the temptation to tweak the hyperparameters to make the numbers look good on the\n",
    "# test set; the improvements would be unlikely to generalize to new data.\n",
    "\n"
   ]
  },
  {
   "cell_type": "code",
   "execution_count": null,
   "metadata": {},
   "outputs": [],
   "source": [
    "#PreLaunch Phase"
   ]
  },
  {
   "cell_type": "code",
   "execution_count": null,
   "metadata": {},
   "outputs": [],
   "source": [
    "def mean_absolute_percentage_error(y_true, y_pred): \n",
    "    y_true, y_pred = np.array(y_true), np.array(y_pred)\n",
    "    return np.mean(np.abs((y_true - y_pred) / y_true)) * 100"
   ]
  },
  {
   "cell_type": "code",
   "execution_count": null,
   "metadata": {},
   "outputs": [],
   "source": [
    "print(mean_absolute_percentage_error(y_test, final_predictions))"
   ]
  },
  {
   "cell_type": "code",
   "execution_count": null,
   "metadata": {},
   "outputs": [],
   "source": [
    "#DONE with chapter 2 good job! Now to test some of the exercises"
   ]
  },
  {
   "cell_type": "code",
   "execution_count": null,
   "metadata": {},
   "outputs": [],
   "source": [
    "#testing SVM with kernel rbf\n",
    "from sklearn import svm\n",
    "\n",
    "\n",
    "#set the kernel and C, gamma, and epsilon values\n",
    "svm_reg = svm.SVR(kernel='rbf', C=100, gamma=0.1, epsilon=.1)\n",
    "svm_reg.fit(housing_prepared, housing_labels)\n",
    "\n",
    "\n",
    "housing_predictions = svm_reg.predict(housing_prepared) \n",
    "svm_mse = mean_squared_error(housing_labels, housing_predictions) \n",
    "svm_rmse = np.sqrt(svm_mse) \n",
    "\n",
    "svm_rmse"
   ]
  },
  {
   "cell_type": "code",
   "execution_count": null,
   "metadata": {},
   "outputs": [],
   "source": [
    "svm_scores = cross_val_score(svm_reg, housing_prepared, housing_labels, \n",
    "                             scoring =\"neg_mean_squared_error\", \n",
    "                             cv = 10) \n",
    "svm_rmse_scores = np.sqrt(-svm_scores) \n",
    "display_scores(svm_rmse_scores)"
   ]
  },
  {
   "cell_type": "code",
   "execution_count": null,
   "metadata": {},
   "outputs": [],
   "source": [
    "RandomForestRegressor().get_params().keys()"
   ]
  },
  {
   "cell_type": "code",
   "execution_count": null,
   "metadata": {},
   "outputs": [],
   "source": [
    "#exercise 2 testing out randomized search \n",
    "\n",
    "from sklearn.model_selection import RandomizedSearchCV\n",
    "\n",
    "\n",
    "\n",
    "forest_reg = RandomForestRegressor() \n",
    "\n",
    "# specify parameters and distributions to sample from\n",
    "param_dist = {'n_estimators': [3, 10], \n",
    "              'max_features': [2, 4, 6, 8]}\n",
    "\n",
    "# run randomized search\n",
    "n_iter_search = 100\n",
    "random_search = RandomizedSearchCV(forest_reg, param_distributions=param_dist,\n",
    "                                   n_iter=n_iter_search)\n",
    "\n",
    "\n",
    "random_search.fit(housing_prepared, housing_labels)\n"
   ]
  },
  {
   "cell_type": "code",
   "execution_count": null,
   "metadata": {},
   "outputs": [],
   "source": [
    "#exercise 2 testing out randomized search \n",
    "\n",
    "from sklearn.model_selection import RandomizedSearchCV\n",
    "\n",
    "\n",
    "\n",
    "forest_reg = RandomForestRegressor() \n",
    "\n",
    "# specify parameters and distributions to sample from\n",
    "param_dist = {'n_estimators': [], \n",
    "              'max_features': []}\n",
    "\n",
    "# run randomized search\n",
    "n_iter_search = 100\n",
    "random_search = RandomizedSearchCV(forest_reg, param_distributions=param_dist,\n",
    "                                   n_iter=n_iter_search)\n",
    "\n",
    "\n",
    "random_search.fit(housing_prepared, housing_labels)\n"
   ]
  },
  {
   "cell_type": "code",
   "execution_count": null,
   "metadata": {},
   "outputs": [],
   "source": [
    "#exercise 2 testing out randomized search \n",
    "\n",
    "from sklearn.model_selection import RandomizedSearchCV\n",
    "\n",
    "\n",
    "\n",
    "forest_reg = RandomForestRegressor() \n",
    "\n",
    "# specify parameters and distributions to sample from\n",
    "param_dist = {'n_estimators': [3, 10], \n",
    "              'max_features': [2, 4, 6, 8]}\n",
    "\n",
    "# run randomized search\n",
    "n_iter_search = 100\n",
    "random_search = RandomizedSearchCV(forest_reg, param_distributions=param_dist,\n",
    "                                   n_iter=n_iter_search)\n",
    "\n",
    "\n",
    "random_search.fit(housing_prepared, housing_labels)\n"
   ]
  },
  {
   "cell_type": "code",
   "execution_count": null,
   "metadata": {},
   "outputs": [],
   "source": [
    "random_search.best_params_"
   ]
  },
  {
   "cell_type": "code",
   "execution_count": null,
   "metadata": {},
   "outputs": [],
   "source": [
    "cvres = random_search.cv_results_ \n",
    "for mean_score, params in zip( cvres[\"mean_test_score\"], cvres[\"params\"]): \n",
    "    print( np.sqrt(-mean_score), params)\n"
   ]
  },
  {
   "cell_type": "code",
   "execution_count": null,
   "metadata": {},
   "outputs": [],
   "source": [
    "def report(results, n_top=3):\n",
    "    for i in range(1, n_top + 1):\n",
    "        candidates = np.flatnonzero(results['rank_test_score'] == i)\n",
    "        for candidate in candidates:\n",
    "            print(\"Model with rank: {0}\".format(i))\n",
    "            print(\"Mean validation score: {0:.3f} (std: {1:.3f})\"\n",
    "                  .format(results['mean_test_score'][candidate],\n",
    "                          results['std_test_score'][candidate]))\n",
    "            print(\"Parameters: {0}\".format(results['params'][candidate]))\n",
    "            print(\"\")\n",
    "            \n",
    "            \n",
    "report(random_search.cv_results_)"
   ]
  },
  {
   "cell_type": "code",
   "execution_count": null,
   "metadata": {},
   "outputs": [],
   "source": [
    "cvres = random_search.cv_results_ \n",
    "for mean_score, params in zip( cvres[\"mean_test_score\"], cvres[\"params\"]): \n",
    "    print( np.sqrt(-mean_score), params)\n"
   ]
  },
  {
   "cell_type": "code",
   "execution_count": null,
   "metadata": {},
   "outputs": [],
   "source": [
    "#exercise 2 testing out randomized search \n",
    "\n",
    "from sklearn.model_selection import RandomizedSearchCV\n",
    "\n",
    "\n",
    "\n",
    "forest_reg = RandomForestRegressor() \n",
    "\n",
    "# specify parameters and distributions to sample from\n",
    "param_dist = {'n_estimators': (0, 100), \n",
    "              'max_features': (0, 100)}\n",
    "\n",
    "# run randomized search\n",
    "n_iter_search = 100\n",
    "random_search = RandomizedSearchCV(forest_reg, param_distributions=param_dist,\n",
    "                                   n_iter=n_iter_search)\n",
    "\n",
    "\n",
    "random_search.fit(housing_prepared, housing_labels)\n"
   ]
  },
  {
   "cell_type": "code",
   "execution_count": null,
   "metadata": {},
   "outputs": [],
   "source": [
    "#exercise 2 testing out randomized search \n",
    "\n",
    "from sklearn.model_selection import RandomizedSearchCV\n",
    "\n",
    "\n",
    "\n",
    "forest_reg = RandomForestRegressor() \n",
    "\n",
    "# specify parameters and distributions to sample from\n",
    "param_dist = {'n_estimators': (0, 100), \n",
    "              'max_features': (0, 100)}\n",
    "\n",
    "# run randomized search\n",
    "n_iter_search = 100\n",
    "random_search = RandomizedSearchCV(forest_reg, param_distributions=param_dist,\n",
    "                                   n_iter=n_iter_search)\n",
    "\n",
    "\n",
    "random_search.fit(housing_prepared, housing_labels)\n"
   ]
  },
  {
   "cell_type": "code",
   "execution_count": null,
   "metadata": {},
   "outputs": [],
   "source": [
    "#exercise 2 testing out randomized search \n",
    "\n",
    "from sklearn.model_selection import RandomizedSearchCV\n",
    "\n",
    "\n",
    "\n",
    "forest_reg = RandomForestRegressor() \n",
    "\n",
    "# specify parameters and distributions to sample from\n",
    "param_dist = {'n_estimators': [2, 4, 6 , 8, 10, 12, 14, 16, 18], \n",
    "              'max_features': [2, 3, 4, 5, 6]}\n",
    "\n",
    "# run randomized search\n",
    "n_iter_search = 10\n",
    "random_search = RandomizedSearchCV(forest_reg, param_distributions=param_dist,\n",
    "                                   n_iter=n_iter_search)\n",
    "\n",
    "\n",
    "random_search.fit(housing_prepared, housing_labels)\n"
   ]
  },
  {
   "cell_type": "code",
   "execution_count": null,
   "metadata": {},
   "outputs": [],
   "source": [
    "cvres2 = random_search.cv_results_ \n",
    "for mean_score, params in zip( cvres2[\"mean_test_score\"], cvres[\"params\"]): \n",
    "    print( np.sqrt(-mean_score), params)\n"
   ]
  },
  {
   "cell_type": "code",
   "execution_count": null,
   "metadata": {},
   "outputs": [],
   "source": [
    "cvres2 = random_search.cv_results_ \n",
    "\n",
    "print(cvres2)"
   ]
  },
  {
   "cell_type": "code",
   "execution_count": null,
   "metadata": {},
   "outputs": [],
   "source": [
    "cvres = random_search.cv_results_ \n",
    "for mean_score, params in zip(cvres['params']): \n",
    "    print( params)\n"
   ]
  },
  {
   "cell_type": "code",
   "execution_count": null,
   "metadata": {},
   "outputs": [],
   "source": [
    "cvres = grid_search.cv_results_ \n",
    "for mean_score, params in zip( cvres[\"mean_test_score\"], cvres['params']): \n",
    "    print( np.sqrt(-mean_score), params)\n"
   ]
  },
  {
   "cell_type": "code",
   "execution_count": null,
   "metadata": {},
   "outputs": [],
   "source": [
    "cvres = grid_search.cv_results_ \n",
    "print(cvres)"
   ]
  },
  {
   "cell_type": "code",
   "execution_count": null,
   "metadata": {},
   "outputs": [],
   "source": [
    "cvres = random_search.cv_results_ \n",
    "for mean_score, params in zip(cvres['params']): \n",
    "    print( params)\n"
   ]
  },
  {
   "cell_type": "code",
   "execution_count": null,
   "metadata": {},
   "outputs": [],
   "source": [
    "from sklearn.pipeline import Pipeline \n",
    "from sklearn.preprocessing import StandardScaler \n",
    "from sklearn.feature_selection import SelectFromModel\n",
    "from sklearn.linear_model import LogisticRegression\n",
    "# selector = SelectFromModel(estimator=LogisticRegression()).fit(housing.iloc[:100], housing_labels.iloc[:100])\n",
    "\n",
    "\n",
    "\n",
    "#set the sequence of transformations\n",
    "num_pipeline = Pipeline([ ('imputer', SimpleImputer( strategy =\"median\")), \n",
    "                         ('attribs_adder', CombinedAttributesAdder()), \n",
    "                         ('selector', SelectFromModel(estimator=LogisticRegression())),\n",
    "                         ('std_scaler', StandardScaler()),]) \n",
    "#apply the sequence\n",
    "housing_num_tr = num_pipeline.fit_transform(housing_num)\n",
    "\n",
    "\n",
    "\n",
    "\n",
    "#this cell takes the \"ocean_proximity\" column and transforms it\n",
    "#to be numerical like the rest of our columns,\n",
    "#it does so using pipeline\n",
    "#we use \"ColumnTransformer\" as well\n",
    "from sklearn.compose import ColumnTransformer \n",
    "\n",
    "\n",
    "\n",
    "\n",
    "#get numerical columns\n",
    "num_attribs = list( housing_num) \n",
    "#get text columns\n",
    "cat_attribs = [\"ocean_proximity\"] \n",
    "\n",
    "\n",
    "\n",
    "#apply numerical pipelines to num columns portion of data\n",
    "#apply one hot to category column\n",
    "full_pipeline = ColumnTransformer([ (\"num\", num_pipeline, num_attribs), \n",
    "                                   (\"cat\", OneHotEncoder(), cat_attribs),]) \n",
    "\n",
    "#apply the full pipeline to all of the data\n",
    "housing_prepared = full_pipeline.fit_transform( housing)\n",
    "\n",
    "\n"
   ]
  },
  {
   "cell_type": "code",
   "execution_count": null,
   "metadata": {},
   "outputs": [],
   "source": [
    "\n",
    "from sklearn.base import BaseEstimator, TransformerMixin \n",
    "\n",
    "\n",
    "\n",
    "\n",
    "class RemoveThreeColumns(BaseEstimator, TransformerMixin): \n",
    "    \n",
    "    # no *args or ** kargs\n",
    "    #custom transformer to add the custom attribute \n",
    "    #bedrooms_per_room which combines total_bedrooms/total_rooms columns\n",
    "    def __init__(self, remove_columns = True): \n",
    "        #set boolean true?\n",
    "        self.remove_columns = remove_columns\n",
    "    def fit(self, X, y = None): \n",
    "            # nothing else to do\n",
    "            return self  \n",
    "    def transform(self, X): \n",
    "            \n",
    "            X_ = X.copy()\n",
    "            \n",
    "            X_ = X_[:,:1]\n",
    "            X_ = X_[:,:2]\n",
    "            X_ = X_[:,:3]\n",
    "            \n",
    "            print(\"new X_\")\n",
    "            print(X_)\n",
    "            \n",
    "            return X_\n",
    "        \n",
    "            #attr_adder = CombinedAttributesAdder( add_bedrooms_per_room = False) \n",
    "            #housing_extra_attribs = attr_adder.transform( housing.values)\n",
    "\n",
    "\n",
    "\n"
   ]
  },
  {
   "cell_type": "code",
   "execution_count": null,
   "metadata": {},
   "outputs": [],
   "source": [
    "from sklearn.pipeline import Pipeline \n",
    "from sklearn.preprocessing import StandardScaler \n",
    "from sklearn.feature_selection import SelectFromModel\n",
    "from sklearn.linear_model import LogisticRegression\n",
    "# selector = SelectFromModel(estimator=LogisticRegression()).fit(housing.iloc[:100], housing_labels.iloc[:100])\n",
    "\n",
    "\n",
    "\n",
    "#set the sequence of transformations\n",
    "num_pipeline = Pipeline([ ('imputer', SimpleImputer( strategy =\"median\")), \n",
    "                         ('attribs_adder', CombinedAttributesAdder()), \n",
    "                         ('std_scaler', StandardScaler()),]) \n",
    "#apply the sequence\n",
    "housing_num_tr = num_pipeline.fit_transform(housing_num)\n",
    "\n",
    "\n",
    "\n",
    "\n",
    "#this cell takes the \"ocean_proximity\" column and transforms it\n",
    "#to be numerical like the rest of our columns,\n",
    "#it does so using pipeline\n",
    "#we use \"ColumnTransformer\" as well\n",
    "from sklearn.compose import ColumnTransformer \n",
    "\n",
    "\n",
    "\n",
    "\n",
    "#get numerical columns\n",
    "num_attribs = list( housing_num) \n",
    "#get text columns\n",
    "cat_attribs = [\"ocean_proximity\"] \n",
    "\n",
    "\n",
    "\n",
    "#apply numerical pipelines to num columns portion of data\n",
    "#apply one hot to category column\n",
    "full_pipeline = ColumnTransformer([ (\"num\", num_pipeline, num_attribs), \n",
    "                                   (\"cat\", OneHotEncoder(), cat_attribs),]) \n",
    "\n",
    "#apply the full pipeline to all of the data\n",
    "housing_prepared = full_pipeline.fit_transform( housing)\n",
    "\n",
    "\n"
   ]
  },
  {
   "cell_type": "code",
   "execution_count": null,
   "metadata": {},
   "outputs": [],
   "source": [
    "from sklearn.ensemble import RandomForestRegressor \n",
    "\n",
    "forest_reg = RandomForestRegressor() \n",
    "forest_reg.fit( housing_prepared, housing_labels)\n",
    "\n",
    "housing_predictions = forest_reg.predict(housing_prepared) \n",
    "forest_mse = mean_squared_error(housing_labels, housing_predictions) \n",
    "forest_rmse = np.sqrt(forest_mse) \n",
    "\n",
    "forest_rmse\n"
   ]
  },
  {
   "cell_type": "code",
   "execution_count": null,
   "metadata": {},
   "outputs": [],
   "source": [
    "extra_attribs = [\"rooms_per_hhold\", \"pop_per_hhold\", \"bedrooms_per_room\"]\n",
    "cat_encoder = full_pipeline.named_transformers_[\"cat\"] \n",
    "cat_one_hot_attribs = list(cat_encoder.categories_[ 0])\n",
    "attributes = num_attribs + extra_attribs + cat_one_hot_attribs \n",
    "sorted( zip( feature_importances, attributes), reverse = True)\n"
   ]
  },
  {
   "cell_type": "code",
   "execution_count": null,
   "metadata": {},
   "outputs": [],
   "source": [
    "\n",
    "from sklearn.base import BaseEstimator, TransformerMixin \n",
    "\n",
    "\n",
    "\n",
    "\n",
    "class RemoveThreeColumns(BaseEstimator, TransformerMixin): \n",
    "    \n",
    "    # no *args or ** kargs\n",
    "    #custom transformer to add the custom attribute \n",
    "    #bedrooms_per_room which combines total_bedrooms/total_rooms columns\n",
    "    def __init__(self, remove_columns = True): \n",
    "        #set boolean true?\n",
    "        self.remove_columns = remove_columns\n",
    "    def fit(self, X, y = None): \n",
    "            # nothing else to do\n",
    "            return self  \n",
    "    def transform(self, X): \n",
    "            \n",
    "            X_ = X.copy()\n",
    "            \n",
    "            X_ = X_[:,0]\n",
    "            \n",
    "            print(\"new X_\")\n",
    "            print(X_)\n",
    "            \n",
    "            return X_\n",
    "        \n",
    "            #attr_adder = CombinedAttributesAdder( add_bedrooms_per_room = False) \n",
    "            #housing_extra_attribs = attr_adder.transform( housing.values)\n",
    "\n",
    "\n",
    "\n"
   ]
  },
  {
   "cell_type": "code",
   "execution_count": null,
   "metadata": {},
   "outputs": [],
   "source": [
    "from sklearn.pipeline import Pipeline \n",
    "from sklearn.preprocessing import StandardScaler \n",
    "from sklearn.feature_selection import SelectFromModel\n",
    "from sklearn.linear_model import LogisticRegression\n",
    "# selector = SelectFromModel(estimator=LogisticRegression()).fit(housing.iloc[:100], housing_labels.iloc[:100])\n",
    "\n",
    "\n",
    "\n",
    "#set the sequence of transformations\n",
    "num_pipeline = Pipeline([ ('imputer', SimpleImputer( strategy =\"median\")), \n",
    "                         ('attribs_adder', CombinedAttributesAdder()), \n",
    "                         ('attribs_remover', RemoveThreeColumns()),\n",
    "                         ('std_scaler', StandardScaler()),]) \n",
    "#apply the sequence\n",
    "housing_num_tr = num_pipeline.fit_transform(housing_num)\n",
    "\n",
    "\n",
    "\n",
    "\n",
    "#this cell takes the \"ocean_proximity\" column and transforms it\n",
    "#to be numerical like the rest of our columns,\n",
    "#it does so using pipeline\n",
    "#we use \"ColumnTransformer\" as well\n",
    "from sklearn.compose import ColumnTransformer \n",
    "\n",
    "\n",
    "\n",
    "\n",
    "#get numerical columns\n",
    "num_attribs = list( housing_num) \n",
    "#get text columns\n",
    "cat_attribs = [\"ocean_proximity\"] \n",
    "\n",
    "\n",
    "\n",
    "#apply numerical pipelines to num columns portion of data\n",
    "#apply one hot to category column\n",
    "full_pipeline = ColumnTransformer([ (\"num\", num_pipeline, num_attribs), \n",
    "                                   (\"cat\", OneHotEncoder(), cat_attribs),]) \n",
    "\n",
    "#apply the full pipeline to all of the data\n",
    "housing_prepared = full_pipeline.fit_transform( housing)\n",
    "\n",
    "\n"
   ]
  },
  {
   "cell_type": "code",
   "execution_count": null,
   "metadata": {},
   "outputs": [],
   "source": [
    "\n",
    "from sklearn.base import BaseEstimator, TransformerMixin \n",
    "\n",
    "\n",
    "\n",
    "\n",
    "class RemoveThreeColumns(BaseEstimator, TransformerMixin): \n",
    "    \n",
    "    # no *args or ** kargs\n",
    "    #custom transformer to add the custom attribute \n",
    "    #bedrooms_per_room which combines total_bedrooms/total_rooms columns\n",
    "    def __init__(self, remove_columns = True): \n",
    "        #set boolean true?\n",
    "        self.remove_columns = remove_columns\n",
    "    def fit(self, X, y = None): \n",
    "            # nothing else to do\n",
    "            return self  \n",
    "    def transform(self, X): \n",
    "            \n",
    "            X_ = X.copy()\n",
    "            \n",
    "            X_append = X_.copy()\n",
    "            \n",
    "            X_append = X_append[:, 1]\n",
    "            \n",
    "            X_ = X_[:,0]\n",
    "            \n",
    "            print(\"new X_\")\n",
    "            print(X_)\n",
    "            \n",
    "            return np.c_[X_, X_append]\n",
    "        \n",
    "            #attr_adder = CombinedAttributesAdder( add_bedrooms_per_room = False) \n",
    "            #housing_extra_attribs = attr_adder.transform( housing.values)\n",
    "\n",
    "\n",
    "\n"
   ]
  },
  {
   "cell_type": "code",
   "execution_count": null,
   "metadata": {},
   "outputs": [],
   "source": [
    "from sklearn.pipeline import Pipeline \n",
    "from sklearn.preprocessing import StandardScaler \n",
    "from sklearn.feature_selection import SelectFromModel\n",
    "from sklearn.linear_model import LogisticRegression\n",
    "# selector = SelectFromModel(estimator=LogisticRegression()).fit(housing.iloc[:100], housing_labels.iloc[:100])\n",
    "\n",
    "\n",
    "\n",
    "#set the sequence of transformations\n",
    "num_pipeline = Pipeline([ ('imputer', SimpleImputer( strategy =\"median\")), \n",
    "                         ('attribs_adder', CombinedAttributesAdder()), \n",
    "                         ('attribs_remover', RemoveThreeColumns()),\n",
    "                         ('std_scaler', StandardScaler()),]) \n",
    "#apply the sequence\n",
    "housing_num_tr = num_pipeline.fit_transform(housing_num)\n",
    "\n",
    "\n",
    "\n",
    "\n",
    "#this cell takes the \"ocean_proximity\" column and transforms it\n",
    "#to be numerical like the rest of our columns,\n",
    "#it does so using pipeline\n",
    "#we use \"ColumnTransformer\" as well\n",
    "from sklearn.compose import ColumnTransformer \n",
    "\n",
    "\n",
    "\n",
    "\n",
    "#get numerical columns\n",
    "num_attribs = list( housing_num) \n",
    "#get text columns\n",
    "cat_attribs = [[\"ocean_proximity\"] \n",
    "\n",
    "\n",
    "\n",
    "#apply numerical pipelines to num columns portion of data\n",
    "#apply one hot to category column\n",
    "full_pipeline = ColumnTransformer([ (\"num\", num_pipeline, num_attribs), \n",
    "                                   (\"cat\", OneHotEncoder(), cat_attribs),]) \n",
    "\n",
    "#apply the full pipeline to all of the data\n",
    "housing_prepared = full_pipeline.fit_transform( housing)\n",
    "\n",
    "\n"
   ]
  },
  {
   "cell_type": "code",
   "execution_count": null,
   "metadata": {},
   "outputs": [],
   "source": [
    "from sklearn.pipeline import Pipeline \n",
    "from sklearn.preprocessing import StandardScaler \n",
    "from sklearn.feature_selection import SelectFromModel\n",
    "from sklearn.linear_model import LogisticRegression\n",
    "# selector = SelectFromModel(estimator=LogisticRegression()).fit(housing.iloc[:100], housing_labels.iloc[:100])\n",
    "\n",
    "\n",
    "\n",
    "#set the sequence of transformations\n",
    "num_pipeline = Pipeline([ ('imputer', SimpleImputer( strategy =\"median\")), \n",
    "                         ('attribs_adder', CombinedAttributesAdder()), \n",
    "                         ('attribs_remover', RemoveThreeColumns()),\n",
    "                         ('std_scaler', StandardScaler()),]) \n",
    "#apply the sequence\n",
    "housing_num_tr = num_pipeline.fit_transform(housing_num)\n",
    "\n",
    "\n",
    "\n",
    "\n",
    "#this cell takes the \"ocean_proximity\" column and transforms it\n",
    "#to be numerical like the rest of our columns,\n",
    "#it does so using pipeline\n",
    "#we use \"ColumnTransformer\" as well\n",
    "from sklearn.compose import ColumnTransformer \n",
    "\n",
    "\n",
    "\n",
    "\n",
    "#get numerical columns\n",
    "num_attribs = list( housing_num) \n",
    "#get text columns\n",
    "cat_attribs = [[\"ocean_proximity\"] \n",
    "\n",
    "\n",
    "\n",
    "#apply numerical pipelines to num columns portion of data\n",
    "#apply one hot to category column\n",
    "full_pipeline = ColumnTransformer([ (\"num\", num_pipeline, num_attribs), \n",
    "                                   (\"cat\", OneHotEncoder(), cat_attribs),]) \n",
    "\n",
    "#apply the full pipeline to all of the data\n",
    "housing_prepared = full_pipeline.fit_transform( housing)\n",
    "\n",
    "\n"
   ]
  },
  {
   "cell_type": "code",
   "execution_count": null,
   "metadata": {},
   "outputs": [],
   "source": [
    "from sklearn.pipeline import Pipeline \n",
    "from sklearn.preprocessing import StandardScaler \n",
    "from sklearn.feature_selection import SelectFromModel\n",
    "from sklearn.linear_model import LogisticRegression\n",
    "# selector = SelectFromModel(estimator=LogisticRegression()).fit(housing.iloc[:100], housing_labels.iloc[:100])\n",
    "\n",
    "\n",
    "\n",
    "#set the sequence of transformations\n",
    "num_pipeline = Pipeline([ ('imputer', SimpleImputer( strategy =\"median\")), \n",
    "                         ('attribs_adder', CombinedAttributesAdder()), \n",
    "                         ('attribs_remover', RemoveThreeColumns()),\n",
    "                         ('std_scaler', StandardScaler()),]) \n",
    "#apply the sequence\n",
    "housing_num_tr = num_pipeline.fit_transform(housing_num)\n",
    "\n",
    "\n",
    "\n",
    "\n",
    "#this cell takes the \"ocean_proximity\" column and transforms it\n",
    "#to be numerical like the rest of our columns,\n",
    "#it does so using pipeline\n",
    "#we use \"ColumnTransformer\" as well\n",
    "from sklearn.compose import ColumnTransformer \n",
    "\n",
    "\n",
    "\n",
    "\n",
    "#get numerical columns\n",
    "num_attribs = list( housing_num) \n",
    "#get text columns\n",
    "cat_attribs = [[\"ocean_proximity\"]] \n",
    "\n",
    "\n",
    "\n",
    "#apply numerical pipelines to num columns portion of data\n",
    "#apply one hot to category column\n",
    "full_pipeline = ColumnTransformer([ (\"num\", num_pipeline, num_attribs), \n",
    "                                   (\"cat\", OneHotEncoder(), cat_attribs),]) \n",
    "\n",
    "#apply the full pipeline to all of the data\n",
    "housing_prepared = full_pipeline.fit_transform( housing)\n",
    "\n",
    "\n"
   ]
  },
  {
   "cell_type": "code",
   "execution_count": null,
   "metadata": {},
   "outputs": [],
   "source": [
    "from sklearn.pipeline import Pipeline \n",
    "from sklearn.preprocessing import StandardScaler \n",
    "from sklearn.feature_selection import SelectFromModel\n",
    "from sklearn.linear_model import LogisticRegression\n",
    "# selector = SelectFromModel(estimator=LogisticRegression()).fit(housing.iloc[:100], housing_labels.iloc[:100])\n",
    "\n",
    "\n",
    "\n",
    "#set the sequence of transformations\n",
    "num_pipeline = Pipeline([ ('imputer', SimpleImputer( strategy =\"median\")), \n",
    "                         ('attribs_adder', CombinedAttributesAdder()), \n",
    "                         ('attribs_remover', RemoveThreeColumns()),\n",
    "                         ('std_scaler', StandardScaler()),]) \n",
    "#apply the sequence\n",
    "housing_num_tr = num_pipeline.fit_transform(housing_num.toarray().reshape(-1,1))\n",
    "\n",
    "\n",
    "\n",
    "\n",
    "#this cell takes the \"ocean_proximity\" column and transforms it\n",
    "#to be numerical like the rest of our columns,\n",
    "#it does so using pipeline\n",
    "#we use \"ColumnTransformer\" as well\n",
    "from sklearn.compose import ColumnTransformer \n",
    "\n",
    "\n",
    "\n",
    "\n",
    "#get numerical columns\n",
    "num_attribs = list( housing_num) \n",
    "#get text columns\n",
    "cat_attribs = [\"ocean_proximity\"] \n",
    "\n",
    "\n",
    "\n",
    "#apply numerical pipelines to num columns portion of data\n",
    "#apply one hot to category column\n",
    "full_pipeline = ColumnTransformer([ (\"num\", num_pipeline, num_attribs), \n",
    "                                   (\"cat\", OneHotEncoder(), cat_attribs),]) \n",
    "\n",
    "#apply the full pipeline to all of the data\n",
    "housing_prepared = full_pipeline.fit_transform( housing)\n",
    "\n",
    "\n"
   ]
  },
  {
   "cell_type": "code",
   "execution_count": null,
   "metadata": {},
   "outputs": [],
   "source": [
    "\n",
    "from sklearn.base import BaseEstimator, TransformerMixin \n",
    "\n",
    "\n",
    "\n",
    "\n",
    "class RemoveThreeColumns(BaseEstimator, TransformerMixin): \n",
    "    \n",
    "    # no *args or ** kargs\n",
    "    #custom transformer to add the custom attribute \n",
    "    #bedrooms_per_room which combines total_bedrooms/total_rooms columns\n",
    "    def __init__(self, remove_columns = True): \n",
    "        #set boolean true?\n",
    "        self.remove_columns = remove_columns\n",
    "    def fit(self, X, y = None): \n",
    "            # nothing else to do\n",
    "            return self  \n",
    "    def transform(self, X): \n",
    "            \n",
    "            return X[:, 1:]\n",
    "        \n",
    "            #attr_adder = CombinedAttributesAdder( add_bedrooms_per_room = False) \n",
    "            #housing_extra_attribs = attr_adder.transform( housing.values)\n",
    "\n",
    "\n",
    "\n"
   ]
  },
  {
   "cell_type": "code",
   "execution_count": null,
   "metadata": {},
   "outputs": [],
   "source": [
    "from sklearn.pipeline import Pipeline \n",
    "from sklearn.preprocessing import StandardScaler \n",
    "from sklearn.feature_selection import SelectFromModel\n",
    "from sklearn.linear_model import LogisticRegression\n",
    "# selector = SelectFromModel(estimator=LogisticRegression()).fit(housing.iloc[:100], housing_labels.iloc[:100])\n",
    "\n",
    "\n",
    "\n",
    "#set the sequence of transformations\n",
    "num_pipeline = Pipeline([ ('imputer', SimpleImputer( strategy =\"median\")), \n",
    "                         ('attribs_adder', CombinedAttributesAdder()), \n",
    "                         ('attribs_remover', RemoveThreeColumns()),\n",
    "                         ('std_scaler', StandardScaler()),]) \n",
    "#apply the sequence\n",
    "housing_num_tr = num_pipeline.fit_transform(housing_num)\n",
    "\n",
    "\n",
    "\n",
    "\n",
    "#this cell takes the \"ocean_proximity\" column and transforms it\n",
    "#to be numerical like the rest of our columns,\n",
    "#it does so using pipeline\n",
    "#we use \"ColumnTransformer\" as well\n",
    "from sklearn.compose import ColumnTransformer \n",
    "\n",
    "\n",
    "\n",
    "\n",
    "#get numerical columns\n",
    "num_attribs = list( housing_num) \n",
    "#get text columns\n",
    "cat_attribs = [\"ocean_proximity\"] \n",
    "\n",
    "\n",
    "\n",
    "#apply numerical pipelines to num columns portion of data\n",
    "#apply one hot to category column\n",
    "full_pipeline = ColumnTransformer([ (\"num\", num_pipeline, num_attribs), \n",
    "                                   (\"cat\", OneHotEncoder(), cat_attribs),]) \n",
    "\n",
    "#apply the full pipeline to all of the data\n",
    "housing_prepared = full_pipeline.fit_transform( housing)\n",
    "\n",
    "\n"
   ]
  },
  {
   "cell_type": "code",
   "execution_count": null,
   "metadata": {},
   "outputs": [],
   "source": [
    "\n",
    "from sklearn.base import BaseEstimator, TransformerMixin \n",
    "\n",
    "\n",
    "\n",
    "\n",
    "class RemoveThreeColumns(BaseEstimator, TransformerMixin): \n",
    "    \n",
    "    # no *args or ** kargs\n",
    "    #custom transformer to add the custom attribute \n",
    "    #bedrooms_per_room which combines total_bedrooms/total_rooms columns\n",
    "    def __init__(self, remove_columns = True): \n",
    "        #set boolean true?\n",
    "        self.remove_columns = remove_columns\n",
    "    def fit(self, X, y = None): \n",
    "            # nothing else to do\n",
    "            return self  \n",
    "    def transform(self, X): \n",
    "            \n",
    "            return X[:, 1:]\n",
    "        \n",
    "            #attr_adder = CombinedAttributesAdder( add_bedrooms_per_room = False) \n",
    "            #housing_extra_attribs = attr_adder.transform( housing.values)\n",
    "\n",
    "\n",
    "\n"
   ]
  },
  {
   "cell_type": "code",
   "execution_count": null,
   "metadata": {},
   "outputs": [],
   "source": [
    "from sklearn.pipeline import Pipeline \n",
    "from sklearn.preprocessing import StandardScaler \n",
    "from sklearn.feature_selection import SelectFromModel\n",
    "from sklearn.linear_model import LogisticRegression\n",
    "# selector = SelectFromModel(estimator=LogisticRegression()).fit(housing.iloc[:100], housing_labels.iloc[:100])\n",
    "\n",
    "\n",
    "\n",
    "#set the sequence of transformations\n",
    "num_pipeline = Pipeline([ ('imputer', SimpleImputer( strategy =\"median\")), \n",
    "                         ('attribs_adder', CombinedAttributesAdder()), \n",
    "                         ('attribs_remover', RemoveThreeColumns()),\n",
    "                         ('std_scaler', StandardScaler()),]) \n",
    "#apply the sequence\n",
    "housing_num_tr = num_pipeline.fit_transform(housing_num)\n",
    "\n",
    "\n",
    "\n",
    "\n",
    "#this cell takes the \"ocean_proximity\" column and transforms it\n",
    "#to be numerical like the rest of our columns,\n",
    "#it does so using pipeline\n",
    "#we use \"ColumnTransformer\" as well\n",
    "from sklearn.compose import ColumnTransformer \n",
    "\n",
    "\n",
    "\n",
    "\n",
    "#get numerical columns\n",
    "num_attribs = list( housing_num) \n",
    "#get text columns\n",
    "cat_attribs = [\"ocean_proximity\"] \n",
    "\n",
    "\n",
    "\n",
    "#apply numerical pipelines to num columns portion of data\n",
    "#apply one hot to category column\n",
    "full_pipeline = ColumnTransformer([ (\"num\", num_pipeline, num_attribs), \n",
    "                                   (\"cat\", OneHotEncoder(), cat_attribs),]) \n",
    "\n",
    "#apply the full pipeline to all of the data\n",
    "housing_prepared = full_pipeline.fit_transform( housing)\n",
    "\n",
    "\n"
   ]
  },
  {
   "cell_type": "code",
   "execution_count": null,
   "metadata": {},
   "outputs": [],
   "source": [
    "from sklearn.ensemble import RandomForestRegressor \n",
    "\n",
    "forest_reg = RandomForestRegressor() \n",
    "forest_reg.fit( housing_prepared, housing_labels)\n",
    "\n",
    "housing_predictions = forest_reg.predict(housing_prepared) \n",
    "forest_mse = mean_squared_error(housing_labels, housing_predictions) \n",
    "forest_rmse = np.sqrt(forest_mse) \n",
    "\n",
    "forest_rmse\n"
   ]
  },
  {
   "cell_type": "code",
   "execution_count": null,
   "metadata": {},
   "outputs": [],
   "source": [
    "extra_attribs = [\"rooms_per_hhold\", \"pop_per_hhold\", \"bedrooms_per_room\"]\n",
    "cat_encoder = full_pipeline.named_transformers_[\"cat\"] \n",
    "cat_one_hot_attribs = list(cat_encoder.categories_[ 0])\n",
    "attributes = num_attribs + extra_attribs + cat_one_hot_attribs \n",
    "sorted( zip( feature_importances, attributes), reverse = True)\n"
   ]
  },
  {
   "cell_type": "code",
   "execution_count": null,
   "metadata": {},
   "outputs": [],
   "source": [
    "\n",
    "from sklearn.base import BaseEstimator, TransformerMixin \n",
    "\n",
    "\n",
    "\n",
    "\n",
    "class RemoveThreeColumns(BaseEstimator, TransformerMixin): \n",
    "    \n",
    "    # no *args or ** kargs\n",
    "    #custom transformer to add the custom attribute \n",
    "    #bedrooms_per_room which combines total_bedrooms/total_rooms columns\n",
    "    def __init__(self, remove_columns = True): \n",
    "        #set boolean true?\n",
    "        self.remove_columns = remove_columns\n",
    "    def fit(self, X, y = None): \n",
    "            # nothing else to do\n",
    "            return self  \n",
    "    def transform(self, X): \n",
    "            \n",
    "            return X[:,1].reshape(-1,1)\n",
    "        \n",
    "            #attr_adder = CombinedAttributesAdder( add_bedrooms_per_room = False) \n",
    "            #housing_extra_attribs = attr_adder.transform( housing.values)\n",
    "\n",
    "\n",
    "\n"
   ]
  },
  {
   "cell_type": "code",
   "execution_count": null,
   "metadata": {},
   "outputs": [],
   "source": []
  },
  {
   "cell_type": "code",
   "execution_count": null,
   "metadata": {},
   "outputs": [],
   "source": [
    "from sklearn.pipeline import Pipeline \n",
    "from sklearn.preprocessing import StandardScaler \n",
    "from sklearn.feature_selection import SelectFromModel\n",
    "from sklearn.linear_model import LogisticRegression\n",
    "# selector = SelectFromModel(estimator=LogisticRegression()).fit(housing.iloc[:100], housing_labels.iloc[:100])\n",
    "\n",
    "\n",
    "\n",
    "#set the sequence of transformations\n",
    "num_pipeline = Pipeline([ ('imputer', SimpleImputer( strategy =\"median\")), \n",
    "                         ('attribs_adder', CombinedAttributesAdder()), \n",
    "                         ('attribs_remover', RemoveThreeColumns()),\n",
    "                         ('std_scaler', StandardScaler()),]) \n",
    "#apply the sequence\n",
    "housing_num_tr = num_pipeline.fit_transform(housing_num)\n",
    "\n",
    "\n",
    "\n",
    "\n",
    "#this cell takes the \"ocean_proximity\" column and transforms it\n",
    "#to be numerical like the rest of our columns,\n",
    "#it does so using pipeline\n",
    "#we use \"ColumnTransformer\" as well\n",
    "from sklearn.compose import ColumnTransformer \n",
    "\n",
    "\n",
    "\n",
    "\n",
    "#get numerical columns\n",
    "num_attribs = list( housing_num) \n",
    "#get text columns\n",
    "cat_attribs = [\"ocean_proximity\"] \n",
    "\n",
    "\n",
    "\n",
    "#apply numerical pipelines to num columns portion of data\n",
    "#apply one hot to category column\n",
    "full_pipeline = ColumnTransformer([ (\"num\", num_pipeline, num_attribs), \n",
    "                                   (\"cat\", OneHotEncoder(), cat_attribs),]) \n",
    "\n",
    "#apply the full pipeline to all of the data\n",
    "housing_prepared = full_pipeline.fit_transform( housing)\n",
    "\n",
    "\n"
   ]
  },
  {
   "cell_type": "code",
   "execution_count": null,
   "metadata": {},
   "outputs": [],
   "source": [
    "\n",
    "from sklearn.base import BaseEstimator, TransformerMixin \n",
    "\n",
    "\n",
    "\n",
    "\n",
    "class RemoveThreeColumns(BaseEstimator, TransformerMixin): \n",
    "    \n",
    "    # no *args or ** kargs\n",
    "    #custom transformer to add the custom attribute \n",
    "    #bedrooms_per_room which combines total_bedrooms/total_rooms columns\n",
    "    def __init__(self, remove_columns = True): \n",
    "        #set boolean true?\n",
    "        self.remove_columns = remove_columns\n",
    "    def fit(self, X, y = None): \n",
    "            # nothing else to do\n",
    "            return self  \n",
    "    def transform(self, X): \n",
    "            \n",
    "            return X[:,1].reshape(-1,1)\n",
    "        \n",
    "            #attr_adder = CombinedAttributesAdder( add_bedrooms_per_room = False) \n",
    "            #housing_extra_attribs = attr_adder.transform( housing.values)\n",
    "\n",
    "\n",
    "\n"
   ]
  },
  {
   "cell_type": "code",
   "execution_count": null,
   "metadata": {},
   "outputs": [],
   "source": [
    "from sklearn.pipeline import Pipeline \n",
    "from sklearn.preprocessing import StandardScaler \n",
    "from sklearn.feature_selection import SelectFromModel\n",
    "from sklearn.linear_model import LogisticRegression\n",
    "# selector = SelectFromModel(estimator=LogisticRegression()).fit(housing.iloc[:100], housing_labels.iloc[:100])\n",
    "\n",
    "def all_but_first_column(X):\n",
    "    return X[:, 1:]\n",
    "\n",
    "#set the sequence of transformations\n",
    "num_pipeline = Pipeline([ ('imputer', SimpleImputer( strategy =\"median\")), \n",
    "                         ('attribs_adder', FunctionTransformer(all_but_first_column)), \n",
    "                         ('attribs_remover', RemoveThreeColumns()),\n",
    "                         ('std_scaler', StandardScaler()),]) \n",
    "#apply the sequence\n",
    "housing_num_tr = num_pipeline.fit_transform(housing_num)\n",
    "\n",
    "\n",
    "\n",
    "\n",
    "#this cell takes the \"ocean_proximity\" column and transforms it\n",
    "#to be numerical like the rest of our columns,\n",
    "#it does so using pipeline\n",
    "#we use \"ColumnTransformer\" as well\n",
    "from sklearn.compose import ColumnTransformer \n",
    "\n",
    "\n",
    "\n",
    "\n",
    "#get numerical columns\n",
    "num_attribs = list( housing_num) \n",
    "#get text columns\n",
    "cat_attribs = [\"ocean_proximity\"] \n",
    "\n",
    "\n",
    "\n",
    "#apply numerical pipelines to num columns portion of data\n",
    "#apply one hot to category column\n",
    "full_pipeline = ColumnTransformer([ (\"num\", num_pipeline, num_attribs), \n",
    "                                   (\"cat\", OneHotEncoder(), cat_attribs),]) \n",
    "\n",
    "#apply the full pipeline to all of the data\n",
    "housing_prepared = full_pipeline.fit_transform( housing)\n",
    "\n",
    "\n"
   ]
  },
  {
   "cell_type": "code",
   "execution_count": null,
   "metadata": {},
   "outputs": [],
   "source": [
    "from sklearn.ensemble import RandomForestRegressor \n",
    "\n",
    "forest_reg = RandomForestRegressor() \n",
    "forest_reg.fit( housing_prepared, housing_labels)\n",
    "\n",
    "housing_predictions = forest_reg.predict(housing_prepared) \n",
    "forest_mse = mean_squared_error(housing_labels, housing_predictions) \n",
    "forest_rmse = np.sqrt(forest_mse) \n",
    "\n",
    "forest_rmse\n"
   ]
  },
  {
   "cell_type": "code",
   "execution_count": null,
   "metadata": {},
   "outputs": [],
   "source": [
    "extra_attribs = [\"rooms_per_hhold\", \"pop_per_hhold\", \"bedrooms_per_room\"]\n",
    "cat_encoder = full_pipeline.named_transformers_[\"cat\"] \n",
    "cat_one_hot_attribs = list(cat_encoder.categories_[ 0])\n",
    "attributes = num_attribs + extra_attribs + cat_one_hot_attribs \n",
    "sorted( zip( feature_importances, attributes), reverse = True)\n"
   ]
  },
  {
   "cell_type": "code",
   "execution_count": null,
   "metadata": {},
   "outputs": [],
   "source": [
    "from sklearn.pipeline import Pipeline \n",
    "from sklearn.preprocessing import StandardScaler \n",
    "from sklearn.feature_selection import SelectFromModel\n",
    "from sklearn.linear_model import LogisticRegression\n",
    "# selector = SelectFromModel(estimator=LogisticRegression()).fit(housing.iloc[:100], housing_labels.iloc[:100])\n",
    "\n",
    "from sklearn.preprocessing import FunctionTransformer\n",
    "\n",
    "def all_but_first_column(X):\n",
    "    return X[:, 1:]\n",
    "\n",
    "#set the sequence of transformations\n",
    "num_pipeline = Pipeline([ ('imputer', SimpleImputer( strategy =\"median\")), \n",
    "                         ('attribs_adder', FunctionTransformer(all_but_first_column)), \n",
    "                         ('attribs_remover', RemoveThreeColumns()),\n",
    "                         ('std_scaler', StandardScaler()),]) \n",
    "#apply the sequence\n",
    "housing_num_tr = num_pipeline.fit_transform(housing_num)\n",
    "\n",
    "\n",
    "\n",
    "\n",
    "#this cell takes the \"ocean_proximity\" column and transforms it\n",
    "#to be numerical like the rest of our columns,\n",
    "#it does so using pipeline\n",
    "#we use \"ColumnTransformer\" as well\n",
    "from sklearn.compose import ColumnTransformer \n",
    "\n",
    "\n",
    "\n",
    "\n",
    "#get numerical columns\n",
    "num_attribs = list( housing_num) \n",
    "#get text columns\n",
    "cat_attribs = [\"ocean_proximity\"] \n",
    "\n",
    "\n",
    "\n",
    "#apply numerical pipelines to num columns portion of data\n",
    "#apply one hot to category column\n",
    "full_pipeline = ColumnTransformer([ (\"num\", num_pipeline, num_attribs), \n",
    "                                   (\"cat\", OneHotEncoder(), cat_attribs),]) \n",
    "\n",
    "#apply the full pipeline to all of the data\n",
    "housing_prepared = full_pipeline.fit_transform( housing)\n",
    "\n",
    "\n"
   ]
  },
  {
   "cell_type": "code",
   "execution_count": null,
   "metadata": {},
   "outputs": [],
   "source": [
    "from sklearn.ensemble import RandomForestRegressor \n",
    "\n",
    "forest_reg = RandomForestRegressor() \n",
    "forest_reg.fit( housing_prepared, housing_labels)\n",
    "\n",
    "housing_predictions = forest_reg.predict(housing_prepared) \n",
    "forest_mse = mean_squared_error(housing_labels, housing_predictions) \n",
    "forest_rmse = np.sqrt(forest_mse) \n",
    "\n",
    "forest_rmse\n"
   ]
  },
  {
   "cell_type": "code",
   "execution_count": null,
   "metadata": {},
   "outputs": [],
   "source": [
    "extra_attribs = [\"rooms_per_hhold\", \"pop_per_hhold\", \"bedrooms_per_room\"]\n",
    "cat_encoder = full_pipeline.named_transformers_[\"cat\"] \n",
    "cat_one_hot_attribs = list(cat_encoder.categories_[ 0])\n",
    "attributes = num_attribs + extra_attribs + cat_one_hot_attribs \n",
    "sorted( zip( feature_importances, attributes), reverse = True)\n"
   ]
  },
  {
   "cell_type": "code",
   "execution_count": null,
   "metadata": {},
   "outputs": [],
   "source": [
    "#As written in the text, creating the hyper parameter add bedrooms, we are kind of testing\n",
    "#the hyper parameter.. Is it good? well we can first flag it true and test,\n",
    "#then flag it false and test\n",
    "# In this example the transformer has one hyperparameter, add_bedrooms_per_room, \n",
    "# set to True by default (it is often helpful to provide sensible defaults). \n",
    "# This hyperparameter will allow you to easily find out whether adding this\n",
    "# attribute helps the Machine Learning algorithms or not. More generally,\n",
    "# you can add a hyperparameter to gate any data preparation step that you\n",
    "# are not 100% sure about. The more you automate these data preparation steps, \n",
    "# the more combinations you can automatically try out, making it much more likely\n",
    "# that you will find a great combination (and saving you a lot of time).\n",
    "\n",
    "\n",
    "\n",
    "\n",
    "#for custom transformers three things needed\n",
    "#fit(), transform(), and fit_transform()\n",
    "#note you see 2 below, the third fit_transform()\n",
    "#is included by adding \"TransformerMixin\" as a base class\n",
    "#the \"BaseEstimator\" base class gives two free methods\n",
    "#get_params() and set_params() which are good for auto tuning\n",
    "#hyper params such a hyper param might be the stategy type\n",
    "#of median for the \"SimpleImputer\"\n",
    "from sklearn.base import BaseEstimator, TransformerMixin \n",
    "\n",
    "from sklearn.feature_selection import VarianceThreshold\n",
    "#these are column indices for the dataset\n",
    "rooms_ix, bedrooms_ix, population_ix, households_ix = 3, 4, 5, 6 \n",
    "\n",
    "class CombinedAttributesAdder(BaseEstimator, TransformerMixin): \n",
    "    \n",
    "    # no *args or ** kargs\n",
    "    #custom transformer to add the custom attribute \n",
    "    #bedrooms_per_room which combines total_bedrooms/total_rooms columns\n",
    "    def __init__(self, add_bedrooms_per_room = True): \n",
    "        #set boolean true?\n",
    "        self.add_bedrooms_per_room = add_bedrooms_per_room \n",
    "    def fit( self, X, y = None): \n",
    "            # nothing else to do\n",
    "            return self  \n",
    "    def transform(self, X): \n",
    "            rooms_per_household = X[:, rooms_ix] / X[:, households_ix] \n",
    "            population_per_household = X[:, population_ix] / X[:, households_ix] \n",
    "            #note here is what np.c_ does\n",
    "            #np.c_[np.array([1,2,3]), np.array([4,5,6])]\n",
    "            #array([[1, 4],\n",
    "            #[2, 5],\n",
    "            #[3, 6]])\n",
    "            #combines columns in input array into 2d array\n",
    "            if self.add_bedrooms_per_room: \n",
    "                bedrooms_per_room = X[:, bedrooms_ix] / X[:, rooms_ix] \n",
    "                \n",
    "                returnVal = np.c_[X, rooms_per_household, population_per_household, bedrooms_per_room] \n",
    "                \n",
    "                sel = VarianceThreshold(threshold=(.8 * (1 - .8)))\n",
    "                sel.fit_transform(returnVal)\n",
    "                \n",
    "                return returnVal\n",
    "            else: \n",
    "                return np.c_[X, rooms_per_household, population_per_household] \n",
    "            \n",
    "            \n",
    "            attr_adder = CombinedAttributesAdder( add_bedrooms_per_room = False) \n",
    "            housing_extra_attribs = attr_adder.transform( housing.values)\n",
    "\n",
    "    \n",
    "        \n",
    "\n"
   ]
  },
  {
   "cell_type": "code",
   "execution_count": null,
   "metadata": {},
   "outputs": [],
   "source": [
    "from sklearn.pipeline import Pipeline \n",
    "from sklearn.preprocessing import StandardScaler \n",
    "from sklearn.feature_selection import SelectFromModel\n",
    "from sklearn.linear_model import LogisticRegression\n",
    "# selector = SelectFromModel(estimator=LogisticRegression()).fit(housing.iloc[:100], housing_labels.iloc[:100])\n",
    "\n",
    "from sklearn.preprocessing import FunctionTransformer\n",
    "\n",
    "def all_but_first_column(X):\n",
    "    return X[:, 1:]\n",
    "\n",
    "#set the sequence of transformations\n",
    "num_pipeline = Pipeline([ ('imputer', SimpleImputer( strategy =\"median\")), \n",
    "                         ('attribs_adder', CombinedAttributesAdder()), \n",
    "                         ('std_scaler', StandardScaler()),]) \n",
    "#apply the sequence\n",
    "housing_num_tr = num_pipeline.fit_transform(housing_num)\n",
    "\n",
    "\n",
    "\n",
    "\n",
    "#this cell takes the \"ocean_proximity\" column and transforms it\n",
    "#to be numerical like the rest of our columns,\n",
    "#it does so using pipeline\n",
    "#we use \"ColumnTransformer\" as well\n",
    "from sklearn.compose import ColumnTransformer \n",
    "\n",
    "\n",
    "\n",
    "\n",
    "#get numerical columns\n",
    "num_attribs = list( housing_num) \n",
    "#get text columns\n",
    "cat_attribs = [\"ocean_proximity\"] \n",
    "\n",
    "\n",
    "\n",
    "#apply numerical pipelines to num columns portion of data\n",
    "#apply one hot to category column\n",
    "full_pipeline = ColumnTransformer([ (\"num\", num_pipeline, num_attribs), \n",
    "                                   (\"cat\", OneHotEncoder(), cat_attribs),]) \n",
    "\n",
    "#apply the full pipeline to all of the data\n",
    "housing_prepared = full_pipeline.fit_transform( housing)\n",
    "\n",
    "\n"
   ]
  },
  {
   "cell_type": "code",
   "execution_count": null,
   "metadata": {},
   "outputs": [],
   "source": [
    "extra_attribs = [\"rooms_per_hhold\", \"pop_per_hhold\", \"bedrooms_per_room\"]\n",
    "cat_encoder = full_pipeline.named_transformers_[\"cat\"] \n",
    "cat_one_hot_attribs = list(cat_encoder.categories_[ 0])\n",
    "attributes = num_attribs + extra_attribs + cat_one_hot_attribs \n",
    "sorted( zip( feature_importances, attributes), reverse = True)\n"
   ]
  },
  {
   "cell_type": "code",
   "execution_count": null,
   "metadata": {},
   "outputs": [],
   "source": [
    "#As written in the text, creating the hyper parameter add bedrooms, we are kind of testing\n",
    "#the hyper parameter.. Is it good? well we can first flag it true and test,\n",
    "#then flag it false and test\n",
    "# In this example the transformer has one hyperparameter, add_bedrooms_per_room, \n",
    "# set to True by default (it is often helpful to provide sensible defaults). \n",
    "# This hyperparameter will allow you to easily find out whether adding this\n",
    "# attribute helps the Machine Learning algorithms or not. More generally,\n",
    "# you can add a hyperparameter to gate any data preparation step that you\n",
    "# are not 100% sure about. The more you automate these data preparation steps, \n",
    "# the more combinations you can automatically try out, making it much more likely\n",
    "# that you will find a great combination (and saving you a lot of time).\n",
    "\n",
    "\n",
    "\n",
    "\n",
    "#for custom transformers three things needed\n",
    "#fit(), transform(), and fit_transform()\n",
    "#note you see 2 below, the third fit_transform()\n",
    "#is included by adding \"TransformerMixin\" as a base class\n",
    "#the \"BaseEstimator\" base class gives two free methods\n",
    "#get_params() and set_params() which are good for auto tuning\n",
    "#hyper params such a hyper param might be the stategy type\n",
    "#of median for the \"SimpleImputer\"\n",
    "from sklearn.base import BaseEstimator, TransformerMixin \n",
    "\n",
    "from sklearn.feature_selection import VarianceThreshold\n",
    "#these are column indices for the dataset\n",
    "rooms_ix, bedrooms_ix, population_ix, households_ix = 3, 4, 5, 6 \n",
    "\n",
    "class CombinedAttributesAdder(BaseEstimator, TransformerMixin): \n",
    "    \n",
    "    # no *args or ** kargs\n",
    "    #custom transformer to add the custom attribute \n",
    "    #bedrooms_per_room which combines total_bedrooms/total_rooms columns\n",
    "    def __init__(self, add_bedrooms_per_room = True): \n",
    "        #set boolean true?\n",
    "        self.add_bedrooms_per_room = add_bedrooms_per_room \n",
    "    def fit( self, X, y = None): \n",
    "            # nothing else to do\n",
    "            return self  \n",
    "    def transform(self, X): \n",
    "            rooms_per_household = X[:, rooms_ix] / X[:, households_ix] \n",
    "            population_per_household = X[:, population_ix] / X[:, households_ix] \n",
    "            #note here is what np.c_ does\n",
    "            #np.c_[np.array([1,2,3]), np.array([4,5,6])]\n",
    "            #array([[1, 4],\n",
    "            #[2, 5],\n",
    "            #[3, 6]])\n",
    "            #combines columns in input array into 2d array\n",
    "            if self.add_bedrooms_per_room: \n",
    "                bedrooms_per_room = X[:, bedrooms_ix] / X[:, rooms_ix] \n",
    "                \n",
    "                return np.c_[X, rooms_per_household, population_per_household, bedrooms_per_room] \n",
    "            else: \n",
    "                return np.c_[X, rooms_per_household, population_per_household] \n",
    "            \n",
    "            \n",
    "            attr_adder = CombinedAttributesAdder( add_bedrooms_per_room = False) \n",
    "            housing_extra_attribs = attr_adder.transform( housing.values)\n",
    "\n",
    "    \n",
    "        \n",
    "\n"
   ]
  },
  {
   "cell_type": "code",
   "execution_count": 16,
   "metadata": {},
   "outputs": [
    {
     "ename": "NameError",
     "evalue": "name 'SimpleImputer' is not defined",
     "output_type": "error",
     "traceback": [
      "\u001b[1;31m---------------------------------------------------------------------------\u001b[0m",
      "\u001b[1;31mNameError\u001b[0m                                 Traceback (most recent call last)",
      "\u001b[1;32m<ipython-input-16-6c313a59c26f>\u001b[0m in \u001b[0;36m<module>\u001b[1;34m\u001b[0m\n\u001b[0;32m     13\u001b[0m \u001b[1;33m\u001b[0m\u001b[0m\n\u001b[0;32m     14\u001b[0m \u001b[1;31m#set the sequence of transformations\u001b[0m\u001b[1;33m\u001b[0m\u001b[1;33m\u001b[0m\u001b[1;33m\u001b[0m\u001b[0m\n\u001b[1;32m---> 15\u001b[1;33m num_pipeline = Pipeline([ ('imputer', SimpleImputer(strategy =\"median\")),\n\u001b[0m\u001b[0;32m     16\u001b[0m     \u001b[1;33m(\u001b[0m\u001b[1;34m'feature_selection'\u001b[0m\u001b[1;33m,\u001b[0m \u001b[0mSelectFromModel\u001b[0m\u001b[1;33m(\u001b[0m\u001b[0mLinearRegression\u001b[0m\u001b[1;33m(\u001b[0m\u001b[1;33m)\u001b[0m\u001b[1;33m.\u001b[0m\u001b[0mfit\u001b[0m\u001b[1;33m(\u001b[0m\u001b[0mhousing_num\u001b[0m\u001b[1;33m,\u001b[0m \u001b[0mhousing_labels\u001b[0m\u001b[1;33m)\u001b[0m\u001b[1;33m)\u001b[0m\u001b[1;33m)\u001b[0m\u001b[1;33m,\u001b[0m\u001b[1;33m\u001b[0m\u001b[1;33m\u001b[0m\u001b[0m\n\u001b[0;32m     17\u001b[0m                             ('classification', RandomForestClassifier())]) \n",
      "\u001b[1;31mNameError\u001b[0m: name 'SimpleImputer' is not defined"
     ]
    }
   ],
   "source": [
    "from sklearn.pipeline import Pipeline \n",
    "from sklearn.preprocessing import StandardScaler \n",
    "from sklearn.feature_selection import SelectFromModel\n",
    "from sklearn.linear_model import LogisticRegression\n",
    "from sklearn.svm import LinearSVC\n",
    "from sklearn.ensemble import RandomForestClassifier\n",
    "# selector = SelectFromModel(estimator=LogisticRegression()).fit(housing.iloc[:100], housing_labels.iloc[:100])\n",
    "\n",
    "from sklearn.preprocessing import FunctionTransformer\n",
    "\n",
    "def all_but_first_column(X):\n",
    "    return X[:, 1:]\n",
    "\n",
    "#set the sequence of transformations\n",
    "num_pipeline = Pipeline([ ('imputer', SimpleImputer(strategy =\"median\")),\n",
    "    ('feature_selection', SelectFromModel(LinearRegression().fit(housing_num, housing_labels))),\n",
    "                            ('classification', RandomForestClassifier())]) \n",
    "\n",
    "\n",
    "#apply the sequence\n",
    "housing_num_tr = num_pipeline.fit_transform(housing_num)\n",
    "\n",
    "\n",
    "\n",
    "\n",
    "#this cell takes the \"ocean_proximity\" column and transforms it\n",
    "#to be numerical like the rest of our columns,\n",
    "#it does so using pipeline\n",
    "#we use \"ColumnTransformer\" as well\n",
    "from sklearn.compose import ColumnTransformer \n",
    "\n",
    "\n",
    "\n",
    "\n",
    "#get numerical columns\n",
    "num_attribs = list( housing_num) \n",
    "#get text columns\n",
    "cat_attribs = [\"ocean_proximity\"] \n",
    "\n",
    "\n",
    "\n",
    "#apply numerical pipelines to num columns portion of data\n",
    "#apply one hot to category column\n",
    "full_pipeline = ColumnTransformer([ (\"num\", num_pipeline, num_attribs), \n",
    "                                   (\"cat\", OneHotEncoder(), cat_attribs),]) \n",
    "\n",
    "#apply the full pipeline to all of the data\n",
    "housing_prepared = full_pipeline.fit_transform( housing)\n",
    "\n",
    "\n"
   ]
  },
  {
   "cell_type": "code",
   "execution_count": null,
   "metadata": {},
   "outputs": [],
   "source": [
    "type(housing_num)"
   ]
  },
  {
   "cell_type": "code",
   "execution_count": null,
   "metadata": {},
   "outputs": [],
   "source": [
    "from sklearn.pipeline import Pipeline \n",
    "from sklearn.preprocessing import StandardScaler \n",
    "from sklearn.feature_selection import SelectFromModel\n",
    "from sklearn.linear_model import LogisticRegression\n",
    "from sklearn.svm import LinearSVC\n",
    "from sklearn.ensemble import RandomForestClassifier\n",
    "# selector = SelectFromModel(estimator=LogisticRegression()).fit(housing.iloc[:100], housing_labels.iloc[:100])\n",
    "\n",
    "from sklearn.preprocessing import FunctionTransformer\n",
    "\n",
    "def all_but_first_column(X):\n",
    "    return X[:, 1:]\n",
    "\n",
    "#set the sequence of transformations\n",
    "\n",
    "\n",
    "num_pipeline = Pipeline([ ('imputer', SimpleImputer(strategy =\"median\")),\n",
    "                        ('feature_selection', SelectFromModel(LinearSVC())), \n",
    "                          \n",
    "                        ]) \n",
    "\n",
    "\n",
    "#apply the sequence\n",
    "housing_num_tr = num_pipeline.fit_transform(housing_num)\n",
    "\n",
    "\n",
    "\n",
    "\n",
    "#this cell takes the \"ocean_proximity\" column and transforms it\n",
    "#to be numerical like the rest of our columns,\n",
    "#it does so using pipeline\n",
    "#we use \"ColumnTransformer\" as well\n",
    "from sklearn.compose import ColumnTransformer \n",
    "\n",
    "\n",
    "\n",
    "\n",
    "#get numerical columns\n",
    "num_attribs = list( housing_num) \n",
    "#get text columns\n",
    "cat_attribs = [\"ocean_proximity\"] \n",
    "\n",
    "\n",
    "\n",
    "#apply numerical pipelines to num columns portion of data\n",
    "#apply one hot to category column\n",
    "full_pipeline = ColumnTransformer([ (\"num\", num_pipeline, num_attribs), \n",
    "                                   (\"cat\", OneHotEncoder(), cat_attribs),]) \n",
    "\n",
    "#apply the full pipeline to all of the data\n",
    "housing_prepared = full_pipeline.fit_transform( housing)\n",
    "\n",
    "\n"
   ]
  },
  {
   "cell_type": "code",
   "execution_count": null,
   "metadata": {},
   "outputs": [],
   "source": [
    "from sklearn.pipeline import Pipeline \n",
    "from sklearn.preprocessing import StandardScaler \n",
    "from sklearn.feature_selection import SelectFromModel\n",
    "from sklearn.linear_model import LogisticRegression\n",
    "from sklearn.svm import LinearSVC\n",
    "from sklearn.ensemble import RandomForestClassifier\n",
    "# selector = SelectFromModel(estimator=LogisticRegression()).fit(housing.iloc[:100], housing_labels.iloc[:100])\n",
    "\n",
    "from sklearn.preprocessing import FunctionTransformer\n",
    "\n",
    "def all_but_first_column(X):\n",
    "    return X[:, 1:]\n",
    "\n",
    "#set the sequence of transformations\n",
    "num_pipeline = Pipeline([ ('imputer', SimpleImputer(strategy =\"median\")),\n",
    "    ('feature_selection', SelectFromModel(LinearSVC())),\n",
    "                            ('classification', RandomForestClassifier())]) \n",
    "\n",
    "\n",
    "#apply the sequence\n",
    "housing_num_tr = num_pipeline.fit_transform(housing_num)\n",
    "\n",
    "\n",
    "\n",
    "\n",
    "#this cell takes the \"ocean_proximity\" column and transforms it\n",
    "#to be numerical like the rest of our columns,\n",
    "#it does so using pipeline\n",
    "#we use \"ColumnTransformer\" as well\n",
    "from sklearn.compose import ColumnTransformer \n",
    "\n",
    "\n",
    "\n",
    "\n",
    "#get numerical columns\n",
    "num_attribs = list( housing_num) \n",
    "#get text columns\n",
    "cat_attribs = [\"ocean_proximity\"] \n",
    "\n",
    "\n",
    "\n",
    "#apply numerical pipelines to num columns portion of data\n",
    "#apply one hot to category column\n",
    "full_pipeline = ColumnTransformer([ (\"num\", num_pipeline, num_attribs), \n",
    "                                   (\"cat\", OneHotEncoder(), cat_attribs),]) \n",
    "\n",
    "#apply the full pipeline to all of the data\n",
    "housing_prepared = full_pipeline.fit_transform( housing)\n",
    "\n",
    "\n"
   ]
  },
  {
   "cell_type": "code",
   "execution_count": null,
   "metadata": {},
   "outputs": [],
   "source": [
    "housing_num.info()"
   ]
  },
  {
   "cell_type": "code",
   "execution_count": null,
   "metadata": {},
   "outputs": [],
   "source": [
    "housing_tr.info()"
   ]
  },
  {
   "cell_type": "code",
   "execution_count": null,
   "metadata": {},
   "outputs": [],
   "source": [
    "from sklearn.pipeline import Pipeline \n",
    "from sklearn.preprocessing import StandardScaler \n",
    "from sklearn.feature_selection import SelectFromModel\n",
    "from sklearn.linear_model import LogisticRegression\n",
    "from sklearn.svm import LinearSVC\n",
    "from sklearn.ensemble import RandomForestClassifier\n",
    "# selector = SelectFromModel(estimator=LogisticRegression()).fit(housing.iloc[:100], housing_labels.iloc[:100])\n",
    "\n",
    "from sklearn.preprocessing import FunctionTransformer\n",
    "\n",
    "def all_but_first_column(X):\n",
    "    return X[:, 1:]\n",
    "\n",
    "#set the sequence of transformations\n",
    "num_pipeline = Pipeline([ ('imputer', SimpleImputer(strategy =\"median\")),\n",
    "    ('feature_selection', SelectFromModel(LinearRegression().fit(housing_tr, housing_labels))),\n",
    "                            ('classification', RandomForestClassifier())]) \n",
    "\n",
    "\n",
    "#apply the sequence\n",
    "housing_num_tr = num_pipeline.fit_transform(housing_num)\n",
    "\n",
    "\n",
    "\n",
    "\n",
    "#this cell takes the \"ocean_proximity\" column and transforms it\n",
    "#to be numerical like the rest of our columns,\n",
    "#it does so using pipeline\n",
    "#we use \"ColumnTransformer\" as well\n",
    "from sklearn.compose import ColumnTransformer \n",
    "\n",
    "\n",
    "\n",
    "\n",
    "#get numerical columns\n",
    "num_attribs = list( housing_num) \n",
    "#get text columns\n",
    "cat_attribs = [\"ocean_proximity\"] \n",
    "\n",
    "\n",
    "\n",
    "#apply numerical pipelines to num columns portion of data\n",
    "#apply one hot to category column\n",
    "full_pipeline = ColumnTransformer([ (\"num\", num_pipeline, num_attribs), \n",
    "                                   (\"cat\", OneHotEncoder(), cat_attribs),]) \n",
    "\n",
    "#apply the full pipeline to all of the data\n",
    "housing_prepared = full_pipeline.fit_transform( housing)\n",
    "\n",
    "\n"
   ]
  },
  {
   "cell_type": "code",
   "execution_count": null,
   "metadata": {},
   "outputs": [],
   "source": [
    "from sklearn.pipeline import Pipeline \n",
    "from sklearn.preprocessing import StandardScaler \n",
    "from sklearn.feature_selection import SelectFromModel\n",
    "from sklearn.linear_model import LogisticRegression\n",
    "from sklearn.svm import LinearSVC\n",
    "from sklearn.ensemble import RandomForestClassifier\n",
    "# selector = SelectFromModel(estimator=LogisticRegression()).fit(housing.iloc[:100], housing_labels.iloc[:100])\n",
    "\n",
    "from sklearn.preprocessing import FunctionTransformer\n",
    "\n",
    "def all_but_last_column(X):\n",
    "    return X[:,:-1]\n",
    "\n",
    "#set the sequence of transformations\n",
    "num_pipeline = Pipeline([ ('imputer', SimpleImputer(strategy =\"median\")),\n",
    "                         ('remove_lastcol', FunctionTransformer(all_but_last_column)),\n",
    "    ('feature_selection', SelectFromModel(LinearSVC(fit_intercept=\"false\"))),\n",
    "                            ('classification', RandomForestClassifier())]) \n",
    "\n",
    "\n",
    "#apply the sequence\n",
    "housing_num_tr = num_pipeline.fit_transform(housing_num)\n",
    "\n",
    "\n",
    "\n",
    "\n",
    "#this cell takes the \"ocean_proximity\" column and transforms it\n",
    "#to be numerical like the rest of our columns,\n",
    "#it does so using pipeline\n",
    "#we use \"ColumnTransformer\" as well\n",
    "from sklearn.compose import ColumnTransformer \n",
    "\n",
    "\n",
    "\n",
    "\n",
    "#get numerical columns\n",
    "num_attribs = list( housing_num) \n",
    "#get text columns\n",
    "cat_attribs = [\"ocean_proximity\"] \n",
    "\n",
    "\n",
    "\n",
    "#apply numerical pipelines to num columns portion of data\n",
    "#apply one hot to category column\n",
    "full_pipeline = ColumnTransformer([ (\"num\", num_pipeline, num_attribs), \n",
    "                                   (\"cat\", OneHotEncoder(), cat_attribs),]) \n",
    "\n",
    "#apply the full pipeline to all of the data\n",
    "housing_prepared = full_pipeline.fit_transform( housing)\n",
    "\n",
    "\n"
   ]
  },
  {
   "cell_type": "code",
   "execution_count": null,
   "metadata": {},
   "outputs": [],
   "source": [
    "dumbcopy = housing_tr.copy()"
   ]
  },
  {
   "cell_type": "code",
   "execution_count": null,
   "metadata": {},
   "outputs": [],
   "source": [
    "dumbcopy.info()"
   ]
  },
  {
   "cell_type": "code",
   "execution_count": null,
   "metadata": {},
   "outputs": [],
   "source": [
    "print(all_but_last_column(dumbcopy))"
   ]
  },
  {
   "cell_type": "code",
   "execution_count": null,
   "metadata": {},
   "outputs": [],
   "source": [
    "dumbcopy.drop(\"latitude\", axis = 1, inplace = True)"
   ]
  },
  {
   "cell_type": "code",
   "execution_count": null,
   "metadata": {},
   "outputs": [],
   "source": [
    "dumbcopy.info()"
   ]
  },
  {
   "cell_type": "code",
   "execution_count": null,
   "metadata": {},
   "outputs": [],
   "source": [
    "housing_num.info()"
   ]
  },
  {
   "cell_type": "code",
   "execution_count": null,
   "metadata": {},
   "outputs": [],
   "source": [
    "from sklearn.pipeline import Pipeline \n",
    "from sklearn.preprocessing import StandardScaler \n",
    "from sklearn.feature_selection import SelectFromModel\n",
    "from sklearn.linear_model import LogisticRegression\n",
    "from sklearn.svm import LinearSVC\n",
    "from sklearn.ensemble import RandomForestClassifier\n",
    "# selector = SelectFromModel(estimator=LogisticRegression()).fit(housing.iloc[:100], housing_labels.iloc[:100])\n",
    "\n",
    "from sklearn.preprocessing import FunctionTransformer\n",
    "\n",
    "def all_but_last_column(X):\n",
    "    return X[:,:-1]\n",
    "\n",
    "#set the sequence of transformations\n",
    "num_pipeline = Pipeline([ ('imputer', SimpleImputer(strategy =\"median\")),\n",
    "                         \n",
    "    ('feature_selection', SelectFromModel(LinearSVC(fit_intercept=\"false\"))),\n",
    "                            ('classification', RandomForestClassifier())]) \n",
    "\n",
    "\n",
    "#apply the sequence\n",
    "housing_num_tr = num_pipeline.fit_transform(housing_num)\n",
    "\n",
    "\n",
    "\n",
    "\n",
    "#this cell takes the \"ocean_proximity\" column and transforms it\n",
    "#to be numerical like the rest of our columns,\n",
    "#it does so using pipeline\n",
    "#we use \"ColumnTransformer\" as well\n",
    "from sklearn.compose import ColumnTransformer \n",
    "\n",
    "\n",
    "\n",
    "\n",
    "#get numerical columns\n",
    "num_attribs = list( housing_num) \n",
    "#get text columns\n",
    "cat_attribs = [\"ocean_proximity\"] \n",
    "\n",
    "\n",
    "\n",
    "#apply numerical pipelines to num columns portion of data\n",
    "#apply one hot to category column\n",
    "full_pipeline = ColumnTransformer([ (\"num\", num_pipeline, num_attribs), \n",
    "                                   (\"cat\", OneHotEncoder(), cat_attribs),]) \n",
    "\n",
    "#apply the full pipeline to all of the data\n",
    "housing_prepared = full_pipeline.fit_transform( housing)\n",
    "\n",
    "\n"
   ]
  },
  {
   "cell_type": "code",
   "execution_count": null,
   "metadata": {},
   "outputs": [],
   "source": [
    "housing_num_tr\n"
   ]
  },
  {
   "cell_type": "code",
   "execution_count": null,
   "metadata": {},
   "outputs": [],
   "source": [
    "housing_num.info()"
   ]
  },
  {
   "cell_type": "code",
   "execution_count": null,
   "metadata": {},
   "outputs": [],
   "source": [
    "housing.info()"
   ]
  },
  {
   "cell_type": "code",
   "execution_count": null,
   "metadata": {},
   "outputs": [],
   "source": [
    "median = housing[\"total_bedrooms\"]. median()\n",
    "\n",
    "from sklearn.impute import SimpleImputer \n",
    "imputer = SimpleImputer( strategy =\"median\")\n",
    "\n",
    "\n",
    "housing_num = housing.drop(\"ocean_proximity\", axis = 1)\n",
    "\n",
    "imputer.fit(housing_num)\n",
    "\n",
    "X = imputer.transform(housing_num)\n",
    "\n",
    "housing_num = pd.DataFrame(X, columns = housing_num.columns, index = housing_num.index)\n",
    "\n",
    "housing_num.info()\n",
    "\n"
   ]
  },
  {
   "cell_type": "code",
   "execution_count": null,
   "metadata": {},
   "outputs": [],
   "source": [
    "from sklearn.pipeline import Pipeline \n",
    "from sklearn.preprocessing import StandardScaler \n",
    "from sklearn.feature_selection import SelectFromModel\n",
    "from sklearn.linear_model import LogisticRegression\n",
    "from sklearn.svm import LinearSVC\n",
    "from sklearn.ensemble import RandomForestClassifier\n",
    "# selector = SelectFromModel(estimator=LogisticRegression()).fit(housing.iloc[:100], housing_labels.iloc[:100])\n",
    "\n",
    "from sklearn.preprocessing import FunctionTransformer\n",
    "\n",
    "def all_but_last_column(X):\n",
    "    return X[:,:-1]\n",
    "\n",
    "#set the sequence of transformations\n",
    "num_pipeline = Pipeline([ \n",
    "                         \n",
    "    ('feature_selection', SelectFromModel(LogisticRegression()).fit(housing_num, housing_labels)),\n",
    "                            ('classification', RandomForestClassifier())]) \n",
    "\n",
    "\n",
    "#apply the sequence\n",
    "housing_num_tr = num_pipeline.fit_transform(housing_num)\n",
    "\n",
    "\n",
    "\n",
    "\n",
    "#this cell takes the \"ocean_proximity\" column and transforms it\n",
    "#to be numerical like the rest of our columns,\n",
    "#it does so using pipeline\n",
    "#we use \"ColumnTransformer\" as well\n",
    "from sklearn.compose import ColumnTransformer \n",
    "\n",
    "\n",
    "\n",
    "\n",
    "#get numerical columns\n",
    "num_attribs = list( housing_num) \n",
    "#get text columns\n",
    "cat_attribs = [\"ocean_proximity\"] \n",
    "\n",
    "\n",
    "\n",
    "#apply numerical pipelines to num columns portion of data\n",
    "#apply one hot to category column\n",
    "full_pipeline = ColumnTransformer([ (\"num\", num_pipeline, num_attribs), \n",
    "                                   (\"cat\", OneHotEncoder(), cat_attribs),]) \n",
    "\n",
    "#apply the full pipeline to all of the data\n",
    "housing_prepared = full_pipeline.fit_transform( housing)\n",
    "\n",
    "\n"
   ]
  },
  {
   "cell_type": "code",
   "execution_count": null,
   "metadata": {},
   "outputs": [],
   "source": [
    "from sklearn.ensemble import RandomForestRegressor \n",
    "\n",
    "forest_reg = RandomForestRegressor() \n",
    "forest_reg.fit( housing_prepared, housing_labels)\n",
    "\n",
    "housing_predictions = forest_reg.predict(housing_prepared) \n",
    "forest_mse = mean_squared_error(housing_labels, housing_predictions) \n",
    "forest_rmse = np.sqrt(forest_mse) \n",
    "\n",
    "forest_rmse"
   ]
  },
  {
   "cell_type": "code",
   "execution_count": null,
   "metadata": {},
   "outputs": [],
   "source": [
    "num_attribs = list( housing_num_tr)\n",
    "attributes = num_attribs \n",
    "sorted( zip( feature_importances, attributes), reverse = True)"
   ]
  },
  {
   "cell_type": "code",
   "execution_count": null,
   "metadata": {},
   "outputs": [],
   "source": [
    "from sklearn.ensemble import RandomForestRegressor \n",
    "\n",
    "forest_reg = RandomForestRegressor() \n",
    "forest_reg.fit( housing_prepared, housing_labels)\n",
    "\n",
    "housing_predictions = forest_reg.predict(housing_prepared) \n",
    "forest_mse = mean_squared_error(housing_labels, housing_predictions) \n",
    "forest_rmse = np.sqrt(forest_mse) \n",
    "\n",
    "forest_rmse"
   ]
  },
  {
   "cell_type": "code",
   "execution_count": null,
   "metadata": {},
   "outputs": [],
   "source": [
    "\n"
   ]
  }
 ],
 "metadata": {
  "kernelspec": {
   "display_name": "Python 3",
   "language": "python",
   "name": "python3"
  },
  "language_info": {
   "codemirror_mode": {
    "name": "ipython",
    "version": 3
   },
   "file_extension": ".py",
   "mimetype": "text/x-python",
   "name": "python",
   "nbconvert_exporter": "python",
   "pygments_lexer": "ipython3",
   "version": "3.7.9"
  }
 },
 "nbformat": 4,
 "nbformat_minor": 4
}
